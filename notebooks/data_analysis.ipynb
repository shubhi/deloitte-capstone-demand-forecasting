{
 "cells": [
  {
   "cell_type": "markdown",
   "metadata": {},
   "source": [
    "## Dependencies"
   ]
  },
  {
   "cell_type": "code",
   "execution_count": 21,
   "metadata": {},
   "outputs": [],
   "source": [
    "import pandas as pd\n",
    "import numpy as np\n",
    "import scipy as sp\n",
    "import os"
   ]
  },
  {
   "cell_type": "markdown",
   "metadata": {},
   "source": [
    "## Data Set"
   ]
  },
  {
   "cell_type": "code",
   "execution_count": 22,
   "metadata": {},
   "outputs": [],
   "source": [
    "raw_dataset_path = '../dataset/raw/'\n",
    "processed_dataset_path = '../dataset/processed/'\n",
    "raw_dataset_file = 'Capstone_Dataset_v1.0.csv'\n",
    "processed_dataset_file = 'Processed_Capstone_Dataset_v1.0.csv'"
   ]
  },
  {
   "cell_type": "code",
   "execution_count": 24,
   "metadata": {},
   "outputs": [
    {
     "name": "stdout",
     "output_type": "stream",
     "text": [
      "Raw dataset 'Capstone_Dataset_v1.0.csv' loaded successfully from ../dataset/raw/\n",
      "<class 'pandas.core.frame.DataFrame'>\n",
      "RangeIndex: 71357 entries, 0 to 71356\n",
      "Data columns (total 8 columns):\n",
      " #   Column      Non-Null Count  Dtype  \n",
      "---  ------      --------------  -----  \n",
      " 0   ID          71357 non-null  object \n",
      " 1   DEPARTMENT  71357 non-null  object \n",
      " 2   CATEGORY    71357 non-null  object \n",
      " 3   SKU         71357 non-null  object \n",
      " 4   Store       71357 non-null  object \n",
      " 5   Week        71357 non-null  object \n",
      " 6   Units_Sold  71357 non-null  int64  \n",
      " 7   Net_Price   71357 non-null  float64\n",
      "dtypes: float64(1), int64(1), object(6)\n",
      "memory usage: 4.4+ MB\n"
     ]
    }
   ],
   "source": [
    "raw_dataset_full_path = os.path.join(raw_dataset_path, raw_dataset_file)\n",
    "df = pd.read_csv(raw_dataset_full_path)\n",
    "print(f\"Raw dataset '{raw_dataset_file}' loaded successfully from {raw_dataset_path}\")\n",
    "df.info()"
   ]
  },
  {
   "cell_type": "code",
   "execution_count": 26,
   "metadata": {},
   "outputs": [
    {
     "data": {
      "text/html": [
       "<div>\n",
       "<style scoped>\n",
       "    .dataframe tbody tr th:only-of-type {\n",
       "        vertical-align: middle;\n",
       "    }\n",
       "\n",
       "    .dataframe tbody tr th {\n",
       "        vertical-align: top;\n",
       "    }\n",
       "\n",
       "    .dataframe thead th {\n",
       "        text-align: right;\n",
       "    }\n",
       "</style>\n",
       "<table border=\"1\" class=\"dataframe\">\n",
       "  <thead>\n",
       "    <tr style=\"text-align: right;\">\n",
       "      <th></th>\n",
       "      <th>ID</th>\n",
       "      <th>DEPARTMENT</th>\n",
       "      <th>CATEGORY</th>\n",
       "      <th>SKU</th>\n",
       "      <th>Store</th>\n",
       "      <th>Week</th>\n",
       "      <th>Units_Sold</th>\n",
       "      <th>Net_Price</th>\n",
       "    </tr>\n",
       "  </thead>\n",
       "  <tbody>\n",
       "    <tr>\n",
       "      <th>0</th>\n",
       "      <td>Store_6_SKU238</td>\n",
       "      <td>Dept13</td>\n",
       "      <td>Category34</td>\n",
       "      <td>SKU238</td>\n",
       "      <td>Store_6</td>\n",
       "      <td>3/31/2021</td>\n",
       "      <td>625</td>\n",
       "      <td>2.04</td>\n",
       "    </tr>\n",
       "    <tr>\n",
       "      <th>1</th>\n",
       "      <td>Store_18_SKU329</td>\n",
       "      <td>Dept18</td>\n",
       "      <td>Category42</td>\n",
       "      <td>SKU329</td>\n",
       "      <td>Store_18</td>\n",
       "      <td>3/31/2021</td>\n",
       "      <td>209</td>\n",
       "      <td>26.73</td>\n",
       "    </tr>\n",
       "    <tr>\n",
       "      <th>2</th>\n",
       "      <td>Store_3_SKU76</td>\n",
       "      <td>Dept5</td>\n",
       "      <td>Category24</td>\n",
       "      <td>SKU76</td>\n",
       "      <td>Store_3</td>\n",
       "      <td>3/31/2021</td>\n",
       "      <td>2146</td>\n",
       "      <td>21.72</td>\n",
       "    </tr>\n",
       "    <tr>\n",
       "      <th>3</th>\n",
       "      <td>Store_16_SKU18</td>\n",
       "      <td>Dept17</td>\n",
       "      <td>Category70</td>\n",
       "      <td>SKU18</td>\n",
       "      <td>Store_16</td>\n",
       "      <td>3/31/2021</td>\n",
       "      <td>317</td>\n",
       "      <td>2.64</td>\n",
       "    </tr>\n",
       "    <tr>\n",
       "      <th>4</th>\n",
       "      <td>Store_5_SKU719</td>\n",
       "      <td>Dept43</td>\n",
       "      <td>Category12</td>\n",
       "      <td>SKU719</td>\n",
       "      <td>Store_5</td>\n",
       "      <td>3/31/2021</td>\n",
       "      <td>97</td>\n",
       "      <td>23.82</td>\n",
       "    </tr>\n",
       "  </tbody>\n",
       "</table>\n",
       "</div>"
      ],
      "text/plain": [
       "                ID DEPARTMENT    CATEGORY     SKU     Store       Week  \\\n",
       "0   Store_6_SKU238     Dept13  Category34  SKU238   Store_6  3/31/2021   \n",
       "1  Store_18_SKU329     Dept18  Category42  SKU329  Store_18  3/31/2021   \n",
       "2    Store_3_SKU76      Dept5  Category24   SKU76   Store_3  3/31/2021   \n",
       "3   Store_16_SKU18     Dept17  Category70   SKU18  Store_16  3/31/2021   \n",
       "4   Store_5_SKU719     Dept43  Category12  SKU719   Store_5  3/31/2021   \n",
       "\n",
       "   Units_Sold  Net_Price  \n",
       "0         625       2.04  \n",
       "1         209      26.73  \n",
       "2        2146      21.72  \n",
       "3         317       2.64  \n",
       "4          97      23.82  "
      ]
     },
     "execution_count": 26,
     "metadata": {},
     "output_type": "execute_result"
    }
   ],
   "source": [
    "df.head()"
   ]
  },
  {
   "cell_type": "markdown",
   "metadata": {},
   "source": [
    "ID: Identifies each product sold in a specific store.\n",
    "DEPARTMENT: The department to which the product belongs.\n",
    "CATEGORY: The category of the product.\n",
    "SKU: Stock-keeping unit, a unique identifier for each product.\n",
    "Store: The store where the sales occurred.\n",
    "Week: The date when sales occurred (weekly).\n",
    "Units_Sold: Number of units sold.\n",
    "Net_Price: Net price of the sold product."
   ]
  },
  {
   "cell_type": "markdown",
   "metadata": {},
   "source": [
    "## Cleansing and Wrangling"
   ]
  },
  {
   "cell_type": "code",
   "execution_count": 27,
   "metadata": {},
   "outputs": [
    {
     "data": {
      "text/html": [
       "<div>\n",
       "<style scoped>\n",
       "    .dataframe tbody tr th:only-of-type {\n",
       "        vertical-align: middle;\n",
       "    }\n",
       "\n",
       "    .dataframe tbody tr th {\n",
       "        vertical-align: top;\n",
       "    }\n",
       "\n",
       "    .dataframe thead th {\n",
       "        text-align: right;\n",
       "    }\n",
       "</style>\n",
       "<table border=\"1\" class=\"dataframe\">\n",
       "  <thead>\n",
       "    <tr style=\"text-align: right;\">\n",
       "      <th></th>\n",
       "      <th>ID</th>\n",
       "      <th>DEPARTMENT</th>\n",
       "      <th>CATEGORY</th>\n",
       "      <th>SKU</th>\n",
       "      <th>Store</th>\n",
       "      <th>Week</th>\n",
       "      <th>Units_Sold</th>\n",
       "      <th>Net_Price</th>\n",
       "    </tr>\n",
       "  </thead>\n",
       "  <tbody>\n",
       "    <tr>\n",
       "      <th>0</th>\n",
       "      <td>Store_6_SKU238</td>\n",
       "      <td>Dept13</td>\n",
       "      <td>Category34</td>\n",
       "      <td>SKU238</td>\n",
       "      <td>Store_6</td>\n",
       "      <td>2021-03-31</td>\n",
       "      <td>625</td>\n",
       "      <td>2.04</td>\n",
       "    </tr>\n",
       "    <tr>\n",
       "      <th>1</th>\n",
       "      <td>Store_18_SKU329</td>\n",
       "      <td>Dept18</td>\n",
       "      <td>Category42</td>\n",
       "      <td>SKU329</td>\n",
       "      <td>Store_18</td>\n",
       "      <td>2021-03-31</td>\n",
       "      <td>209</td>\n",
       "      <td>26.73</td>\n",
       "    </tr>\n",
       "    <tr>\n",
       "      <th>2</th>\n",
       "      <td>Store_3_SKU76</td>\n",
       "      <td>Dept5</td>\n",
       "      <td>Category24</td>\n",
       "      <td>SKU76</td>\n",
       "      <td>Store_3</td>\n",
       "      <td>2021-03-31</td>\n",
       "      <td>2146</td>\n",
       "      <td>21.72</td>\n",
       "    </tr>\n",
       "    <tr>\n",
       "      <th>3</th>\n",
       "      <td>Store_16_SKU18</td>\n",
       "      <td>Dept17</td>\n",
       "      <td>Category70</td>\n",
       "      <td>SKU18</td>\n",
       "      <td>Store_16</td>\n",
       "      <td>2021-03-31</td>\n",
       "      <td>317</td>\n",
       "      <td>2.64</td>\n",
       "    </tr>\n",
       "    <tr>\n",
       "      <th>4</th>\n",
       "      <td>Store_5_SKU719</td>\n",
       "      <td>Dept43</td>\n",
       "      <td>Category12</td>\n",
       "      <td>SKU719</td>\n",
       "      <td>Store_5</td>\n",
       "      <td>2021-03-31</td>\n",
       "      <td>97</td>\n",
       "      <td>23.82</td>\n",
       "    </tr>\n",
       "  </tbody>\n",
       "</table>\n",
       "</div>"
      ],
      "text/plain": [
       "                ID DEPARTMENT    CATEGORY     SKU     Store       Week  \\\n",
       "0   Store_6_SKU238     Dept13  Category34  SKU238   Store_6 2021-03-31   \n",
       "1  Store_18_SKU329     Dept18  Category42  SKU329  Store_18 2021-03-31   \n",
       "2    Store_3_SKU76      Dept5  Category24   SKU76   Store_3 2021-03-31   \n",
       "3   Store_16_SKU18     Dept17  Category70   SKU18  Store_16 2021-03-31   \n",
       "4   Store_5_SKU719     Dept43  Category12  SKU719   Store_5 2021-03-31   \n",
       "\n",
       "   Units_Sold  Net_Price  \n",
       "0         625       2.04  \n",
       "1         209      26.73  \n",
       "2        2146      21.72  \n",
       "3         317       2.64  \n",
       "4          97      23.82  "
      ]
     },
     "execution_count": 27,
     "metadata": {},
     "output_type": "execute_result"
    }
   ],
   "source": [
    "df['Week'] = pd.to_datetime(df['Week'], format='%m/%d/%Y')\n",
    "df.head()"
   ]
  },
  {
   "cell_type": "code",
   "execution_count": 28,
   "metadata": {},
   "outputs": [
    {
     "name": "stdout",
     "output_type": "stream",
     "text": [
      "Missing values in the dataset before cleaning:\n",
      "ID            0\n",
      "DEPARTMENT    0\n",
      "CATEGORY      0\n",
      "SKU           0\n",
      "Store         0\n",
      "Week          0\n",
      "Units_Sold    0\n",
      "Net_Price     0\n",
      "dtype: int64\n"
     ]
    }
   ],
   "source": [
    "missing_values = df.isnull().sum()\n",
    "print(\"Missing values in the dataset before cleaning:\")\n",
    "print(missing_values)"
   ]
  },
  {
   "cell_type": "code",
   "execution_count": 29,
   "metadata": {},
   "outputs": [],
   "source": [
    "df.drop_duplicates(inplace=True)"
   ]
  },
  {
   "cell_type": "code",
   "execution_count": 30,
   "metadata": {},
   "outputs": [],
   "source": [
    "# Feature 1: Total Revenue (Units_Sold * Net_Price)\n",
    "df['Total_Revenue'] = df['Units_Sold'] * df['Net_Price']"
   ]
  },
  {
   "cell_type": "code",
   "execution_count": 35,
   "metadata": {},
   "outputs": [],
   "source": [
    "df['Net_Price'] = df['Net_Price'].round(2)\n",
    "df['Total_Revenue'] = df['Total_Revenue'].round(2)"
   ]
  },
  {
   "cell_type": "code",
   "execution_count": 31,
   "metadata": {},
   "outputs": [],
   "source": [
    "# Feature 2: Extract time-based features from 'Week'\n",
    "df['Year'] = df['Week'].dt.year\n",
    "df['Month'] = df['Week'].dt.month\n",
    "df['Week_Number'] = df['Week'].dt.isocalendar().week"
   ]
  },
  {
   "cell_type": "code",
   "execution_count": 36,
   "metadata": {},
   "outputs": [
    {
     "name": "stdout",
     "output_type": "stream",
     "text": [
      "<class 'pandas.core.frame.DataFrame'>\n",
      "RangeIndex: 71357 entries, 0 to 71356\n",
      "Data columns (total 12 columns):\n",
      " #   Column         Non-Null Count  Dtype         \n",
      "---  ------         --------------  -----         \n",
      " 0   ID             71357 non-null  object        \n",
      " 1   DEPARTMENT     71357 non-null  object        \n",
      " 2   CATEGORY       71357 non-null  object        \n",
      " 3   SKU            71357 non-null  object        \n",
      " 4   Store          71357 non-null  object        \n",
      " 5   Week           71357 non-null  datetime64[ns]\n",
      " 6   Units_Sold     71357 non-null  int64         \n",
      " 7   Net_Price      71357 non-null  float64       \n",
      " 8   Total_Revenue  71357 non-null  float64       \n",
      " 9   Year           71357 non-null  int32         \n",
      " 10  Month          71357 non-null  int32         \n",
      " 11  Week_Number    71357 non-null  UInt32        \n",
      "dtypes: UInt32(1), datetime64[ns](1), float64(2), int32(2), int64(1), object(5)\n",
      "memory usage: 5.8+ MB\n"
     ]
    }
   ],
   "source": [
    "df_cleaned_head = df.head()\n",
    "df_cleaned_info = df.info()"
   ]
  },
  {
   "cell_type": "code",
   "execution_count": 37,
   "metadata": {},
   "outputs": [
    {
     "data": {
      "text/html": [
       "<div>\n",
       "<style scoped>\n",
       "    .dataframe tbody tr th:only-of-type {\n",
       "        vertical-align: middle;\n",
       "    }\n",
       "\n",
       "    .dataframe tbody tr th {\n",
       "        vertical-align: top;\n",
       "    }\n",
       "\n",
       "    .dataframe thead th {\n",
       "        text-align: right;\n",
       "    }\n",
       "</style>\n",
       "<table border=\"1\" class=\"dataframe\">\n",
       "  <thead>\n",
       "    <tr style=\"text-align: right;\">\n",
       "      <th></th>\n",
       "      <th>ID</th>\n",
       "      <th>DEPARTMENT</th>\n",
       "      <th>CATEGORY</th>\n",
       "      <th>SKU</th>\n",
       "      <th>Store</th>\n",
       "      <th>Week</th>\n",
       "      <th>Units_Sold</th>\n",
       "      <th>Net_Price</th>\n",
       "      <th>Total_Revenue</th>\n",
       "      <th>Year</th>\n",
       "      <th>Month</th>\n",
       "      <th>Week_Number</th>\n",
       "    </tr>\n",
       "  </thead>\n",
       "  <tbody>\n",
       "    <tr>\n",
       "      <th>0</th>\n",
       "      <td>Store_6_SKU238</td>\n",
       "      <td>Dept13</td>\n",
       "      <td>Category34</td>\n",
       "      <td>SKU238</td>\n",
       "      <td>Store_6</td>\n",
       "      <td>2021-03-31</td>\n",
       "      <td>625</td>\n",
       "      <td>2.04</td>\n",
       "      <td>1275.00</td>\n",
       "      <td>2021</td>\n",
       "      <td>3</td>\n",
       "      <td>13</td>\n",
       "    </tr>\n",
       "    <tr>\n",
       "      <th>1</th>\n",
       "      <td>Store_18_SKU329</td>\n",
       "      <td>Dept18</td>\n",
       "      <td>Category42</td>\n",
       "      <td>SKU329</td>\n",
       "      <td>Store_18</td>\n",
       "      <td>2021-03-31</td>\n",
       "      <td>209</td>\n",
       "      <td>26.73</td>\n",
       "      <td>5586.57</td>\n",
       "      <td>2021</td>\n",
       "      <td>3</td>\n",
       "      <td>13</td>\n",
       "    </tr>\n",
       "    <tr>\n",
       "      <th>2</th>\n",
       "      <td>Store_3_SKU76</td>\n",
       "      <td>Dept5</td>\n",
       "      <td>Category24</td>\n",
       "      <td>SKU76</td>\n",
       "      <td>Store_3</td>\n",
       "      <td>2021-03-31</td>\n",
       "      <td>2146</td>\n",
       "      <td>21.72</td>\n",
       "      <td>46611.12</td>\n",
       "      <td>2021</td>\n",
       "      <td>3</td>\n",
       "      <td>13</td>\n",
       "    </tr>\n",
       "    <tr>\n",
       "      <th>3</th>\n",
       "      <td>Store_16_SKU18</td>\n",
       "      <td>Dept17</td>\n",
       "      <td>Category70</td>\n",
       "      <td>SKU18</td>\n",
       "      <td>Store_16</td>\n",
       "      <td>2021-03-31</td>\n",
       "      <td>317</td>\n",
       "      <td>2.64</td>\n",
       "      <td>836.88</td>\n",
       "      <td>2021</td>\n",
       "      <td>3</td>\n",
       "      <td>13</td>\n",
       "    </tr>\n",
       "    <tr>\n",
       "      <th>4</th>\n",
       "      <td>Store_5_SKU719</td>\n",
       "      <td>Dept43</td>\n",
       "      <td>Category12</td>\n",
       "      <td>SKU719</td>\n",
       "      <td>Store_5</td>\n",
       "      <td>2021-03-31</td>\n",
       "      <td>97</td>\n",
       "      <td>23.82</td>\n",
       "      <td>2310.54</td>\n",
       "      <td>2021</td>\n",
       "      <td>3</td>\n",
       "      <td>13</td>\n",
       "    </tr>\n",
       "  </tbody>\n",
       "</table>\n",
       "</div>"
      ],
      "text/plain": [
       "                ID DEPARTMENT    CATEGORY     SKU     Store       Week  \\\n",
       "0   Store_6_SKU238     Dept13  Category34  SKU238   Store_6 2021-03-31   \n",
       "1  Store_18_SKU329     Dept18  Category42  SKU329  Store_18 2021-03-31   \n",
       "2    Store_3_SKU76      Dept5  Category24   SKU76   Store_3 2021-03-31   \n",
       "3   Store_16_SKU18     Dept17  Category70   SKU18  Store_16 2021-03-31   \n",
       "4   Store_5_SKU719     Dept43  Category12  SKU719   Store_5 2021-03-31   \n",
       "\n",
       "   Units_Sold  Net_Price  Total_Revenue  Year  Month  Week_Number  \n",
       "0         625       2.04        1275.00  2021      3           13  \n",
       "1         209      26.73        5586.57  2021      3           13  \n",
       "2        2146      21.72       46611.12  2021      3           13  \n",
       "3         317       2.64         836.88  2021      3           13  \n",
       "4          97      23.82        2310.54  2021      3           13  "
      ]
     },
     "execution_count": 37,
     "metadata": {},
     "output_type": "execute_result"
    }
   ],
   "source": [
    "df_cleaned_head"
   ]
  },
  {
   "cell_type": "code",
   "execution_count": 38,
   "metadata": {},
   "outputs": [
    {
     "name": "stdout",
     "output_type": "stream",
     "text": [
      "Processed dataset saved successfully as 'Processed_Capstone_Dataset_v1.0.csv' in ../dataset/processed/.\n"
     ]
    }
   ],
   "source": [
    "processed_dataset_full_path = os.path.join(processed_dataset_path, processed_dataset_file)\n",
    "df.to_csv(processed_dataset_full_path, index=False)\n",
    "print(f\"Processed dataset saved successfully as '{processed_dataset_file}' in {processed_dataset_path}.\")"
   ]
  },
  {
   "cell_type": "markdown",
   "metadata": {},
   "source": [
    "## EDA - Exploratory Data Analysis"
   ]
  },
  {
   "cell_type": "code",
   "execution_count": 40,
   "metadata": {},
   "outputs": [],
   "source": [
    "df = pd.read_csv(processed_dataset_full_path)"
   ]
  },
  {
   "cell_type": "code",
   "execution_count": 41,
   "metadata": {},
   "outputs": [
    {
     "name": "stdout",
     "output_type": "stream",
     "text": [
      "<class 'pandas.core.frame.DataFrame'>\n",
      "RangeIndex: 71357 entries, 0 to 71356\n",
      "Data columns (total 12 columns):\n",
      " #   Column         Non-Null Count  Dtype  \n",
      "---  ------         --------------  -----  \n",
      " 0   ID             71357 non-null  object \n",
      " 1   DEPARTMENT     71357 non-null  object \n",
      " 2   CATEGORY       71357 non-null  object \n",
      " 3   SKU            71357 non-null  object \n",
      " 4   Store          71357 non-null  object \n",
      " 5   Week           71357 non-null  object \n",
      " 6   Units_Sold     71357 non-null  int64  \n",
      " 7   Net_Price      71357 non-null  float64\n",
      " 8   Total_Revenue  71357 non-null  float64\n",
      " 9   Year           71357 non-null  int64  \n",
      " 10  Month          71357 non-null  int64  \n",
      " 11  Week_Number    71357 non-null  int64  \n",
      "dtypes: float64(2), int64(4), object(6)\n",
      "memory usage: 6.5+ MB\n"
     ]
    }
   ],
   "source": [
    "df.info()"
   ]
  },
  {
   "cell_type": "code",
   "execution_count": 43,
   "metadata": {},
   "outputs": [
    {
     "data": {
      "text/html": [
       "<div>\n",
       "<style scoped>\n",
       "    .dataframe tbody tr th:only-of-type {\n",
       "        vertical-align: middle;\n",
       "    }\n",
       "\n",
       "    .dataframe tbody tr th {\n",
       "        vertical-align: top;\n",
       "    }\n",
       "\n",
       "    .dataframe thead th {\n",
       "        text-align: right;\n",
       "    }\n",
       "</style>\n",
       "<table border=\"1\" class=\"dataframe\">\n",
       "  <thead>\n",
       "    <tr style=\"text-align: right;\">\n",
       "      <th></th>\n",
       "      <th>ID</th>\n",
       "      <th>DEPARTMENT</th>\n",
       "      <th>CATEGORY</th>\n",
       "      <th>SKU</th>\n",
       "      <th>Store</th>\n",
       "      <th>Week</th>\n",
       "      <th>Units_Sold</th>\n",
       "      <th>Net_Price</th>\n",
       "      <th>Total_Revenue</th>\n",
       "      <th>Year</th>\n",
       "      <th>Month</th>\n",
       "      <th>Week_Number</th>\n",
       "    </tr>\n",
       "  </thead>\n",
       "  <tbody>\n",
       "    <tr>\n",
       "      <th>0</th>\n",
       "      <td>Store_6_SKU238</td>\n",
       "      <td>Dept13</td>\n",
       "      <td>Category34</td>\n",
       "      <td>SKU238</td>\n",
       "      <td>Store_6</td>\n",
       "      <td>2021-03-31</td>\n",
       "      <td>625</td>\n",
       "      <td>2.04</td>\n",
       "      <td>1275.00</td>\n",
       "      <td>2021</td>\n",
       "      <td>3</td>\n",
       "      <td>13</td>\n",
       "    </tr>\n",
       "    <tr>\n",
       "      <th>1</th>\n",
       "      <td>Store_18_SKU329</td>\n",
       "      <td>Dept18</td>\n",
       "      <td>Category42</td>\n",
       "      <td>SKU329</td>\n",
       "      <td>Store_18</td>\n",
       "      <td>2021-03-31</td>\n",
       "      <td>209</td>\n",
       "      <td>26.73</td>\n",
       "      <td>5586.57</td>\n",
       "      <td>2021</td>\n",
       "      <td>3</td>\n",
       "      <td>13</td>\n",
       "    </tr>\n",
       "    <tr>\n",
       "      <th>2</th>\n",
       "      <td>Store_3_SKU76</td>\n",
       "      <td>Dept5</td>\n",
       "      <td>Category24</td>\n",
       "      <td>SKU76</td>\n",
       "      <td>Store_3</td>\n",
       "      <td>2021-03-31</td>\n",
       "      <td>2146</td>\n",
       "      <td>21.72</td>\n",
       "      <td>46611.12</td>\n",
       "      <td>2021</td>\n",
       "      <td>3</td>\n",
       "      <td>13</td>\n",
       "    </tr>\n",
       "    <tr>\n",
       "      <th>3</th>\n",
       "      <td>Store_16_SKU18</td>\n",
       "      <td>Dept17</td>\n",
       "      <td>Category70</td>\n",
       "      <td>SKU18</td>\n",
       "      <td>Store_16</td>\n",
       "      <td>2021-03-31</td>\n",
       "      <td>317</td>\n",
       "      <td>2.64</td>\n",
       "      <td>836.88</td>\n",
       "      <td>2021</td>\n",
       "      <td>3</td>\n",
       "      <td>13</td>\n",
       "    </tr>\n",
       "    <tr>\n",
       "      <th>4</th>\n",
       "      <td>Store_5_SKU719</td>\n",
       "      <td>Dept43</td>\n",
       "      <td>Category12</td>\n",
       "      <td>SKU719</td>\n",
       "      <td>Store_5</td>\n",
       "      <td>2021-03-31</td>\n",
       "      <td>97</td>\n",
       "      <td>23.82</td>\n",
       "      <td>2310.54</td>\n",
       "      <td>2021</td>\n",
       "      <td>3</td>\n",
       "      <td>13</td>\n",
       "    </tr>\n",
       "  </tbody>\n",
       "</table>\n",
       "</div>"
      ],
      "text/plain": [
       "                ID DEPARTMENT    CATEGORY     SKU     Store        Week  \\\n",
       "0   Store_6_SKU238     Dept13  Category34  SKU238   Store_6  2021-03-31   \n",
       "1  Store_18_SKU329     Dept18  Category42  SKU329  Store_18  2021-03-31   \n",
       "2    Store_3_SKU76      Dept5  Category24   SKU76   Store_3  2021-03-31   \n",
       "3   Store_16_SKU18     Dept17  Category70   SKU18  Store_16  2021-03-31   \n",
       "4   Store_5_SKU719     Dept43  Category12  SKU719   Store_5  2021-03-31   \n",
       "\n",
       "   Units_Sold  Net_Price  Total_Revenue  Year  Month  Week_Number  \n",
       "0         625       2.04        1275.00  2021      3           13  \n",
       "1         209      26.73        5586.57  2021      3           13  \n",
       "2        2146      21.72       46611.12  2021      3           13  \n",
       "3         317       2.64         836.88  2021      3           13  \n",
       "4          97      23.82        2310.54  2021      3           13  "
      ]
     },
     "execution_count": 43,
     "metadata": {},
     "output_type": "execute_result"
    }
   ],
   "source": [
    "df.head()"
   ]
  }
 ],
 "metadata": {
  "kernelspec": {
   "display_name": ".venv",
   "language": "python",
   "name": "python3"
  },
  "language_info": {
   "codemirror_mode": {
    "name": "ipython",
    "version": 3
   },
   "file_extension": ".py",
   "mimetype": "text/x-python",
   "name": "python",
   "nbconvert_exporter": "python",
   "pygments_lexer": "ipython3",
   "version": "3.12.5"
  }
 },
 "nbformat": 4,
 "nbformat_minor": 2
}
