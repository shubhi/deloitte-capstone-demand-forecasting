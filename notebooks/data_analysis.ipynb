{
 "cells": [
  {
   "cell_type": "markdown",
   "metadata": {},
   "source": [
    "## Dependencies"
   ]
  },
  {
   "cell_type": "code",
   "execution_count": 4,
   "metadata": {},
   "outputs": [],
   "source": [
    "import pandas as pd\n",
    "import numpy as np\n",
    "import scipy as sp\n",
    "import os\n",
    "import matplotlib.pyplot as plt\n",
    "import seaborn as sns\n",
    "import plotly.express as px\n",
    "import ipywidgets as widgets\n",
    "from IPython.display import display, clear_output"
   ]
  },
  {
   "cell_type": "code",
   "execution_count": 5,
   "metadata": {},
   "outputs": [],
   "source": [
    "import warnings\n",
    "\n",
    "# Ignore all warnings\n",
    "warnings.filterwarnings(\"ignore\")"
   ]
  },
  {
   "cell_type": "markdown",
   "metadata": {},
   "source": [
    "## Data Set"
   ]
  },
  {
   "cell_type": "code",
   "execution_count": 6,
   "metadata": {},
   "outputs": [],
   "source": [
    "raw_dataset_path = '../dataset/raw/'\n",
    "processed_dataset_path = '../dataset/processed/'\n",
    "raw_dataset_file = 'Capstone_Dataset_v1.0.csv'\n",
    "processed_dataset_file = 'Processed_Capstone_Dataset_v1.0.csv'"
   ]
  },
  {
   "cell_type": "code",
   "execution_count": 12,
   "metadata": {},
   "outputs": [
    {
     "name": "stdout",
     "output_type": "stream",
     "text": [
      "Raw dataset 'Capstone_Dataset_v1.0.csv' loaded successfully from ../dataset/raw/\n",
      "<class 'pandas.core.frame.DataFrame'>\n",
      "RangeIndex: 71357 entries, 0 to 71356\n",
      "Data columns (total 8 columns):\n",
      " #   Column      Non-Null Count  Dtype  \n",
      "---  ------      --------------  -----  \n",
      " 0   ID          71357 non-null  object \n",
      " 1   DEPARTMENT  71357 non-null  object \n",
      " 2   CATEGORY    71357 non-null  object \n",
      " 3   SKU         71357 non-null  object \n",
      " 4   Store       71357 non-null  object \n",
      " 5   Week        71357 non-null  object \n",
      " 6   Units_Sold  71357 non-null  int64  \n",
      " 7   Net_Price   71357 non-null  float64\n",
      "dtypes: float64(1), int64(1), object(6)\n",
      "memory usage: 4.4+ MB\n"
     ]
    }
   ],
   "source": [
    "raw_dataset_full_path = os.path.join(raw_dataset_path, raw_dataset_file)\n",
    "df = pd.read_csv(raw_dataset_full_path)\n",
    "print(f\"Raw dataset '{raw_dataset_file}' loaded successfully from {raw_dataset_path}\")\n",
    "df.info()"
   ]
  },
  {
   "cell_type": "markdown",
   "metadata": {},
   "source": [
    "## Cleansing and Wrangling"
   ]
  },
  {
   "cell_type": "code",
   "execution_count": 13,
   "metadata": {},
   "outputs": [
    {
     "data": {
      "text/html": [
       "<div>\n",
       "<style scoped>\n",
       "    .dataframe tbody tr th:only-of-type {\n",
       "        vertical-align: middle;\n",
       "    }\n",
       "\n",
       "    .dataframe tbody tr th {\n",
       "        vertical-align: top;\n",
       "    }\n",
       "\n",
       "    .dataframe thead th {\n",
       "        text-align: right;\n",
       "    }\n",
       "</style>\n",
       "<table border=\"1\" class=\"dataframe\">\n",
       "  <thead>\n",
       "    <tr style=\"text-align: right;\">\n",
       "      <th></th>\n",
       "      <th>ID</th>\n",
       "      <th>DEPARTMENT</th>\n",
       "      <th>CATEGORY</th>\n",
       "      <th>SKU</th>\n",
       "      <th>Store</th>\n",
       "      <th>Week</th>\n",
       "      <th>Units_Sold</th>\n",
       "      <th>Net_Price</th>\n",
       "    </tr>\n",
       "  </thead>\n",
       "  <tbody>\n",
       "    <tr>\n",
       "      <th>0</th>\n",
       "      <td>Store_6_SKU238</td>\n",
       "      <td>Dept13</td>\n",
       "      <td>Category34</td>\n",
       "      <td>SKU238</td>\n",
       "      <td>Store_6</td>\n",
       "      <td>2021-03-31</td>\n",
       "      <td>625</td>\n",
       "      <td>2.04</td>\n",
       "    </tr>\n",
       "    <tr>\n",
       "      <th>1</th>\n",
       "      <td>Store_18_SKU329</td>\n",
       "      <td>Dept18</td>\n",
       "      <td>Category42</td>\n",
       "      <td>SKU329</td>\n",
       "      <td>Store_18</td>\n",
       "      <td>2021-03-31</td>\n",
       "      <td>209</td>\n",
       "      <td>26.73</td>\n",
       "    </tr>\n",
       "    <tr>\n",
       "      <th>2</th>\n",
       "      <td>Store_3_SKU76</td>\n",
       "      <td>Dept5</td>\n",
       "      <td>Category24</td>\n",
       "      <td>SKU76</td>\n",
       "      <td>Store_3</td>\n",
       "      <td>2021-03-31</td>\n",
       "      <td>2146</td>\n",
       "      <td>21.72</td>\n",
       "    </tr>\n",
       "    <tr>\n",
       "      <th>3</th>\n",
       "      <td>Store_16_SKU18</td>\n",
       "      <td>Dept17</td>\n",
       "      <td>Category70</td>\n",
       "      <td>SKU18</td>\n",
       "      <td>Store_16</td>\n",
       "      <td>2021-03-31</td>\n",
       "      <td>317</td>\n",
       "      <td>2.64</td>\n",
       "    </tr>\n",
       "    <tr>\n",
       "      <th>4</th>\n",
       "      <td>Store_5_SKU719</td>\n",
       "      <td>Dept43</td>\n",
       "      <td>Category12</td>\n",
       "      <td>SKU719</td>\n",
       "      <td>Store_5</td>\n",
       "      <td>2021-03-31</td>\n",
       "      <td>97</td>\n",
       "      <td>23.82</td>\n",
       "    </tr>\n",
       "  </tbody>\n",
       "</table>\n",
       "</div>"
      ],
      "text/plain": [
       "                ID DEPARTMENT    CATEGORY     SKU     Store       Week  \\\n",
       "0   Store_6_SKU238     Dept13  Category34  SKU238   Store_6 2021-03-31   \n",
       "1  Store_18_SKU329     Dept18  Category42  SKU329  Store_18 2021-03-31   \n",
       "2    Store_3_SKU76      Dept5  Category24   SKU76   Store_3 2021-03-31   \n",
       "3   Store_16_SKU18     Dept17  Category70   SKU18  Store_16 2021-03-31   \n",
       "4   Store_5_SKU719     Dept43  Category12  SKU719   Store_5 2021-03-31   \n",
       "\n",
       "   Units_Sold  Net_Price  \n",
       "0         625       2.04  \n",
       "1         209      26.73  \n",
       "2        2146      21.72  \n",
       "3         317       2.64  \n",
       "4          97      23.82  "
      ]
     },
     "execution_count": 13,
     "metadata": {},
     "output_type": "execute_result"
    }
   ],
   "source": [
    "df['Week'] = pd.to_datetime(df['Week'], format='%m/%d/%Y')\n",
    "df.head()"
   ]
  },
  {
   "cell_type": "code",
   "execution_count": 14,
   "metadata": {},
   "outputs": [
    {
     "name": "stdout",
     "output_type": "stream",
     "text": [
      "Missing values in the dataset before cleaning:\n",
      "ID            0\n",
      "DEPARTMENT    0\n",
      "CATEGORY      0\n",
      "SKU           0\n",
      "Store         0\n",
      "Week          0\n",
      "Units_Sold    0\n",
      "Net_Price     0\n",
      "dtype: int64\n"
     ]
    }
   ],
   "source": [
    "missing_values = df.isnull().sum()\n",
    "print(\"Missing values in the dataset before cleaning:\")\n",
    "print(missing_values)"
   ]
  },
  {
   "cell_type": "code",
   "execution_count": 15,
   "metadata": {},
   "outputs": [],
   "source": [
    "df.drop_duplicates(inplace=True)"
   ]
  },
  {
   "cell_type": "code",
   "execution_count": 16,
   "metadata": {},
   "outputs": [
    {
     "data": {
      "text/html": [
       "<div>\n",
       "<style scoped>\n",
       "    .dataframe tbody tr th:only-of-type {\n",
       "        vertical-align: middle;\n",
       "    }\n",
       "\n",
       "    .dataframe tbody tr th {\n",
       "        vertical-align: top;\n",
       "    }\n",
       "\n",
       "    .dataframe thead th {\n",
       "        text-align: right;\n",
       "    }\n",
       "</style>\n",
       "<table border=\"1\" class=\"dataframe\">\n",
       "  <thead>\n",
       "    <tr style=\"text-align: right;\">\n",
       "      <th></th>\n",
       "      <th>ID</th>\n",
       "      <th>DEPARTMENT</th>\n",
       "      <th>CATEGORY</th>\n",
       "      <th>SKU</th>\n",
       "      <th>Store</th>\n",
       "      <th>Week</th>\n",
       "      <th>Units_Sold</th>\n",
       "      <th>Net_Price</th>\n",
       "    </tr>\n",
       "  </thead>\n",
       "  <tbody>\n",
       "    <tr>\n",
       "      <th>0</th>\n",
       "      <td>Store_1_SKU239</td>\n",
       "      <td>Dept13</td>\n",
       "      <td>Category34</td>\n",
       "      <td>SKU239</td>\n",
       "      <td>Store_1</td>\n",
       "      <td>2021-03-31</td>\n",
       "      <td>240</td>\n",
       "      <td>3.81</td>\n",
       "    </tr>\n",
       "    <tr>\n",
       "      <th>1</th>\n",
       "      <td>Store_1_SKU239</td>\n",
       "      <td>Dept13</td>\n",
       "      <td>Category34</td>\n",
       "      <td>SKU239</td>\n",
       "      <td>Store_1</td>\n",
       "      <td>2021-04-07</td>\n",
       "      <td>132</td>\n",
       "      <td>5.49</td>\n",
       "    </tr>\n",
       "    <tr>\n",
       "      <th>2</th>\n",
       "      <td>Store_1_SKU239</td>\n",
       "      <td>Dept13</td>\n",
       "      <td>Category34</td>\n",
       "      <td>SKU239</td>\n",
       "      <td>Store_1</td>\n",
       "      <td>2021-04-14</td>\n",
       "      <td>324</td>\n",
       "      <td>3.63</td>\n",
       "    </tr>\n",
       "    <tr>\n",
       "      <th>3</th>\n",
       "      <td>Store_1_SKU239</td>\n",
       "      <td>Dept13</td>\n",
       "      <td>Category34</td>\n",
       "      <td>SKU239</td>\n",
       "      <td>Store_1</td>\n",
       "      <td>2021-04-21</td>\n",
       "      <td>335</td>\n",
       "      <td>3.72</td>\n",
       "    </tr>\n",
       "    <tr>\n",
       "      <th>4</th>\n",
       "      <td>Store_1_SKU239</td>\n",
       "      <td>Dept13</td>\n",
       "      <td>Category34</td>\n",
       "      <td>SKU239</td>\n",
       "      <td>Store_1</td>\n",
       "      <td>2021-04-28</td>\n",
       "      <td>146</td>\n",
       "      <td>3.48</td>\n",
       "    </tr>\n",
       "  </tbody>\n",
       "</table>\n",
       "</div>"
      ],
      "text/plain": [
       "               ID DEPARTMENT    CATEGORY     SKU    Store       Week  \\\n",
       "0  Store_1_SKU239     Dept13  Category34  SKU239  Store_1 2021-03-31   \n",
       "1  Store_1_SKU239     Dept13  Category34  SKU239  Store_1 2021-04-07   \n",
       "2  Store_1_SKU239     Dept13  Category34  SKU239  Store_1 2021-04-14   \n",
       "3  Store_1_SKU239     Dept13  Category34  SKU239  Store_1 2021-04-21   \n",
       "4  Store_1_SKU239     Dept13  Category34  SKU239  Store_1 2021-04-28   \n",
       "\n",
       "   Units_Sold  Net_Price  \n",
       "0         240       3.81  \n",
       "1         132       5.49  \n",
       "2         324       3.63  \n",
       "3         335       3.72  \n",
       "4         146       3.48  "
      ]
     },
     "execution_count": 16,
     "metadata": {},
     "output_type": "execute_result"
    }
   ],
   "source": [
    "df = df.sort_values(by=['Store','DEPARTMENT','CATEGORY','SKU','Week'])\n",
    "df.reset_index(drop=True, inplace=True)\n",
    "df.head()"
   ]
  },
  {
   "cell_type": "code",
   "execution_count": 17,
   "metadata": {},
   "outputs": [],
   "source": [
    "# Feature 1: Total Revenue (Units_Sold * Net_Price)\n",
    "df['Total_Revenue'] = df['Units_Sold'] * df['Net_Price']\n",
    "df['Net_Price'] = df['Net_Price'].round(2)\n",
    "df['Total_Revenue'] = df['Total_Revenue'].round(2)"
   ]
  },
  {
   "cell_type": "code",
   "execution_count": 18,
   "metadata": {},
   "outputs": [],
   "source": [
    "# Feature 2: Extract time-based features from 'Week'\n",
    "df['Year'] = df['Week'].dt.year\n",
    "df['Month'] = df['Week'].dt.month\n",
    "df['Week_Number'] = df['Week'].dt.isocalendar().week"
   ]
  },
  {
   "cell_type": "code",
   "execution_count": 19,
   "metadata": {},
   "outputs": [
    {
     "name": "stdout",
     "output_type": "stream",
     "text": [
      "               ID    Store DEPARTMENT    CATEGORY     SKU  Units_Sold  \\\n",
      "0  Store_1_SKU239  Store_1     Dept13  Category34  SKU239         240   \n",
      "1  Store_1_SKU239  Store_1     Dept13  Category34  SKU239         132   \n",
      "2  Store_1_SKU239  Store_1     Dept13  Category34  SKU239         324   \n",
      "3  Store_1_SKU239  Store_1     Dept13  Category34  SKU239         335   \n",
      "4  Store_1_SKU239  Store_1     Dept13  Category34  SKU239         146   \n",
      "\n",
      "   Net_Price  Total_Revenue       Week  Year  Month  Week_Number  \n",
      "0       3.81         914.40 2021-03-31  2021      3           13  \n",
      "1       5.49         724.68 2021-04-07  2021      4           14  \n",
      "2       3.63        1176.12 2021-04-14  2021      4           15  \n",
      "3       3.72        1246.20 2021-04-21  2021      4           16  \n",
      "4       3.48         508.08 2021-04-28  2021      4           17  \n"
     ]
    }
   ],
   "source": [
    "new_column_order = ['ID', 'Store', 'DEPARTMENT', 'CATEGORY', 'SKU', 'Units_Sold', 'Net_Price', 'Total_Revenue', 'Week', 'Year', 'Month', 'Week_Number']\n",
    "df = df[new_column_order]\n",
    "print(df.head())"
   ]
  },
  {
   "cell_type": "code",
   "execution_count": 20,
   "metadata": {},
   "outputs": [
    {
     "name": "stdout",
     "output_type": "stream",
     "text": [
      "<class 'pandas.core.frame.DataFrame'>\n",
      "RangeIndex: 71357 entries, 0 to 71356\n",
      "Data columns (total 12 columns):\n",
      " #   Column         Non-Null Count  Dtype         \n",
      "---  ------         --------------  -----         \n",
      " 0   ID             71357 non-null  object        \n",
      " 1   Store          71357 non-null  object        \n",
      " 2   DEPARTMENT     71357 non-null  object        \n",
      " 3   CATEGORY       71357 non-null  object        \n",
      " 4   SKU            71357 non-null  object        \n",
      " 5   Units_Sold     71357 non-null  int64         \n",
      " 6   Net_Price      71357 non-null  float64       \n",
      " 7   Total_Revenue  71357 non-null  float64       \n",
      " 8   Week           71357 non-null  datetime64[ns]\n",
      " 9   Year           71357 non-null  int32         \n",
      " 10  Month          71357 non-null  int32         \n",
      " 11  Week_Number    71357 non-null  UInt32        \n",
      "dtypes: UInt32(1), datetime64[ns](1), float64(2), int32(2), int64(1), object(5)\n",
      "memory usage: 5.8+ MB\n"
     ]
    }
   ],
   "source": [
    "df_cleaned_head = df.head()\n",
    "df_cleaned_info = df.info()"
   ]
  },
  {
   "cell_type": "code",
   "execution_count": 21,
   "metadata": {},
   "outputs": [
    {
     "data": {
      "text/html": [
       "<div>\n",
       "<style scoped>\n",
       "    .dataframe tbody tr th:only-of-type {\n",
       "        vertical-align: middle;\n",
       "    }\n",
       "\n",
       "    .dataframe tbody tr th {\n",
       "        vertical-align: top;\n",
       "    }\n",
       "\n",
       "    .dataframe thead th {\n",
       "        text-align: right;\n",
       "    }\n",
       "</style>\n",
       "<table border=\"1\" class=\"dataframe\">\n",
       "  <thead>\n",
       "    <tr style=\"text-align: right;\">\n",
       "      <th></th>\n",
       "      <th>ID</th>\n",
       "      <th>Store</th>\n",
       "      <th>DEPARTMENT</th>\n",
       "      <th>CATEGORY</th>\n",
       "      <th>SKU</th>\n",
       "      <th>Units_Sold</th>\n",
       "      <th>Net_Price</th>\n",
       "      <th>Total_Revenue</th>\n",
       "      <th>Week</th>\n",
       "      <th>Year</th>\n",
       "      <th>Month</th>\n",
       "      <th>Week_Number</th>\n",
       "    </tr>\n",
       "  </thead>\n",
       "  <tbody>\n",
       "    <tr>\n",
       "      <th>0</th>\n",
       "      <td>Store_1_SKU239</td>\n",
       "      <td>Store_1</td>\n",
       "      <td>Dept13</td>\n",
       "      <td>Category34</td>\n",
       "      <td>SKU239</td>\n",
       "      <td>240</td>\n",
       "      <td>3.81</td>\n",
       "      <td>914.40</td>\n",
       "      <td>2021-03-31</td>\n",
       "      <td>2021</td>\n",
       "      <td>3</td>\n",
       "      <td>13</td>\n",
       "    </tr>\n",
       "    <tr>\n",
       "      <th>1</th>\n",
       "      <td>Store_1_SKU239</td>\n",
       "      <td>Store_1</td>\n",
       "      <td>Dept13</td>\n",
       "      <td>Category34</td>\n",
       "      <td>SKU239</td>\n",
       "      <td>132</td>\n",
       "      <td>5.49</td>\n",
       "      <td>724.68</td>\n",
       "      <td>2021-04-07</td>\n",
       "      <td>2021</td>\n",
       "      <td>4</td>\n",
       "      <td>14</td>\n",
       "    </tr>\n",
       "    <tr>\n",
       "      <th>2</th>\n",
       "      <td>Store_1_SKU239</td>\n",
       "      <td>Store_1</td>\n",
       "      <td>Dept13</td>\n",
       "      <td>Category34</td>\n",
       "      <td>SKU239</td>\n",
       "      <td>324</td>\n",
       "      <td>3.63</td>\n",
       "      <td>1176.12</td>\n",
       "      <td>2021-04-14</td>\n",
       "      <td>2021</td>\n",
       "      <td>4</td>\n",
       "      <td>15</td>\n",
       "    </tr>\n",
       "    <tr>\n",
       "      <th>3</th>\n",
       "      <td>Store_1_SKU239</td>\n",
       "      <td>Store_1</td>\n",
       "      <td>Dept13</td>\n",
       "      <td>Category34</td>\n",
       "      <td>SKU239</td>\n",
       "      <td>335</td>\n",
       "      <td>3.72</td>\n",
       "      <td>1246.20</td>\n",
       "      <td>2021-04-21</td>\n",
       "      <td>2021</td>\n",
       "      <td>4</td>\n",
       "      <td>16</td>\n",
       "    </tr>\n",
       "    <tr>\n",
       "      <th>4</th>\n",
       "      <td>Store_1_SKU239</td>\n",
       "      <td>Store_1</td>\n",
       "      <td>Dept13</td>\n",
       "      <td>Category34</td>\n",
       "      <td>SKU239</td>\n",
       "      <td>146</td>\n",
       "      <td>3.48</td>\n",
       "      <td>508.08</td>\n",
       "      <td>2021-04-28</td>\n",
       "      <td>2021</td>\n",
       "      <td>4</td>\n",
       "      <td>17</td>\n",
       "    </tr>\n",
       "  </tbody>\n",
       "</table>\n",
       "</div>"
      ],
      "text/plain": [
       "               ID    Store DEPARTMENT    CATEGORY     SKU  Units_Sold  \\\n",
       "0  Store_1_SKU239  Store_1     Dept13  Category34  SKU239         240   \n",
       "1  Store_1_SKU239  Store_1     Dept13  Category34  SKU239         132   \n",
       "2  Store_1_SKU239  Store_1     Dept13  Category34  SKU239         324   \n",
       "3  Store_1_SKU239  Store_1     Dept13  Category34  SKU239         335   \n",
       "4  Store_1_SKU239  Store_1     Dept13  Category34  SKU239         146   \n",
       "\n",
       "   Net_Price  Total_Revenue       Week  Year  Month  Week_Number  \n",
       "0       3.81         914.40 2021-03-31  2021      3           13  \n",
       "1       5.49         724.68 2021-04-07  2021      4           14  \n",
       "2       3.63        1176.12 2021-04-14  2021      4           15  \n",
       "3       3.72        1246.20 2021-04-21  2021      4           16  \n",
       "4       3.48         508.08 2021-04-28  2021      4           17  "
      ]
     },
     "execution_count": 21,
     "metadata": {},
     "output_type": "execute_result"
    }
   ],
   "source": [
    "df_cleaned_head"
   ]
  },
  {
   "cell_type": "code",
   "execution_count": 23,
   "metadata": {},
   "outputs": [
    {
     "name": "stdout",
     "output_type": "stream",
     "text": [
      "Processed dataset saved successfully as 'Processed_Capstone_Dataset_v1.0.csv' in ../dataset/processed/.\n"
     ]
    }
   ],
   "source": [
    "processed_dataset_full_path = os.path.join(processed_dataset_path, processed_dataset_file)\n",
    "df.to_csv(processed_dataset_full_path, index=False)\n",
    "print(f\"Processed dataset saved successfully as '{processed_dataset_file}' in {processed_dataset_path}.\")"
   ]
  },
  {
   "cell_type": "markdown",
   "metadata": {},
   "source": [
    "## DataSet Distribution Analysis"
   ]
  },
  {
   "cell_type": "code",
   "execution_count": 24,
   "metadata": {},
   "outputs": [],
   "source": [
    "processed_dataset_full_path = os.path.join(processed_dataset_path, processed_dataset_file)\n",
    "df = pd.read_csv(processed_dataset_full_path)"
   ]
  },
  {
   "cell_type": "code",
   "execution_count": 27,
   "metadata": {},
   "outputs": [
    {
     "name": "stdout",
     "output_type": "stream",
     "text": [
      "Unique Stores: 21\n",
      "Unique DEPARTMENTs: 44\n",
      "Unique CATEGORYs: 43\n",
      "Unique SKUs: 401\n",
      "Unique ID: 499\n",
      "Number of Weeks: 143 ranging from 2021-03-31 to 2023-12-20\n"
     ]
    }
   ],
   "source": [
    "unique_stores = df['Store'].nunique()\n",
    "print(f\"Unique Stores: {unique_stores}\")\n",
    "\n",
    "unique_departments = df['DEPARTMENT'].nunique()\n",
    "print(f\"Unique DEPARTMENTs: {unique_departments}\")\n",
    "\n",
    "unique_categories = df['CATEGORY'].nunique()\n",
    "print(f\"Unique CATEGORYs: {unique_categories}\")\n",
    "\n",
    "unique_skus = df['SKU'].nunique()\n",
    "print(f\"Unique SKUs: {unique_skus}\")\n",
    "\n",
    "unique_ID = df['ID'].nunique()\n",
    "print(f\"Unique ID: {unique_ID}\")\n",
    "\n",
    "unique_Week = df['Week'].nunique()\n",
    "print(f\"Number of Weeks: {unique_Week} ranging from {df['Week'].min()} to {df['Week'].max()}\")"
   ]
  },
  {
   "cell_type": "code",
   "execution_count": 28,
   "metadata": {},
   "outputs": [
    {
     "data": {
      "application/vnd.plotly.v1+json": {
       "config": {
        "plotlyServerURL": "https://plot.ly"
       },
       "data": [
        {
         "branchvalues": "total",
         "domain": {
          "x": [
           0,
           1
          ],
          "y": [
           0,
           1
          ]
         },
         "hovertemplate": "labels=%{label}<br>Units_Sold=%{value}<br>parent=%{parent}<br>id=%{id}<extra></extra>",
         "ids": [
          "Store_19/Dept1/Category1",
          "Store_6/Dept1/Category1",
          "Store_13/Dept10/Category1",
          "Store_17/Dept10/Category1",
          "Store_5/Dept10/Category1",
          "Store_6/Dept10/Category1",
          "Store_6/Dept13/Category1",
          "Store_8/Dept17/Category1",
          "Store_6/Dept3/Category10",
          "Store_21/Dept45/Category10",
          "Store_8/Dept19/Category11",
          "Store_8/Dept3/Category11",
          "Store_8/Dept35/Category11",
          "Store_4/Dept24/Category112",
          "Store_18/Dept35/Category112",
          "Store_2/Dept35/Category112",
          "Store_4/Dept35/Category112",
          "Store_6/Dept35/Category112",
          "Store_8/Dept35/Category112",
          "Store_9/Dept35/Category112",
          "Store_4/Dept24/Category115",
          "Store_1/Dept26/Category115",
          "Store_4/Dept26/Category115",
          "Store_6/Dept26/Category115",
          "Store_1/Dept37/Category115",
          "Store_4/Dept37/Category115",
          "Store_11/Dept18/Category12",
          "Store_14/Dept18/Category12",
          "Store_15/Dept18/Category12",
          "Store_5/Dept21/Category12",
          "Store_5/Dept3/Category12",
          "Store_1/Dept39/Category12",
          "Store_11/Dept39/Category12",
          "Store_12/Dept39/Category12",
          "Store_15/Dept39/Category12",
          "Store_5/Dept41/Category12",
          "Store_15/Dept43/Category12",
          "Store_5/Dept43/Category12",
          "Store_19/Dept26/Category120",
          "Store_1/Dept38/Category120",
          "Store_10/Dept38/Category120",
          "Store_13/Dept38/Category120",
          "Store_19/Dept38/Category120",
          "Store_7/Dept38/Category120",
          "Store_9/Dept38/Category120",
          "Store_17/Dept11/Category14",
          "Store_9/Dept11/Category14",
          "Store_11/Dept33/Category14",
          "Store_11/Dept8/Category14",
          "Store_10/Dept10/Category15",
          "Store_3/Dept10/Category15",
          "Store_20/Dept18/Category15",
          "Store_10/Dept29/Category15",
          "Store_10/Dept33/Category15",
          "Store_11/Dept33/Category15",
          "Store_13/Dept33/Category15",
          "Store_14/Dept33/Category15",
          "Store_19/Dept33/Category15",
          "Store_20/Dept33/Category15",
          "Store_8/Dept33/Category15",
          "Store_10/Dept4/Category15",
          "Store_12/Dept18/Category16",
          "Store_14/Dept18/Category16",
          "Store_12/Dept27/Category16",
          "Store_12/Dept39/Category16",
          "Store_12/Dept7/Category16",
          "Store_10/Dept29/Category18",
          "Store_3/Dept29/Category18",
          "Store_5/Dept29/Category18",
          "Store_16/Dept42/Category18",
          "Store_5/Dept42/Category18",
          "Store_14/Dept8/Category18",
          "Store_10/Dept11/Category19",
          "Store_17/Dept11/Category19",
          "Store_21/Dept11/Category19",
          "Store_3/Dept11/Category19",
          "Store_15/Dept28/Category19",
          "Store_2/Dept28/Category19",
          "Store_10/Dept32/Category19",
          "Store_3/Dept32/Category19",
          "Store_15/Dept44/Category19",
          "Store_3/Dept44/Category19",
          "Store_17/Dept1/Category2",
          "Store_19/Dept1/Category2",
          "Store_4/Dept1/Category2",
          "Store_5/Dept1/Category2",
          "Store_6/Dept1/Category2",
          "Store_8/Dept1/Category2",
          "Store_9/Dept1/Category2",
          "Store_6/Dept10/Category2",
          "Store_4/Dept26/Category2",
          "Store_14/Dept18/Category20",
          "Store_10/Dept23/Category20",
          "Store_20/Dept33/Category20",
          "Store_1/Dept4/Category20",
          "Store_10/Dept4/Category20",
          "Store_12/Dept4/Category20",
          "Store_11/Dept32/Category21",
          "Store_15/Dept32/Category21",
          "Store_21/Dept32/Category21",
          "Store_3/Dept32/Category21",
          "Store_21/Dept5/Category21",
          "Store_9/Dept5/Category21",
          "Store_4/Dept6/Category21",
          "Store_10/Dept11/Category22",
          "Store_3/Dept11/Category22",
          "Store_2/Dept17/Category22",
          "Store_16/Dept19/Category22",
          "Store_2/Dept19/Category22",
          "Store_3/Dept19/Category22",
          "Store_3/Dept29/Category22",
          "Store_2/Dept32/Category22",
          "Store_9/Dept35/Category22",
          "Store_10/Dept36/Category22",
          "Store_17/Dept32/Category23",
          "Store_11/Dept8/Category23",
          "Store_12/Dept8/Category23",
          "Store_14/Dept8/Category23",
          "Store_18/Dept8/Category23",
          "Store_6/Dept8/Category23",
          "Store_2/Dept11/Category24",
          "Store_3/Dept11/Category24",
          "Store_3/Dept16/Category24",
          "Store_4/Dept20/Category24",
          "Store_2/Dept35/Category24",
          "Store_3/Dept35/Category24",
          "Store_5/Dept42/Category24",
          "Store_2/Dept5/Category24",
          "Store_21/Dept5/Category24",
          "Store_3/Dept5/Category24",
          "Store_9/Dept5/Category24",
          "Store_5/Dept6/Category27",
          "Store_19/Dept34/Category28",
          "Store_1/Dept6/Category28",
          "Store_11/Dept6/Category28",
          "Store_17/Dept6/Category28",
          "Store_18/Dept6/Category28",
          "Store_5/Dept6/Category28",
          "Store_1/Dept9/Category28",
          "Store_16/Dept17/Category3",
          "Store_1/Dept34/Category3",
          "Store_11/Dept34/Category3",
          "Store_14/Dept34/Category3",
          "Store_16/Dept34/Category3",
          "Store_17/Dept34/Category3",
          "Store_19/Dept34/Category3",
          "Store_12/Dept30/Category30",
          "Store_21/Dept30/Category30",
          "Store_12/Dept7/Category30",
          "Store_21/Dept12/Category31",
          "Store_12/Dept21/Category31",
          "Store_5/Dept21/Category31",
          "Store_4/Dept24/Category31",
          "Store_4/Dept26/Category31",
          "Store_9/Dept26/Category31",
          "Store_21/Dept29/Category31",
          "Store_10/Dept31/Category31",
          "Store_11/Dept31/Category31",
          "Store_12/Dept31/Category31",
          "Store_15/Dept31/Category31",
          "Store_21/Dept31/Category31",
          "Store_3/Dept31/Category31",
          "Store_4/Dept31/Category31",
          "Store_18/Dept37/Category31",
          "Store_4/Dept37/Category31",
          "Store_10/Dept13/Category33",
          "Store_10/Dept23/Category33",
          "Store_13/Dept23/Category33",
          "Store_13/Dept10/Category34",
          "Store_1/Dept13/Category34",
          "Store_10/Dept13/Category34",
          "Store_12/Dept13/Category34",
          "Store_13/Dept13/Category34",
          "Store_21/Dept13/Category34",
          "Store_5/Dept13/Category34",
          "Store_6/Dept13/Category34",
          "Store_10/Dept23/Category34",
          "Store_13/Dept23/Category34",
          "Store_10/Dept44/Category34",
          "Store_12/Dept23/Category35",
          "Store_12/Dept7/Category35",
          "Store_18/Dept14/Category39",
          "Store_11/Dept18/Category39",
          "Store_4/Dept24/Category4",
          "Store_18/Dept18/Category42",
          "Store_8/Dept18/Category42",
          "Store_18/Dept36/Category42",
          "Store_11/Dept44/Category42",
          "Store_1/Dept9/Category42",
          "Store_11/Dept9/Category42",
          "Store_18/Dept9/Category42",
          "Store_8/Dept9/Category42",
          "Store_9/Dept26/Category45",
          "Store_13/Dept9/Category45",
          "Store_16/Dept17/Category5",
          "Store_8/Dept2/Category5",
          "Store_4/Dept4/Category5",
          "Store_6/Dept26/Category51",
          "Store_9/Dept11/Category55",
          "Store_17/Dept13/Category55",
          "Store_17/Dept25/Category55",
          "Store_21/Dept25/Category55",
          "Store_21/Dept11/Category58",
          "Store_21/Dept12/Category58",
          "Store_9/Dept12/Category58",
          "Store_18/Dept25/Category58",
          "Store_21/Dept25/Category58",
          "Store_9/Dept26/Category58",
          "Store_13/Dept35/Category58",
          "Store_18/Dept35/Category58",
          "Store_4/Dept35/Category58",
          "Store_13/Dept37/Category58",
          "Store_18/Dept37/Category58",
          "Store_4/Dept37/Category58",
          "Store_9/Dept37/Category58",
          "Store_8/Dept1/Category6",
          "Store_8/Dept2/Category6",
          "Store_16/Dept40/Category6",
          "Store_8/Dept40/Category6",
          "Store_17/Dept15/Category67",
          "Store_20/Dept15/Category67",
          "Store_9/Dept15/Category67",
          "Store_1/Dept16/Category69",
          "Store_11/Dept16/Category69",
          "Store_20/Dept16/Category69",
          "Store_5/Dept16/Category69",
          "Store_5/Dept17/Category69",
          "Store_11/Dept39/Category69",
          "Store_1/Dept42/Category69",
          "Store_5/Dept42/Category69",
          "Store_5/Dept43/Category69",
          "Store_16/Dept16/Category70",
          "Store_1/Dept17/Category70",
          "Store_10/Dept17/Category70",
          "Store_16/Dept17/Category70",
          "Store_8/Dept17/Category70",
          "Store_8/Dept23/Category70",
          "Store_16/Dept44/Category70",
          "Store_14/Dept18/Category89",
          "Store_11/Dept20/Category89",
          "Store_5/Dept29/Category89",
          "Store_5/Dept42/Category89",
          "Store_11/Dept18/Category9",
          "Store_10/Dept3/Category9",
          "Store_12/Dept3/Category9",
          "Store_15/Dept4/Category9",
          "Store_12/Dept43/Category9",
          "Store_14/Dept43/Category9",
          "Store_15/Dept43/Category9",
          "Store_11/Dept44/Category9",
          "Store_14/Dept7/Category9",
          "Store_15/Dept19/Category90",
          "Store_16/Dept20/Category94",
          "Store_1/Dept44/Category94",
          "Store_10/Dept44/Category94",
          "Store_11/Dept44/Category94",
          "Store_15/Dept44/Category94",
          "Store_16/Dept44/Category94",
          "Store_2/Dept44/Category94",
          "Store_3/Dept44/Category94",
          "Store_4/Dept44/Category94",
          "Store_8/Dept44/Category94",
          "Store_9/Dept44/Category94",
          "Store_1/Dept21/Category99",
          "Store_11/Dept21/Category99",
          "Store_12/Dept21/Category99",
          "Store_13/Dept21/Category99",
          "Store_15/Dept21/Category99",
          "Store_18/Dept21/Category99",
          "Store_5/Dept21/Category99",
          "Store_6/Dept21/Category99",
          "Store_17/Dept1",
          "Store_19/Dept1",
          "Store_4/Dept1",
          "Store_5/Dept1",
          "Store_6/Dept1",
          "Store_8/Dept1",
          "Store_9/Dept1",
          "Store_10/Dept10",
          "Store_13/Dept10",
          "Store_17/Dept10",
          "Store_3/Dept10",
          "Store_5/Dept10",
          "Store_6/Dept10",
          "Store_10/Dept11",
          "Store_17/Dept11",
          "Store_2/Dept11",
          "Store_21/Dept11",
          "Store_3/Dept11",
          "Store_9/Dept11",
          "Store_21/Dept12",
          "Store_9/Dept12",
          "Store_1/Dept13",
          "Store_10/Dept13",
          "Store_12/Dept13",
          "Store_13/Dept13",
          "Store_17/Dept13",
          "Store_21/Dept13",
          "Store_5/Dept13",
          "Store_6/Dept13",
          "Store_18/Dept14",
          "Store_17/Dept15",
          "Store_20/Dept15",
          "Store_9/Dept15",
          "Store_1/Dept16",
          "Store_11/Dept16",
          "Store_16/Dept16",
          "Store_20/Dept16",
          "Store_3/Dept16",
          "Store_5/Dept16",
          "Store_1/Dept17",
          "Store_10/Dept17",
          "Store_16/Dept17",
          "Store_2/Dept17",
          "Store_5/Dept17",
          "Store_8/Dept17",
          "Store_11/Dept18",
          "Store_12/Dept18",
          "Store_14/Dept18",
          "Store_15/Dept18",
          "Store_18/Dept18",
          "Store_20/Dept18",
          "Store_8/Dept18",
          "Store_15/Dept19",
          "Store_16/Dept19",
          "Store_2/Dept19",
          "Store_3/Dept19",
          "Store_8/Dept19",
          "Store_8/Dept2",
          "Store_11/Dept20",
          "Store_16/Dept20",
          "Store_4/Dept20",
          "Store_1/Dept21",
          "Store_11/Dept21",
          "Store_12/Dept21",
          "Store_13/Dept21",
          "Store_15/Dept21",
          "Store_18/Dept21",
          "Store_5/Dept21",
          "Store_6/Dept21",
          "Store_10/Dept23",
          "Store_12/Dept23",
          "Store_13/Dept23",
          "Store_8/Dept23",
          "Store_4/Dept24",
          "Store_17/Dept25",
          "Store_18/Dept25",
          "Store_21/Dept25",
          "Store_1/Dept26",
          "Store_19/Dept26",
          "Store_4/Dept26",
          "Store_6/Dept26",
          "Store_9/Dept26",
          "Store_12/Dept27",
          "Store_15/Dept28",
          "Store_2/Dept28",
          "Store_10/Dept29",
          "Store_21/Dept29",
          "Store_3/Dept29",
          "Store_5/Dept29",
          "Store_10/Dept3",
          "Store_12/Dept3",
          "Store_5/Dept3",
          "Store_6/Dept3",
          "Store_8/Dept3",
          "Store_12/Dept30",
          "Store_21/Dept30",
          "Store_10/Dept31",
          "Store_11/Dept31",
          "Store_12/Dept31",
          "Store_15/Dept31",
          "Store_21/Dept31",
          "Store_3/Dept31",
          "Store_4/Dept31",
          "Store_10/Dept32",
          "Store_11/Dept32",
          "Store_15/Dept32",
          "Store_17/Dept32",
          "Store_2/Dept32",
          "Store_21/Dept32",
          "Store_3/Dept32",
          "Store_10/Dept33",
          "Store_11/Dept33",
          "Store_13/Dept33",
          "Store_14/Dept33",
          "Store_19/Dept33",
          "Store_20/Dept33",
          "Store_8/Dept33",
          "Store_1/Dept34",
          "Store_11/Dept34",
          "Store_14/Dept34",
          "Store_16/Dept34",
          "Store_17/Dept34",
          "Store_19/Dept34",
          "Store_13/Dept35",
          "Store_18/Dept35",
          "Store_2/Dept35",
          "Store_3/Dept35",
          "Store_4/Dept35",
          "Store_6/Dept35",
          "Store_8/Dept35",
          "Store_9/Dept35",
          "Store_10/Dept36",
          "Store_18/Dept36",
          "Store_1/Dept37",
          "Store_13/Dept37",
          "Store_18/Dept37",
          "Store_4/Dept37",
          "Store_9/Dept37",
          "Store_1/Dept38",
          "Store_10/Dept38",
          "Store_13/Dept38",
          "Store_19/Dept38",
          "Store_7/Dept38",
          "Store_9/Dept38",
          "Store_1/Dept39",
          "Store_11/Dept39",
          "Store_12/Dept39",
          "Store_15/Dept39",
          "Store_1/Dept4",
          "Store_10/Dept4",
          "Store_12/Dept4",
          "Store_15/Dept4",
          "Store_4/Dept4",
          "Store_16/Dept40",
          "Store_8/Dept40",
          "Store_5/Dept41",
          "Store_1/Dept42",
          "Store_16/Dept42",
          "Store_5/Dept42",
          "Store_12/Dept43",
          "Store_14/Dept43",
          "Store_15/Dept43",
          "Store_5/Dept43",
          "Store_1/Dept44",
          "Store_10/Dept44",
          "Store_11/Dept44",
          "Store_15/Dept44",
          "Store_16/Dept44",
          "Store_2/Dept44",
          "Store_3/Dept44",
          "Store_4/Dept44",
          "Store_8/Dept44",
          "Store_9/Dept44",
          "Store_21/Dept45",
          "Store_2/Dept5",
          "Store_21/Dept5",
          "Store_3/Dept5",
          "Store_9/Dept5",
          "Store_1/Dept6",
          "Store_11/Dept6",
          "Store_17/Dept6",
          "Store_18/Dept6",
          "Store_4/Dept6",
          "Store_5/Dept6",
          "Store_12/Dept7",
          "Store_14/Dept7",
          "Store_11/Dept8",
          "Store_12/Dept8",
          "Store_14/Dept8",
          "Store_18/Dept8",
          "Store_6/Dept8",
          "Store_1/Dept9",
          "Store_11/Dept9",
          "Store_13/Dept9",
          "Store_18/Dept9",
          "Store_8/Dept9",
          "Store_1",
          "Store_10",
          "Store_11",
          "Store_12",
          "Store_13",
          "Store_14",
          "Store_15",
          "Store_16",
          "Store_17",
          "Store_18",
          "Store_19",
          "Store_2",
          "Store_20",
          "Store_21",
          "Store_3",
          "Store_4",
          "Store_5",
          "Store_6",
          "Store_7",
          "Store_8",
          "Store_9"
         ],
         "labels": [
          "Category1",
          "Category1",
          "Category1",
          "Category1",
          "Category1",
          "Category1",
          "Category1",
          "Category1",
          "Category10",
          "Category10",
          "Category11",
          "Category11",
          "Category11",
          "Category112",
          "Category112",
          "Category112",
          "Category112",
          "Category112",
          "Category112",
          "Category112",
          "Category115",
          "Category115",
          "Category115",
          "Category115",
          "Category115",
          "Category115",
          "Category12",
          "Category12",
          "Category12",
          "Category12",
          "Category12",
          "Category12",
          "Category12",
          "Category12",
          "Category12",
          "Category12",
          "Category12",
          "Category12",
          "Category120",
          "Category120",
          "Category120",
          "Category120",
          "Category120",
          "Category120",
          "Category120",
          "Category14",
          "Category14",
          "Category14",
          "Category14",
          "Category15",
          "Category15",
          "Category15",
          "Category15",
          "Category15",
          "Category15",
          "Category15",
          "Category15",
          "Category15",
          "Category15",
          "Category15",
          "Category15",
          "Category16",
          "Category16",
          "Category16",
          "Category16",
          "Category16",
          "Category18",
          "Category18",
          "Category18",
          "Category18",
          "Category18",
          "Category18",
          "Category19",
          "Category19",
          "Category19",
          "Category19",
          "Category19",
          "Category19",
          "Category19",
          "Category19",
          "Category19",
          "Category19",
          "Category2",
          "Category2",
          "Category2",
          "Category2",
          "Category2",
          "Category2",
          "Category2",
          "Category2",
          "Category2",
          "Category20",
          "Category20",
          "Category20",
          "Category20",
          "Category20",
          "Category20",
          "Category21",
          "Category21",
          "Category21",
          "Category21",
          "Category21",
          "Category21",
          "Category21",
          "Category22",
          "Category22",
          "Category22",
          "Category22",
          "Category22",
          "Category22",
          "Category22",
          "Category22",
          "Category22",
          "Category22",
          "Category23",
          "Category23",
          "Category23",
          "Category23",
          "Category23",
          "Category23",
          "Category24",
          "Category24",
          "Category24",
          "Category24",
          "Category24",
          "Category24",
          "Category24",
          "Category24",
          "Category24",
          "Category24",
          "Category24",
          "Category27",
          "Category28",
          "Category28",
          "Category28",
          "Category28",
          "Category28",
          "Category28",
          "Category28",
          "Category3",
          "Category3",
          "Category3",
          "Category3",
          "Category3",
          "Category3",
          "Category3",
          "Category30",
          "Category30",
          "Category30",
          "Category31",
          "Category31",
          "Category31",
          "Category31",
          "Category31",
          "Category31",
          "Category31",
          "Category31",
          "Category31",
          "Category31",
          "Category31",
          "Category31",
          "Category31",
          "Category31",
          "Category31",
          "Category31",
          "Category33",
          "Category33",
          "Category33",
          "Category34",
          "Category34",
          "Category34",
          "Category34",
          "Category34",
          "Category34",
          "Category34",
          "Category34",
          "Category34",
          "Category34",
          "Category34",
          "Category35",
          "Category35",
          "Category39",
          "Category39",
          "Category4",
          "Category42",
          "Category42",
          "Category42",
          "Category42",
          "Category42",
          "Category42",
          "Category42",
          "Category42",
          "Category45",
          "Category45",
          "Category5",
          "Category5",
          "Category5",
          "Category51",
          "Category55",
          "Category55",
          "Category55",
          "Category55",
          "Category58",
          "Category58",
          "Category58",
          "Category58",
          "Category58",
          "Category58",
          "Category58",
          "Category58",
          "Category58",
          "Category58",
          "Category58",
          "Category58",
          "Category58",
          "Category6",
          "Category6",
          "Category6",
          "Category6",
          "Category67",
          "Category67",
          "Category67",
          "Category69",
          "Category69",
          "Category69",
          "Category69",
          "Category69",
          "Category69",
          "Category69",
          "Category69",
          "Category69",
          "Category70",
          "Category70",
          "Category70",
          "Category70",
          "Category70",
          "Category70",
          "Category70",
          "Category89",
          "Category89",
          "Category89",
          "Category89",
          "Category9",
          "Category9",
          "Category9",
          "Category9",
          "Category9",
          "Category9",
          "Category9",
          "Category9",
          "Category9",
          "Category90",
          "Category94",
          "Category94",
          "Category94",
          "Category94",
          "Category94",
          "Category94",
          "Category94",
          "Category94",
          "Category94",
          "Category94",
          "Category94",
          "Category99",
          "Category99",
          "Category99",
          "Category99",
          "Category99",
          "Category99",
          "Category99",
          "Category99",
          "Dept1",
          "Dept1",
          "Dept1",
          "Dept1",
          "Dept1",
          "Dept1",
          "Dept1",
          "Dept10",
          "Dept10",
          "Dept10",
          "Dept10",
          "Dept10",
          "Dept10",
          "Dept11",
          "Dept11",
          "Dept11",
          "Dept11",
          "Dept11",
          "Dept11",
          "Dept12",
          "Dept12",
          "Dept13",
          "Dept13",
          "Dept13",
          "Dept13",
          "Dept13",
          "Dept13",
          "Dept13",
          "Dept13",
          "Dept14",
          "Dept15",
          "Dept15",
          "Dept15",
          "Dept16",
          "Dept16",
          "Dept16",
          "Dept16",
          "Dept16",
          "Dept16",
          "Dept17",
          "Dept17",
          "Dept17",
          "Dept17",
          "Dept17",
          "Dept17",
          "Dept18",
          "Dept18",
          "Dept18",
          "Dept18",
          "Dept18",
          "Dept18",
          "Dept18",
          "Dept19",
          "Dept19",
          "Dept19",
          "Dept19",
          "Dept19",
          "Dept2",
          "Dept20",
          "Dept20",
          "Dept20",
          "Dept21",
          "Dept21",
          "Dept21",
          "Dept21",
          "Dept21",
          "Dept21",
          "Dept21",
          "Dept21",
          "Dept23",
          "Dept23",
          "Dept23",
          "Dept23",
          "Dept24",
          "Dept25",
          "Dept25",
          "Dept25",
          "Dept26",
          "Dept26",
          "Dept26",
          "Dept26",
          "Dept26",
          "Dept27",
          "Dept28",
          "Dept28",
          "Dept29",
          "Dept29",
          "Dept29",
          "Dept29",
          "Dept3",
          "Dept3",
          "Dept3",
          "Dept3",
          "Dept3",
          "Dept30",
          "Dept30",
          "Dept31",
          "Dept31",
          "Dept31",
          "Dept31",
          "Dept31",
          "Dept31",
          "Dept31",
          "Dept32",
          "Dept32",
          "Dept32",
          "Dept32",
          "Dept32",
          "Dept32",
          "Dept32",
          "Dept33",
          "Dept33",
          "Dept33",
          "Dept33",
          "Dept33",
          "Dept33",
          "Dept33",
          "Dept34",
          "Dept34",
          "Dept34",
          "Dept34",
          "Dept34",
          "Dept34",
          "Dept35",
          "Dept35",
          "Dept35",
          "Dept35",
          "Dept35",
          "Dept35",
          "Dept35",
          "Dept35",
          "Dept36",
          "Dept36",
          "Dept37",
          "Dept37",
          "Dept37",
          "Dept37",
          "Dept37",
          "Dept38",
          "Dept38",
          "Dept38",
          "Dept38",
          "Dept38",
          "Dept38",
          "Dept39",
          "Dept39",
          "Dept39",
          "Dept39",
          "Dept4",
          "Dept4",
          "Dept4",
          "Dept4",
          "Dept4",
          "Dept40",
          "Dept40",
          "Dept41",
          "Dept42",
          "Dept42",
          "Dept42",
          "Dept43",
          "Dept43",
          "Dept43",
          "Dept43",
          "Dept44",
          "Dept44",
          "Dept44",
          "Dept44",
          "Dept44",
          "Dept44",
          "Dept44",
          "Dept44",
          "Dept44",
          "Dept44",
          "Dept45",
          "Dept5",
          "Dept5",
          "Dept5",
          "Dept5",
          "Dept6",
          "Dept6",
          "Dept6",
          "Dept6",
          "Dept6",
          "Dept6",
          "Dept7",
          "Dept7",
          "Dept8",
          "Dept8",
          "Dept8",
          "Dept8",
          "Dept8",
          "Dept9",
          "Dept9",
          "Dept9",
          "Dept9",
          "Dept9",
          "Store_1",
          "Store_10",
          "Store_11",
          "Store_12",
          "Store_13",
          "Store_14",
          "Store_15",
          "Store_16",
          "Store_17",
          "Store_18",
          "Store_19",
          "Store_2",
          "Store_20",
          "Store_21",
          "Store_3",
          "Store_4",
          "Store_5",
          "Store_6",
          "Store_7",
          "Store_8",
          "Store_9"
         ],
         "name": "",
         "parents": [
          "Store_19/Dept1",
          "Store_6/Dept1",
          "Store_13/Dept10",
          "Store_17/Dept10",
          "Store_5/Dept10",
          "Store_6/Dept10",
          "Store_6/Dept13",
          "Store_8/Dept17",
          "Store_6/Dept3",
          "Store_21/Dept45",
          "Store_8/Dept19",
          "Store_8/Dept3",
          "Store_8/Dept35",
          "Store_4/Dept24",
          "Store_18/Dept35",
          "Store_2/Dept35",
          "Store_4/Dept35",
          "Store_6/Dept35",
          "Store_8/Dept35",
          "Store_9/Dept35",
          "Store_4/Dept24",
          "Store_1/Dept26",
          "Store_4/Dept26",
          "Store_6/Dept26",
          "Store_1/Dept37",
          "Store_4/Dept37",
          "Store_11/Dept18",
          "Store_14/Dept18",
          "Store_15/Dept18",
          "Store_5/Dept21",
          "Store_5/Dept3",
          "Store_1/Dept39",
          "Store_11/Dept39",
          "Store_12/Dept39",
          "Store_15/Dept39",
          "Store_5/Dept41",
          "Store_15/Dept43",
          "Store_5/Dept43",
          "Store_19/Dept26",
          "Store_1/Dept38",
          "Store_10/Dept38",
          "Store_13/Dept38",
          "Store_19/Dept38",
          "Store_7/Dept38",
          "Store_9/Dept38",
          "Store_17/Dept11",
          "Store_9/Dept11",
          "Store_11/Dept33",
          "Store_11/Dept8",
          "Store_10/Dept10",
          "Store_3/Dept10",
          "Store_20/Dept18",
          "Store_10/Dept29",
          "Store_10/Dept33",
          "Store_11/Dept33",
          "Store_13/Dept33",
          "Store_14/Dept33",
          "Store_19/Dept33",
          "Store_20/Dept33",
          "Store_8/Dept33",
          "Store_10/Dept4",
          "Store_12/Dept18",
          "Store_14/Dept18",
          "Store_12/Dept27",
          "Store_12/Dept39",
          "Store_12/Dept7",
          "Store_10/Dept29",
          "Store_3/Dept29",
          "Store_5/Dept29",
          "Store_16/Dept42",
          "Store_5/Dept42",
          "Store_14/Dept8",
          "Store_10/Dept11",
          "Store_17/Dept11",
          "Store_21/Dept11",
          "Store_3/Dept11",
          "Store_15/Dept28",
          "Store_2/Dept28",
          "Store_10/Dept32",
          "Store_3/Dept32",
          "Store_15/Dept44",
          "Store_3/Dept44",
          "Store_17/Dept1",
          "Store_19/Dept1",
          "Store_4/Dept1",
          "Store_5/Dept1",
          "Store_6/Dept1",
          "Store_8/Dept1",
          "Store_9/Dept1",
          "Store_6/Dept10",
          "Store_4/Dept26",
          "Store_14/Dept18",
          "Store_10/Dept23",
          "Store_20/Dept33",
          "Store_1/Dept4",
          "Store_10/Dept4",
          "Store_12/Dept4",
          "Store_11/Dept32",
          "Store_15/Dept32",
          "Store_21/Dept32",
          "Store_3/Dept32",
          "Store_21/Dept5",
          "Store_9/Dept5",
          "Store_4/Dept6",
          "Store_10/Dept11",
          "Store_3/Dept11",
          "Store_2/Dept17",
          "Store_16/Dept19",
          "Store_2/Dept19",
          "Store_3/Dept19",
          "Store_3/Dept29",
          "Store_2/Dept32",
          "Store_9/Dept35",
          "Store_10/Dept36",
          "Store_17/Dept32",
          "Store_11/Dept8",
          "Store_12/Dept8",
          "Store_14/Dept8",
          "Store_18/Dept8",
          "Store_6/Dept8",
          "Store_2/Dept11",
          "Store_3/Dept11",
          "Store_3/Dept16",
          "Store_4/Dept20",
          "Store_2/Dept35",
          "Store_3/Dept35",
          "Store_5/Dept42",
          "Store_2/Dept5",
          "Store_21/Dept5",
          "Store_3/Dept5",
          "Store_9/Dept5",
          "Store_5/Dept6",
          "Store_19/Dept34",
          "Store_1/Dept6",
          "Store_11/Dept6",
          "Store_17/Dept6",
          "Store_18/Dept6",
          "Store_5/Dept6",
          "Store_1/Dept9",
          "Store_16/Dept17",
          "Store_1/Dept34",
          "Store_11/Dept34",
          "Store_14/Dept34",
          "Store_16/Dept34",
          "Store_17/Dept34",
          "Store_19/Dept34",
          "Store_12/Dept30",
          "Store_21/Dept30",
          "Store_12/Dept7",
          "Store_21/Dept12",
          "Store_12/Dept21",
          "Store_5/Dept21",
          "Store_4/Dept24",
          "Store_4/Dept26",
          "Store_9/Dept26",
          "Store_21/Dept29",
          "Store_10/Dept31",
          "Store_11/Dept31",
          "Store_12/Dept31",
          "Store_15/Dept31",
          "Store_21/Dept31",
          "Store_3/Dept31",
          "Store_4/Dept31",
          "Store_18/Dept37",
          "Store_4/Dept37",
          "Store_10/Dept13",
          "Store_10/Dept23",
          "Store_13/Dept23",
          "Store_13/Dept10",
          "Store_1/Dept13",
          "Store_10/Dept13",
          "Store_12/Dept13",
          "Store_13/Dept13",
          "Store_21/Dept13",
          "Store_5/Dept13",
          "Store_6/Dept13",
          "Store_10/Dept23",
          "Store_13/Dept23",
          "Store_10/Dept44",
          "Store_12/Dept23",
          "Store_12/Dept7",
          "Store_18/Dept14",
          "Store_11/Dept18",
          "Store_4/Dept24",
          "Store_18/Dept18",
          "Store_8/Dept18",
          "Store_18/Dept36",
          "Store_11/Dept44",
          "Store_1/Dept9",
          "Store_11/Dept9",
          "Store_18/Dept9",
          "Store_8/Dept9",
          "Store_9/Dept26",
          "Store_13/Dept9",
          "Store_16/Dept17",
          "Store_8/Dept2",
          "Store_4/Dept4",
          "Store_6/Dept26",
          "Store_9/Dept11",
          "Store_17/Dept13",
          "Store_17/Dept25",
          "Store_21/Dept25",
          "Store_21/Dept11",
          "Store_21/Dept12",
          "Store_9/Dept12",
          "Store_18/Dept25",
          "Store_21/Dept25",
          "Store_9/Dept26",
          "Store_13/Dept35",
          "Store_18/Dept35",
          "Store_4/Dept35",
          "Store_13/Dept37",
          "Store_18/Dept37",
          "Store_4/Dept37",
          "Store_9/Dept37",
          "Store_8/Dept1",
          "Store_8/Dept2",
          "Store_16/Dept40",
          "Store_8/Dept40",
          "Store_17/Dept15",
          "Store_20/Dept15",
          "Store_9/Dept15",
          "Store_1/Dept16",
          "Store_11/Dept16",
          "Store_20/Dept16",
          "Store_5/Dept16",
          "Store_5/Dept17",
          "Store_11/Dept39",
          "Store_1/Dept42",
          "Store_5/Dept42",
          "Store_5/Dept43",
          "Store_16/Dept16",
          "Store_1/Dept17",
          "Store_10/Dept17",
          "Store_16/Dept17",
          "Store_8/Dept17",
          "Store_8/Dept23",
          "Store_16/Dept44",
          "Store_14/Dept18",
          "Store_11/Dept20",
          "Store_5/Dept29",
          "Store_5/Dept42",
          "Store_11/Dept18",
          "Store_10/Dept3",
          "Store_12/Dept3",
          "Store_15/Dept4",
          "Store_12/Dept43",
          "Store_14/Dept43",
          "Store_15/Dept43",
          "Store_11/Dept44",
          "Store_14/Dept7",
          "Store_15/Dept19",
          "Store_16/Dept20",
          "Store_1/Dept44",
          "Store_10/Dept44",
          "Store_11/Dept44",
          "Store_15/Dept44",
          "Store_16/Dept44",
          "Store_2/Dept44",
          "Store_3/Dept44",
          "Store_4/Dept44",
          "Store_8/Dept44",
          "Store_9/Dept44",
          "Store_1/Dept21",
          "Store_11/Dept21",
          "Store_12/Dept21",
          "Store_13/Dept21",
          "Store_15/Dept21",
          "Store_18/Dept21",
          "Store_5/Dept21",
          "Store_6/Dept21",
          "Store_17",
          "Store_19",
          "Store_4",
          "Store_5",
          "Store_6",
          "Store_8",
          "Store_9",
          "Store_10",
          "Store_13",
          "Store_17",
          "Store_3",
          "Store_5",
          "Store_6",
          "Store_10",
          "Store_17",
          "Store_2",
          "Store_21",
          "Store_3",
          "Store_9",
          "Store_21",
          "Store_9",
          "Store_1",
          "Store_10",
          "Store_12",
          "Store_13",
          "Store_17",
          "Store_21",
          "Store_5",
          "Store_6",
          "Store_18",
          "Store_17",
          "Store_20",
          "Store_9",
          "Store_1",
          "Store_11",
          "Store_16",
          "Store_20",
          "Store_3",
          "Store_5",
          "Store_1",
          "Store_10",
          "Store_16",
          "Store_2",
          "Store_5",
          "Store_8",
          "Store_11",
          "Store_12",
          "Store_14",
          "Store_15",
          "Store_18",
          "Store_20",
          "Store_8",
          "Store_15",
          "Store_16",
          "Store_2",
          "Store_3",
          "Store_8",
          "Store_8",
          "Store_11",
          "Store_16",
          "Store_4",
          "Store_1",
          "Store_11",
          "Store_12",
          "Store_13",
          "Store_15",
          "Store_18",
          "Store_5",
          "Store_6",
          "Store_10",
          "Store_12",
          "Store_13",
          "Store_8",
          "Store_4",
          "Store_17",
          "Store_18",
          "Store_21",
          "Store_1",
          "Store_19",
          "Store_4",
          "Store_6",
          "Store_9",
          "Store_12",
          "Store_15",
          "Store_2",
          "Store_10",
          "Store_21",
          "Store_3",
          "Store_5",
          "Store_10",
          "Store_12",
          "Store_5",
          "Store_6",
          "Store_8",
          "Store_12",
          "Store_21",
          "Store_10",
          "Store_11",
          "Store_12",
          "Store_15",
          "Store_21",
          "Store_3",
          "Store_4",
          "Store_10",
          "Store_11",
          "Store_15",
          "Store_17",
          "Store_2",
          "Store_21",
          "Store_3",
          "Store_10",
          "Store_11",
          "Store_13",
          "Store_14",
          "Store_19",
          "Store_20",
          "Store_8",
          "Store_1",
          "Store_11",
          "Store_14",
          "Store_16",
          "Store_17",
          "Store_19",
          "Store_13",
          "Store_18",
          "Store_2",
          "Store_3",
          "Store_4",
          "Store_6",
          "Store_8",
          "Store_9",
          "Store_10",
          "Store_18",
          "Store_1",
          "Store_13",
          "Store_18",
          "Store_4",
          "Store_9",
          "Store_1",
          "Store_10",
          "Store_13",
          "Store_19",
          "Store_7",
          "Store_9",
          "Store_1",
          "Store_11",
          "Store_12",
          "Store_15",
          "Store_1",
          "Store_10",
          "Store_12",
          "Store_15",
          "Store_4",
          "Store_16",
          "Store_8",
          "Store_5",
          "Store_1",
          "Store_16",
          "Store_5",
          "Store_12",
          "Store_14",
          "Store_15",
          "Store_5",
          "Store_1",
          "Store_10",
          "Store_11",
          "Store_15",
          "Store_16",
          "Store_2",
          "Store_3",
          "Store_4",
          "Store_8",
          "Store_9",
          "Store_21",
          "Store_2",
          "Store_21",
          "Store_3",
          "Store_9",
          "Store_1",
          "Store_11",
          "Store_17",
          "Store_18",
          "Store_4",
          "Store_5",
          "Store_12",
          "Store_14",
          "Store_11",
          "Store_12",
          "Store_14",
          "Store_18",
          "Store_6",
          "Store_1",
          "Store_11",
          "Store_13",
          "Store_18",
          "Store_8",
          "",
          "",
          "",
          "",
          "",
          "",
          "",
          "",
          "",
          "",
          "",
          "",
          "",
          "",
          "",
          "",
          "",
          "",
          "",
          "",
          ""
         ],
         "type": "sunburst",
         "values": [
          5747,
          22645,
          9616,
          11625,
          11879,
          51655,
          6118,
          602,
          130380,
          96814,
          57811,
          17226,
          25967,
          99602,
          80041,
          291365,
          34152,
          627666,
          26264,
          955799,
          22432,
          3357,
          103488,
          5768,
          10934,
          63530,
          39982,
          58650,
          50114,
          14577,
          33803,
          9778,
          104000,
          6606,
          144067,
          40172,
          28812,
          12583,
          10071,
          16973,
          18347,
          15685,
          38157,
          57751,
          33917,
          3898,
          13118,
          43476,
          15282,
          3491,
          8666,
          32097,
          4335,
          58707,
          159305,
          38935,
          30847,
          28727,
          85882,
          5738,
          148008,
          24564,
          123217,
          12869,
          20815,
          3662,
          468015,
          117619,
          25749,
          52505,
          59537,
          5349,
          13852,
          10321,
          54774,
          46350,
          2866,
          1105,
          9335,
          15994,
          11704,
          79808,
          53774,
          1364,
          89771,
          86932,
          415093,
          64111,
          48487,
          109098,
          97086,
          7582,
          2320,
          3284,
          30578,
          16459,
          42625,
          6198,
          20505,
          5356,
          434,
          17105,
          16513,
          5783,
          42289,
          67824,
          10191,
          13291,
          13506,
          46531,
          69086,
          7959,
          82096,
          55986,
          3894,
          450785,
          27723,
          49986,
          29246,
          49326,
          31342,
          173751,
          96541,
          67398,
          78524,
          117256,
          85214,
          344395,
          124381,
          587289,
          584925,
          46407,
          46749,
          98767,
          20882,
          67336,
          23565,
          76970,
          41755,
          36851,
          132254,
          82484,
          7067,
          67045,
          165911,
          91166,
          10569,
          27132,
          765,
          27138,
          2556,
          15094,
          104045,
          52508,
          25158,
          21889,
          78892,
          31831,
          12561,
          26350,
          108824,
          193156,
          170139,
          6375,
          18513,
          19411,
          10639,
          1671,
          29031,
          25259,
          368440,
          30707,
          11599,
          20222,
          54026,
          432377,
          13833,
          12428,
          27726,
          317,
          3632,
          10501,
          26036,
          50335,
          19175,
          19911,
          18107,
          28102,
          31585,
          1948,
          42839,
          2980,
          4430,
          5066,
          10577,
          1953,
          121925,
          31091,
          34742,
          2500,
          184433,
          85462,
          59111,
          64,
          16740,
          3722,
          15935,
          33658,
          108817,
          17967,
          80952,
          8318,
          3357,
          38159,
          10929,
          1890,
          1538,
          18200,
          2921,
          128218,
          6717,
          43572,
          38506,
          32908,
          33488,
          63359,
          44862,
          41932,
          24527,
          173988,
          59807,
          27590,
          45851,
          42594,
          382313,
          7416,
          1825,
          15750,
          6406,
          5108,
          8529,
          69646,
          10844,
          24565,
          15621,
          42158,
          17312,
          6657,
          61493,
          16050,
          2330,
          64742,
          3633,
          25348,
          100694,
          165631,
          128851,
          3760,
          26183,
          60832,
          247023,
          2556,
          50965,
          27198,
          100369,
          26046,
          32321,
          77336,
          17287,
          125762,
          822836,
          53774,
          7111,
          89771,
          86932,
          437738,
          66001,
          48487,
          3491,
          38647,
          11625,
          8666,
          11879,
          160753,
          56141,
          14219,
          31342,
          113885,
          287925,
          47860,
          27202,
          16740,
          25259,
          387851,
          30707,
          11599,
          2500,
          20222,
          54026,
          438495,
          10501,
          128218,
          6717,
          43572,
          38506,
          32908,
          27590,
          33488,
          96541,
          63359,
          45851,
          42594,
          429741,
          10191,
          44862,
          8018,
          76862,
          24564,
          195855,
          50114,
          19175,
          32097,
          19911,
          64742,
          13291,
          13506,
          46531,
          57811,
          3491,
          5108,
          3633,
          67398,
          27198,
          100369,
          28602,
          32321,
          77336,
          17287,
          155433,
          822836,
          26792,
          317,
          14099,
          1825,
          276414,
          184433,
          3722,
          101397,
          3357,
          10071,
          253082,
          36859,
          63246,
          12869,
          2866,
          1105,
          472350,
          21889,
          186705,
          34278,
          24565,
          15621,
          33803,
          130380,
          17226,
          10569,
          27132,
          78892,
          31831,
          12561,
          26350,
          108824,
          193156,
          170139,
          9335,
          6198,
          20505,
          3894,
          7959,
          5356,
          16428,
          58707,
          202781,
          38935,
          30847,
          28727,
          89166,
          5738,
          132254,
          82484,
          7067,
          67045,
          165911,
          137915,
          108817,
          98008,
          369889,
          117256,
          115104,
          627666,
          52231,
          1037895,
          55986,
          18107,
          10934,
          8318,
          9732,
          120202,
          10929,
          16973,
          18347,
          15685,
          38157,
          57751,
          33917,
          9778,
          145932,
          27421,
          144067,
          30578,
          164467,
          42625,
          42158,
          121925,
          18200,
          2921,
          40172,
          24527,
          52505,
          388385,
          17312,
          6657,
          90305,
          72390,
          25348,
          128420,
          209783,
          140555,
          19510,
          26183,
          140640,
          247023,
          2556,
          50965,
          96814,
          344395,
          141486,
          587289,
          601438,
          98767,
          20882,
          67336,
          23565,
          5783,
          123377,
          8059,
          2330,
          466067,
          27723,
          55335,
          29246,
          49326,
          73340,
          1948,
          5066,
          42839,
          2980,
          562670,
          1527938,
          1383153,
          258950,
          273487,
          298091,
          658998,
          631515,
          631910,
          272182,
          221981,
          804570,
          161468,
          664207,
          1681137,
          1466841,
          1108896,
          2704053,
          57751,
          240709,
          1955049
         ]
        }
       ],
       "layout": {
        "height": 700,
        "legend": {
         "tracegroupgap": 0
        },
        "template": {
         "data": {
          "bar": [
           {
            "error_x": {
             "color": "#2a3f5f"
            },
            "error_y": {
             "color": "#2a3f5f"
            },
            "marker": {
             "line": {
              "color": "#E5ECF6",
              "width": 0.5
             },
             "pattern": {
              "fillmode": "overlay",
              "size": 10,
              "solidity": 0.2
             }
            },
            "type": "bar"
           }
          ],
          "barpolar": [
           {
            "marker": {
             "line": {
              "color": "#E5ECF6",
              "width": 0.5
             },
             "pattern": {
              "fillmode": "overlay",
              "size": 10,
              "solidity": 0.2
             }
            },
            "type": "barpolar"
           }
          ],
          "carpet": [
           {
            "aaxis": {
             "endlinecolor": "#2a3f5f",
             "gridcolor": "white",
             "linecolor": "white",
             "minorgridcolor": "white",
             "startlinecolor": "#2a3f5f"
            },
            "baxis": {
             "endlinecolor": "#2a3f5f",
             "gridcolor": "white",
             "linecolor": "white",
             "minorgridcolor": "white",
             "startlinecolor": "#2a3f5f"
            },
            "type": "carpet"
           }
          ],
          "choropleth": [
           {
            "colorbar": {
             "outlinewidth": 0,
             "ticks": ""
            },
            "type": "choropleth"
           }
          ],
          "contour": [
           {
            "colorbar": {
             "outlinewidth": 0,
             "ticks": ""
            },
            "colorscale": [
             [
              0,
              "#0d0887"
             ],
             [
              0.1111111111111111,
              "#46039f"
             ],
             [
              0.2222222222222222,
              "#7201a8"
             ],
             [
              0.3333333333333333,
              "#9c179e"
             ],
             [
              0.4444444444444444,
              "#bd3786"
             ],
             [
              0.5555555555555556,
              "#d8576b"
             ],
             [
              0.6666666666666666,
              "#ed7953"
             ],
             [
              0.7777777777777778,
              "#fb9f3a"
             ],
             [
              0.8888888888888888,
              "#fdca26"
             ],
             [
              1,
              "#f0f921"
             ]
            ],
            "type": "contour"
           }
          ],
          "contourcarpet": [
           {
            "colorbar": {
             "outlinewidth": 0,
             "ticks": ""
            },
            "type": "contourcarpet"
           }
          ],
          "heatmap": [
           {
            "colorbar": {
             "outlinewidth": 0,
             "ticks": ""
            },
            "colorscale": [
             [
              0,
              "#0d0887"
             ],
             [
              0.1111111111111111,
              "#46039f"
             ],
             [
              0.2222222222222222,
              "#7201a8"
             ],
             [
              0.3333333333333333,
              "#9c179e"
             ],
             [
              0.4444444444444444,
              "#bd3786"
             ],
             [
              0.5555555555555556,
              "#d8576b"
             ],
             [
              0.6666666666666666,
              "#ed7953"
             ],
             [
              0.7777777777777778,
              "#fb9f3a"
             ],
             [
              0.8888888888888888,
              "#fdca26"
             ],
             [
              1,
              "#f0f921"
             ]
            ],
            "type": "heatmap"
           }
          ],
          "heatmapgl": [
           {
            "colorbar": {
             "outlinewidth": 0,
             "ticks": ""
            },
            "colorscale": [
             [
              0,
              "#0d0887"
             ],
             [
              0.1111111111111111,
              "#46039f"
             ],
             [
              0.2222222222222222,
              "#7201a8"
             ],
             [
              0.3333333333333333,
              "#9c179e"
             ],
             [
              0.4444444444444444,
              "#bd3786"
             ],
             [
              0.5555555555555556,
              "#d8576b"
             ],
             [
              0.6666666666666666,
              "#ed7953"
             ],
             [
              0.7777777777777778,
              "#fb9f3a"
             ],
             [
              0.8888888888888888,
              "#fdca26"
             ],
             [
              1,
              "#f0f921"
             ]
            ],
            "type": "heatmapgl"
           }
          ],
          "histogram": [
           {
            "marker": {
             "pattern": {
              "fillmode": "overlay",
              "size": 10,
              "solidity": 0.2
             }
            },
            "type": "histogram"
           }
          ],
          "histogram2d": [
           {
            "colorbar": {
             "outlinewidth": 0,
             "ticks": ""
            },
            "colorscale": [
             [
              0,
              "#0d0887"
             ],
             [
              0.1111111111111111,
              "#46039f"
             ],
             [
              0.2222222222222222,
              "#7201a8"
             ],
             [
              0.3333333333333333,
              "#9c179e"
             ],
             [
              0.4444444444444444,
              "#bd3786"
             ],
             [
              0.5555555555555556,
              "#d8576b"
             ],
             [
              0.6666666666666666,
              "#ed7953"
             ],
             [
              0.7777777777777778,
              "#fb9f3a"
             ],
             [
              0.8888888888888888,
              "#fdca26"
             ],
             [
              1,
              "#f0f921"
             ]
            ],
            "type": "histogram2d"
           }
          ],
          "histogram2dcontour": [
           {
            "colorbar": {
             "outlinewidth": 0,
             "ticks": ""
            },
            "colorscale": [
             [
              0,
              "#0d0887"
             ],
             [
              0.1111111111111111,
              "#46039f"
             ],
             [
              0.2222222222222222,
              "#7201a8"
             ],
             [
              0.3333333333333333,
              "#9c179e"
             ],
             [
              0.4444444444444444,
              "#bd3786"
             ],
             [
              0.5555555555555556,
              "#d8576b"
             ],
             [
              0.6666666666666666,
              "#ed7953"
             ],
             [
              0.7777777777777778,
              "#fb9f3a"
             ],
             [
              0.8888888888888888,
              "#fdca26"
             ],
             [
              1,
              "#f0f921"
             ]
            ],
            "type": "histogram2dcontour"
           }
          ],
          "mesh3d": [
           {
            "colorbar": {
             "outlinewidth": 0,
             "ticks": ""
            },
            "type": "mesh3d"
           }
          ],
          "parcoords": [
           {
            "line": {
             "colorbar": {
              "outlinewidth": 0,
              "ticks": ""
             }
            },
            "type": "parcoords"
           }
          ],
          "pie": [
           {
            "automargin": true,
            "type": "pie"
           }
          ],
          "scatter": [
           {
            "fillpattern": {
             "fillmode": "overlay",
             "size": 10,
             "solidity": 0.2
            },
            "type": "scatter"
           }
          ],
          "scatter3d": [
           {
            "line": {
             "colorbar": {
              "outlinewidth": 0,
              "ticks": ""
             }
            },
            "marker": {
             "colorbar": {
              "outlinewidth": 0,
              "ticks": ""
             }
            },
            "type": "scatter3d"
           }
          ],
          "scattercarpet": [
           {
            "marker": {
             "colorbar": {
              "outlinewidth": 0,
              "ticks": ""
             }
            },
            "type": "scattercarpet"
           }
          ],
          "scattergeo": [
           {
            "marker": {
             "colorbar": {
              "outlinewidth": 0,
              "ticks": ""
             }
            },
            "type": "scattergeo"
           }
          ],
          "scattergl": [
           {
            "marker": {
             "colorbar": {
              "outlinewidth": 0,
              "ticks": ""
             }
            },
            "type": "scattergl"
           }
          ],
          "scattermapbox": [
           {
            "marker": {
             "colorbar": {
              "outlinewidth": 0,
              "ticks": ""
             }
            },
            "type": "scattermapbox"
           }
          ],
          "scatterpolar": [
           {
            "marker": {
             "colorbar": {
              "outlinewidth": 0,
              "ticks": ""
             }
            },
            "type": "scatterpolar"
           }
          ],
          "scatterpolargl": [
           {
            "marker": {
             "colorbar": {
              "outlinewidth": 0,
              "ticks": ""
             }
            },
            "type": "scatterpolargl"
           }
          ],
          "scatterternary": [
           {
            "marker": {
             "colorbar": {
              "outlinewidth": 0,
              "ticks": ""
             }
            },
            "type": "scatterternary"
           }
          ],
          "surface": [
           {
            "colorbar": {
             "outlinewidth": 0,
             "ticks": ""
            },
            "colorscale": [
             [
              0,
              "#0d0887"
             ],
             [
              0.1111111111111111,
              "#46039f"
             ],
             [
              0.2222222222222222,
              "#7201a8"
             ],
             [
              0.3333333333333333,
              "#9c179e"
             ],
             [
              0.4444444444444444,
              "#bd3786"
             ],
             [
              0.5555555555555556,
              "#d8576b"
             ],
             [
              0.6666666666666666,
              "#ed7953"
             ],
             [
              0.7777777777777778,
              "#fb9f3a"
             ],
             [
              0.8888888888888888,
              "#fdca26"
             ],
             [
              1,
              "#f0f921"
             ]
            ],
            "type": "surface"
           }
          ],
          "table": [
           {
            "cells": {
             "fill": {
              "color": "#EBF0F8"
             },
             "line": {
              "color": "white"
             }
            },
            "header": {
             "fill": {
              "color": "#C8D4E3"
             },
             "line": {
              "color": "white"
             }
            },
            "type": "table"
           }
          ]
         },
         "layout": {
          "annotationdefaults": {
           "arrowcolor": "#2a3f5f",
           "arrowhead": 0,
           "arrowwidth": 1
          },
          "autotypenumbers": "strict",
          "coloraxis": {
           "colorbar": {
            "outlinewidth": 0,
            "ticks": ""
           }
          },
          "colorscale": {
           "diverging": [
            [
             0,
             "#8e0152"
            ],
            [
             0.1,
             "#c51b7d"
            ],
            [
             0.2,
             "#de77ae"
            ],
            [
             0.3,
             "#f1b6da"
            ],
            [
             0.4,
             "#fde0ef"
            ],
            [
             0.5,
             "#f7f7f7"
            ],
            [
             0.6,
             "#e6f5d0"
            ],
            [
             0.7,
             "#b8e186"
            ],
            [
             0.8,
             "#7fbc41"
            ],
            [
             0.9,
             "#4d9221"
            ],
            [
             1,
             "#276419"
            ]
           ],
           "sequential": [
            [
             0,
             "#0d0887"
            ],
            [
             0.1111111111111111,
             "#46039f"
            ],
            [
             0.2222222222222222,
             "#7201a8"
            ],
            [
             0.3333333333333333,
             "#9c179e"
            ],
            [
             0.4444444444444444,
             "#bd3786"
            ],
            [
             0.5555555555555556,
             "#d8576b"
            ],
            [
             0.6666666666666666,
             "#ed7953"
            ],
            [
             0.7777777777777778,
             "#fb9f3a"
            ],
            [
             0.8888888888888888,
             "#fdca26"
            ],
            [
             1,
             "#f0f921"
            ]
           ],
           "sequentialminus": [
            [
             0,
             "#0d0887"
            ],
            [
             0.1111111111111111,
             "#46039f"
            ],
            [
             0.2222222222222222,
             "#7201a8"
            ],
            [
             0.3333333333333333,
             "#9c179e"
            ],
            [
             0.4444444444444444,
             "#bd3786"
            ],
            [
             0.5555555555555556,
             "#d8576b"
            ],
            [
             0.6666666666666666,
             "#ed7953"
            ],
            [
             0.7777777777777778,
             "#fb9f3a"
            ],
            [
             0.8888888888888888,
             "#fdca26"
            ],
            [
             1,
             "#f0f921"
            ]
           ]
          },
          "colorway": [
           "#636efa",
           "#EF553B",
           "#00cc96",
           "#ab63fa",
           "#FFA15A",
           "#19d3f3",
           "#FF6692",
           "#B6E880",
           "#FF97FF",
           "#FECB52"
          ],
          "font": {
           "color": "#2a3f5f"
          },
          "geo": {
           "bgcolor": "white",
           "lakecolor": "white",
           "landcolor": "#E5ECF6",
           "showlakes": true,
           "showland": true,
           "subunitcolor": "white"
          },
          "hoverlabel": {
           "align": "left"
          },
          "hovermode": "closest",
          "mapbox": {
           "style": "light"
          },
          "paper_bgcolor": "white",
          "plot_bgcolor": "#E5ECF6",
          "polar": {
           "angularaxis": {
            "gridcolor": "white",
            "linecolor": "white",
            "ticks": ""
           },
           "bgcolor": "#E5ECF6",
           "radialaxis": {
            "gridcolor": "white",
            "linecolor": "white",
            "ticks": ""
           }
          },
          "scene": {
           "xaxis": {
            "backgroundcolor": "#E5ECF6",
            "gridcolor": "white",
            "gridwidth": 2,
            "linecolor": "white",
            "showbackground": true,
            "ticks": "",
            "zerolinecolor": "white"
           },
           "yaxis": {
            "backgroundcolor": "#E5ECF6",
            "gridcolor": "white",
            "gridwidth": 2,
            "linecolor": "white",
            "showbackground": true,
            "ticks": "",
            "zerolinecolor": "white"
           },
           "zaxis": {
            "backgroundcolor": "#E5ECF6",
            "gridcolor": "white",
            "gridwidth": 2,
            "linecolor": "white",
            "showbackground": true,
            "ticks": "",
            "zerolinecolor": "white"
           }
          },
          "shapedefaults": {
           "line": {
            "color": "#2a3f5f"
           }
          },
          "ternary": {
           "aaxis": {
            "gridcolor": "white",
            "linecolor": "white",
            "ticks": ""
           },
           "baxis": {
            "gridcolor": "white",
            "linecolor": "white",
            "ticks": ""
           },
           "bgcolor": "#E5ECF6",
           "caxis": {
            "gridcolor": "white",
            "linecolor": "white",
            "ticks": ""
           }
          },
          "title": {
           "x": 0.05
          },
          "xaxis": {
           "automargin": true,
           "gridcolor": "white",
           "linecolor": "white",
           "ticks": "",
           "title": {
            "standoff": 15
           },
           "zerolinecolor": "white",
           "zerolinewidth": 2
          },
          "yaxis": {
           "automargin": true,
           "gridcolor": "white",
           "linecolor": "white",
           "ticks": "",
           "title": {
            "standoff": 15
           },
           "zerolinecolor": "white",
           "zerolinewidth": 2
          }
         }
        },
        "title": {
         "text": "Hierarchy of Selected Columns (This visualization is interactive, press CMD key to select multiple features.)"
        }
       }
      }
     },
     "metadata": {},
     "output_type": "display_data"
    },
    {
     "data": {
      "application/vnd.jupyter.widget-view+json": {
       "model_id": "0e5df9ccb8e94a5cbfd9322a5efbe8a8",
       "version_major": 2,
       "version_minor": 0
      },
      "text/plain": [
       "SelectMultiple(description='Columns', index=(0, 1, 2), options=('Store', 'DEPARTMENT', 'CATEGORY', 'SKU'), val…"
      ]
     },
     "metadata": {},
     "output_type": "display_data"
    }
   ],
   "source": [
    "# Columns to choose from for the sunburst path\n",
    "available_columns = ['Store', 'DEPARTMENT', 'CATEGORY', 'SKU']\n",
    "\n",
    "# Create checkboxes for the user to select which columns to include in the sunburst\n",
    "column_select = widgets.SelectMultiple(\n",
    "    options=available_columns,\n",
    "    value=available_columns,  # Default value (all columns selected)\n",
    "    description='Columns',\n",
    "    disabled=False\n",
    ")\n",
    "\n",
    "# Function to update the sunburst chart based on user selection\n",
    "def update_sunburst(selected_columns):\n",
    "    # Clear previous output\n",
    "    clear_output(wait=True)\n",
    "\n",
    "    # Ensure at least one column is selected\n",
    "    if len(selected_columns) == 0:\n",
    "        print(\"Please select at least one column for the hierarchy.\")\n",
    "        return\n",
    "\n",
    "    # Generate the sunburst chart with the selected columns\n",
    "    fig = px.sunburst(\n",
    "        df,\n",
    "        path=selected_columns,  # Use selected columns for the sunburst path\n",
    "        values='Units_Sold',\n",
    "        title=\"Hierarchy of Selected Columns (This visualization is interactive, press CMD key to select multiple features.)\",\n",
    "        height=700\n",
    "    )\n",
    "    fig.show()\n",
    "\n",
    "    # Re-display the widget after clearing\n",
    "    display(column_select)\n",
    "\n",
    "# Link the function to the widget\n",
    "column_select.observe(lambda change: update_sunburst(change['new']), names='value')\n",
    "\n",
    "# Initial display\n",
    "display(column_select)\n",
    "update_sunburst(column_select.value)\n"
   ]
  },
  {
   "cell_type": "code",
   "execution_count": 29,
   "metadata": {},
   "outputs": [
    {
     "name": "stdout",
     "output_type": "stream",
     "text": [
      "'Store', 'DEPARTMENT', 'CATEGORY', and 'SKU' saved successfully to 'unique_store_department_category_sku.csv'.\n"
     ]
    }
   ],
   "source": [
    "unique_values_df = df[['Store', 'DEPARTMENT', 'CATEGORY', 'SKU']].drop_duplicates()\n",
    "output_file = 'unique_store_department_category_sku.csv'\n",
    "output_path = os.path.join(processed_dataset_path, output_file)\n",
    "unique_values_df.to_csv(output_path, index=False)\n",
    "print(f\"'Store', 'DEPARTMENT', 'CATEGORY', and 'SKU' saved successfully to '{output_file}'.\")"
   ]
  },
  {
   "cell_type": "markdown",
   "metadata": {},
   "source": [
    "## EDA - Exploratory Data Analysis"
   ]
  },
  {
   "cell_type": "code",
   "execution_count": 76,
   "metadata": {},
   "outputs": [],
   "source": [
    "processed_dataset_full_path = os.path.join(processed_dataset_path, processed_dataset_file)\n",
    "df = pd.read_csv(processed_dataset_full_path)"
   ]
  },
  {
   "cell_type": "code",
   "execution_count": 77,
   "metadata": {},
   "outputs": [
    {
     "data": {
      "text/html": [
       "<div>\n",
       "<style scoped>\n",
       "    .dataframe tbody tr th:only-of-type {\n",
       "        vertical-align: middle;\n",
       "    }\n",
       "\n",
       "    .dataframe tbody tr th {\n",
       "        vertical-align: top;\n",
       "    }\n",
       "\n",
       "    .dataframe thead th {\n",
       "        text-align: right;\n",
       "    }\n",
       "</style>\n",
       "<table border=\"1\" class=\"dataframe\">\n",
       "  <thead>\n",
       "    <tr style=\"text-align: right;\">\n",
       "      <th></th>\n",
       "      <th>ID</th>\n",
       "      <th>Store</th>\n",
       "      <th>DEPARTMENT</th>\n",
       "      <th>CATEGORY</th>\n",
       "      <th>SKU</th>\n",
       "      <th>Week</th>\n",
       "      <th>Units_Sold</th>\n",
       "      <th>Net_Price</th>\n",
       "      <th>Total_Revenue</th>\n",
       "      <th>Year</th>\n",
       "      <th>Month</th>\n",
       "      <th>Week_Number</th>\n",
       "    </tr>\n",
       "  </thead>\n",
       "  <tbody>\n",
       "    <tr>\n",
       "      <th>0</th>\n",
       "      <td>Store_1_SKU239</td>\n",
       "      <td>Store_1</td>\n",
       "      <td>Dept13</td>\n",
       "      <td>Category34</td>\n",
       "      <td>SKU239</td>\n",
       "      <td>2023-01-11</td>\n",
       "      <td>85</td>\n",
       "      <td>4.08</td>\n",
       "      <td>346.80</td>\n",
       "      <td>2023</td>\n",
       "      <td>1</td>\n",
       "      <td>2</td>\n",
       "    </tr>\n",
       "    <tr>\n",
       "      <th>1</th>\n",
       "      <td>Store_1_SKU239</td>\n",
       "      <td>Store_1</td>\n",
       "      <td>Dept13</td>\n",
       "      <td>Category34</td>\n",
       "      <td>SKU239</td>\n",
       "      <td>2022-01-12</td>\n",
       "      <td>143</td>\n",
       "      <td>3.90</td>\n",
       "      <td>557.70</td>\n",
       "      <td>2022</td>\n",
       "      <td>1</td>\n",
       "      <td>2</td>\n",
       "    </tr>\n",
       "    <tr>\n",
       "      <th>2</th>\n",
       "      <td>Store_1_SKU239</td>\n",
       "      <td>Store_1</td>\n",
       "      <td>Dept13</td>\n",
       "      <td>Category34</td>\n",
       "      <td>SKU239</td>\n",
       "      <td>2023-01-18</td>\n",
       "      <td>185</td>\n",
       "      <td>3.75</td>\n",
       "      <td>693.75</td>\n",
       "      <td>2023</td>\n",
       "      <td>1</td>\n",
       "      <td>3</td>\n",
       "    </tr>\n",
       "    <tr>\n",
       "      <th>3</th>\n",
       "      <td>Store_1_SKU239</td>\n",
       "      <td>Store_1</td>\n",
       "      <td>Dept13</td>\n",
       "      <td>Category34</td>\n",
       "      <td>SKU239</td>\n",
       "      <td>2022-01-19</td>\n",
       "      <td>167</td>\n",
       "      <td>4.53</td>\n",
       "      <td>756.51</td>\n",
       "      <td>2022</td>\n",
       "      <td>1</td>\n",
       "      <td>3</td>\n",
       "    </tr>\n",
       "    <tr>\n",
       "      <th>4</th>\n",
       "      <td>Store_1_SKU239</td>\n",
       "      <td>Store_1</td>\n",
       "      <td>Dept13</td>\n",
       "      <td>Category34</td>\n",
       "      <td>SKU239</td>\n",
       "      <td>2023-01-25</td>\n",
       "      <td>210</td>\n",
       "      <td>5.10</td>\n",
       "      <td>1071.00</td>\n",
       "      <td>2023</td>\n",
       "      <td>1</td>\n",
       "      <td>4</td>\n",
       "    </tr>\n",
       "  </tbody>\n",
       "</table>\n",
       "</div>"
      ],
      "text/plain": [
       "               ID    Store DEPARTMENT    CATEGORY     SKU        Week  \\\n",
       "0  Store_1_SKU239  Store_1     Dept13  Category34  SKU239  2023-01-11   \n",
       "1  Store_1_SKU239  Store_1     Dept13  Category34  SKU239  2022-01-12   \n",
       "2  Store_1_SKU239  Store_1     Dept13  Category34  SKU239  2023-01-18   \n",
       "3  Store_1_SKU239  Store_1     Dept13  Category34  SKU239  2022-01-19   \n",
       "4  Store_1_SKU239  Store_1     Dept13  Category34  SKU239  2023-01-25   \n",
       "\n",
       "   Units_Sold  Net_Price  Total_Revenue  Year  Month  Week_Number  \n",
       "0          85       4.08         346.80  2023      1            2  \n",
       "1         143       3.90         557.70  2022      1            2  \n",
       "2         185       3.75         693.75  2023      1            3  \n",
       "3         167       4.53         756.51  2022      1            3  \n",
       "4         210       5.10        1071.00  2023      1            4  "
      ]
     },
     "execution_count": 77,
     "metadata": {},
     "output_type": "execute_result"
    }
   ],
   "source": [
    "df.head()"
   ]
  },
  {
   "cell_type": "code",
   "execution_count": 78,
   "metadata": {},
   "outputs": [
    {
     "name": "stdout",
     "output_type": "stream",
     "text": [
      "Dataset Shape: (71357, 12)\n",
      "<class 'pandas.core.frame.DataFrame'>\n",
      "RangeIndex: 71357 entries, 0 to 71356\n",
      "Data columns (total 12 columns):\n",
      " #   Column         Non-Null Count  Dtype  \n",
      "---  ------         --------------  -----  \n",
      " 0   ID             71357 non-null  object \n",
      " 1   Store          71357 non-null  object \n",
      " 2   DEPARTMENT     71357 non-null  object \n",
      " 3   CATEGORY       71357 non-null  object \n",
      " 4   SKU            71357 non-null  object \n",
      " 5   Week           71357 non-null  object \n",
      " 6   Units_Sold     71357 non-null  int64  \n",
      " 7   Net_Price      71357 non-null  float64\n",
      " 8   Total_Revenue  71357 non-null  float64\n",
      " 9   Year           71357 non-null  int64  \n",
      " 10  Month          71357 non-null  int64  \n",
      " 11  Week_Number    71357 non-null  int64  \n",
      "dtypes: float64(2), int64(4), object(6)\n",
      "memory usage: 6.5+ MB\n",
      "\n",
      "Data Types and Non-null counts:\n",
      " None\n"
     ]
    }
   ],
   "source": [
    "print(\"Dataset Shape:\", df.shape)\n",
    "print(\"\\nData Types and Non-null counts:\\n\", df.info())"
   ]
  },
  {
   "cell_type": "code",
   "execution_count": 80,
   "metadata": {},
   "outputs": [
    {
     "name": "stdout",
     "output_type": "stream",
     "text": [
      "\n",
      "Descriptive statistics for numerical columns:\n",
      "          Units_Sold     Net_Price  Total_Revenue          Year         Month  \\\n",
      "count  71357.000000  71357.000000   71357.000000  71357.000000  71357.000000   \n",
      "mean     246.164441     15.888348    5236.585135   2022.076923      6.888112   \n",
      "std      290.705956     20.683851   11818.099008      0.794012      3.275498   \n",
      "min        0.000000      0.270000       0.000000   2021.000000      1.000000   \n",
      "25%       52.000000      3.960000     262.080000   2021.000000      4.000000   \n",
      "50%      150.000000      8.280000    1264.920000   2022.000000      7.000000   \n",
      "75%      331.000000     18.570000    4196.400000   2023.000000     10.000000   \n",
      "max     3565.000000    215.370000  198369.600000   2023.000000     12.000000   \n",
      "\n",
      "        Week_Number  \n",
      "count  71357.000000  \n",
      "mean      28.000000  \n",
      "std       14.295681  \n",
      "min        1.000000  \n",
      "25%       16.000000  \n",
      "50%       28.000000  \n",
      "75%       40.000000  \n",
      "max       52.000000  \n"
     ]
    }
   ],
   "source": [
    "print(\"\\nDescriptive statistics for numerical columns:\\n\", df.describe())"
   ]
  },
  {
   "cell_type": "markdown",
   "metadata": {},
   "source": [
    "### Distribution"
   ]
  },
  {
   "cell_type": "code",
   "execution_count": 83,
   "metadata": {},
   "outputs": [
    {
     "data": {
      "image/png": "[encoded data removed]",
      "text/plain": [
       "<Figure size 1000x400 with 1 Axes>"
      ]
     },
     "metadata": {},
     "output_type": "display_data"
    }
   ],
   "source": [
    "plt.figure(figsize=(10, 4))\n",
    "sns.countplot(data=df, x='DEPARTMENT', order=df['DEPARTMENT'].value_counts().index)\n",
    "plt.title('Distribution of DEPARTMENT')\n",
    "plt.xticks(rotation=90)\n",
    "plt.show()"
   ]
  },
  {
   "cell_type": "code",
   "execution_count": 84,
   "metadata": {},
   "outputs": [
    {
     "data": {
      "image/png": "[encoded data removed]",
      "text/plain": [
       "<Figure size 1000x400 with 1 Axes>"
      ]
     },
     "metadata": {},
     "output_type": "display_data"
    }
   ],
   "source": [
    "plt.figure(figsize=(10, 4))\n",
    "sns.countplot(data=df, x='CATEGORY', order=df['CATEGORY'].value_counts().index)\n",
    "plt.title('Distribution of CATEGORY')\n",
    "plt.xticks(rotation=90)\n",
    "plt.show()"
   ]
  },
  {
   "cell_type": "code",
   "execution_count": 85,
   "metadata": {},
   "outputs": [
    {
     "data": {
      "image/png": "[encoded data removed]",
      "text/plain": [
       "<Figure size 1000x400 with 1 Axes>"
      ]
     },
     "metadata": {},
     "output_type": "display_data"
    }
   ],
   "source": [
    "plt.figure(figsize=(10, 4))\n",
    "sns.histplot(df['Units_Sold'], bins=30, kde=True)\n",
    "plt.title('Distribution of Units Sold')\n",
    "plt.show()"
   ]
  },
  {
   "cell_type": "code",
   "execution_count": 86,
   "metadata": {},
   "outputs": [
    {
     "data": {
      "image/png": "[encoded data removed]",
      "text/plain": [
       "<Figure size 1000x400 with 1 Axes>"
      ]
     },
     "metadata": {},
     "output_type": "display_data"
    }
   ],
   "source": [
    "plt.figure(figsize=(10, 4))\n",
    "sns.histplot(df['Net_Price'], bins=30, kde=True)\n",
    "plt.title('Distribution of Net Price')\n",
    "plt.show()"
   ]
  },
  {
   "cell_type": "code",
   "execution_count": 87,
   "metadata": {},
   "outputs": [
    {
     "data": {
      "image/png": "[encoded data removed]",
      "text/plain": [
       "<Figure size 1000x400 with 1 Axes>"
      ]
     },
     "metadata": {},
     "output_type": "display_data"
    }
   ],
   "source": [
    "plt.figure(figsize=(10, 4))\n",
    "sns.histplot(df['Total_Revenue'], bins=30, kde=True)\n",
    "plt.title('Distribution of Total Revenue')\n",
    "plt.show()"
   ]
  },
  {
   "cell_type": "markdown",
   "metadata": {},
   "source": [
    "### Category / Units Sold Variance"
   ]
  },
  {
   "cell_type": "code",
   "execution_count": 88,
   "metadata": {},
   "outputs": [],
   "source": [
    "category_variances = df.groupby('CATEGORY').agg({'Units_Sold': 'var'}).reset_index()\n",
    "category_variances = category_variances.rename(columns={'Units_Sold': 'Variance'}).sort_values(by='Variance', ascending=False)\n",
    "\n",
    "top_10_percent_cutoff = int(0.1 * len(category_variances))\n",
    "top_25_percent_cutoff = int(0.25 * len(category_variances))\n",
    "\n",
    "top_10_percent_categories = category_variances.head(top_10_percent_cutoff)\n",
    "top_25_percent_categories = category_variances.head(top_25_percent_cutoff)"
   ]
  },
  {
   "cell_type": "code",
   "execution_count": 90,
   "metadata": {},
   "outputs": [
    {
     "data": {
      "image/png": "[encoded data removed]",
      "text/plain": [
       "<Figure size 500x400 with 1 Axes>"
      ]
     },
     "metadata": {},
     "output_type": "display_data"
    },
    {
     "name": "stdout",
     "output_type": "stream",
     "text": [
      "Top 10% Categories by Variance:\n",
      "       CATEGORY       Variance\n",
      "3   Category112  311449.862744\n",
      "42   Category99  138702.069524\n",
      "17   Category24  128849.439729\n",
      "30    Category5  125741.469589\n"
     ]
    }
   ],
   "source": [
    "plt.figure(figsize=(5, 4))\n",
    "sns.barplot(x='Variance', y='CATEGORY', data=top_10_percent_categories, palette='viridis')\n",
    "plt.title('Top 10% Categories by Sales Variance (Units Sold)')\n",
    "plt.xlabel('Variance in Units Sold')\n",
    "plt.ylabel('Category')\n",
    "plt.show()\n",
    "\n",
    "print(\"Top 10% Categories by Variance:\")\n",
    "print(top_10_percent_categories)"
   ]
  },
  {
   "cell_type": "code",
   "execution_count": 91,
   "metadata": {},
   "outputs": [
    {
     "data": {
      "image/png": "[encoded data removed]",
      "text/plain": [
       "<Figure size 1000x400 with 1 Axes>"
      ]
     },
     "metadata": {},
     "output_type": "display_data"
    },
    {
     "name": "stdout",
     "output_type": "stream",
     "text": [
      "\n",
      "Top 25% Categories by Variance:\n",
      "       CATEGORY       Variance\n",
      "3   Category112  311449.862744\n",
      "42   Category99  138702.069524\n",
      "17   Category24  128849.439729\n",
      "30    Category5  125741.469589\n",
      "20    Category3  112356.187219\n",
      "24   Category34   72107.970689\n",
      "16   Category23   65163.492746\n",
      "12    Category2   63045.053527\n",
      "33   Category58   62510.905241\n",
      "1    Category10   56194.167341\n"
     ]
    }
   ],
   "source": [
    "plt.figure(figsize=(10, 4))\n",
    "sns.barplot(x='Variance', y='CATEGORY', data=top_25_percent_categories, palette='plasma')\n",
    "plt.title('Top 25% Categories by Sales Variance (Units Sold)')\n",
    "plt.xlabel('Variance in Units Sold')\n",
    "plt.ylabel('Category')\n",
    "plt.show()\n",
    "\n",
    "print(\"\\nTop 25% Categories by Variance:\")\n",
    "print(top_25_percent_categories)"
   ]
  },
  {
   "cell_type": "code",
   "execution_count": 92,
   "metadata": {},
   "outputs": [
    {
     "name": "stdout",
     "output_type": "stream",
     "text": [
      "Category variances saved successfully to 'category_variances.csv'.\n"
     ]
    }
   ],
   "source": [
    "output_file = 'category_variances.csv'\n",
    "output_path = os.path.join(processed_dataset_path, output_file)\n",
    "category_variances.to_csv(output_path, index=False)\n",
    "print(f\"Category variances saved successfully to '{output_file}'.\")"
   ]
  },
  {
   "cell_type": "markdown",
   "metadata": {},
   "source": [
    "### SKU / Units Sold Variance"
   ]
  },
  {
   "cell_type": "code",
   "execution_count": 93,
   "metadata": {},
   "outputs": [],
   "source": [
    "sku_variances = df.groupby('SKU').agg({'Units_Sold': 'var'}).reset_index()\n",
    "sku_variances = sku_variances.rename(columns={'Units_Sold': 'Variance'}).sort_values(by='Variance', ascending=False)\n",
    "\n",
    "top_10_percent_sku_cutoff = int(0.1 * len(sku_variances))\n",
    "top_25_percent_sku_cutoff = int(0.25 * len(sku_variances))\n",
    "\n",
    "top_10_percent_skus = sku_variances.head(top_10_percent_sku_cutoff)\n",
    "top_25_percent_skus = sku_variances.head(top_25_percent_sku_cutoff)\n"
   ]
  },
  {
   "cell_type": "code",
   "execution_count": 94,
   "metadata": {},
   "outputs": [
    {
     "data": {
      "image/png": "[encoded data removed]",
      "text/plain": [
       "<Figure size 1200x600 with 1 Axes>"
      ]
     },
     "metadata": {},
     "output_type": "display_data"
    }
   ],
   "source": [
    "plt.figure(figsize=(12, 6))\n",
    "sns.barplot(x='Variance', y='SKU', data=top_10_percent_skus, palette='viridis')\n",
    "plt.title('Top 10% SKUs by Sales Variance (Units Sold)')\n",
    "plt.xlabel('Variance in Units Sold')\n",
    "plt.ylabel('SKU')\n",
    "plt.show()"
   ]
  },
  {
   "cell_type": "code",
   "execution_count": 95,
   "metadata": {},
   "outputs": [
    {
     "name": "stdout",
     "output_type": "stream",
     "text": [
      "SKU variances saved successfully to 'sku_variances.csv'.\n"
     ]
    }
   ],
   "source": [
    "output_file = 'sku_variances.csv'\n",
    "output_path = os.path.join(processed_dataset_path, output_file)\n",
    "sku_variances.to_csv(output_path, index=False)\n",
    "print(f\"SKU variances saved successfully to '{output_file}'.\")"
   ]
  },
  {
   "cell_type": "markdown",
   "metadata": {},
   "source": [
    "### Departments / Units Sold Variance"
   ]
  },
  {
   "cell_type": "code",
   "execution_count": 96,
   "metadata": {},
   "outputs": [],
   "source": [
    "department_variances = df.groupby('DEPARTMENT').agg({'Units_Sold': 'var'}).reset_index()\n",
    "department_variances = department_variances.rename(columns={'Units_Sold': 'Variance'}).sort_values(by='Variance', ascending=False)\n",
    "\n",
    "top_10_percent_department_cutoff = int(0.1 * len(department_variances))\n",
    "top_25_percent_department_cutoff = int(0.25 * len(department_variances))\n",
    "\n",
    "top_10_percent_departments = department_variances.head(top_10_percent_department_cutoff)\n",
    "top_25_percent_departments = department_variances.head(top_25_percent_department_cutoff)\n"
   ]
  },
  {
   "cell_type": "code",
   "execution_count": 97,
   "metadata": {},
   "outputs": [
    {
     "data": {
      "image/png": "[encoded data removed]",
      "text/plain": [
       "<Figure size 1200x600 with 1 Axes>"
      ]
     },
     "metadata": {},
     "output_type": "display_data"
    }
   ],
   "source": [
    "plt.figure(figsize=(12, 6))\n",
    "sns.barplot(x='Variance', y='DEPARTMENT', data=top_10_percent_departments, palette='viridis')\n",
    "plt.title('Top 10% Departments by Sales Variance (Units Sold)')\n",
    "plt.xlabel('Variance in Units Sold')\n",
    "plt.ylabel('Department')\n",
    "plt.show()"
   ]
  },
  {
   "cell_type": "code",
   "execution_count": 98,
   "metadata": {},
   "outputs": [
    {
     "name": "stdout",
     "output_type": "stream",
     "text": [
      "Department variances saved successfully to 'department_variances.csv'.\n"
     ]
    }
   ],
   "source": [
    "output_file = 'department_variances.csv'\n",
    "output_path = os.path.join(processed_dataset_path, output_file)\n",
    "department_variances.to_csv(output_path, index=False)\n",
    "print(f\"Department variances saved successfully to '{output_file}'.\")\n"
   ]
  },
  {
   "cell_type": "markdown",
   "metadata": {},
   "source": [
    "### ID / Units Sold Variance"
   ]
  },
  {
   "cell_type": "code",
   "execution_count": 101,
   "metadata": {},
   "outputs": [],
   "source": [
    "id_variances = df.groupby('ID').agg({'Units_Sold': 'var'}).reset_index()\n",
    "id_variances = id_variances.rename(columns={'Units_Sold': 'Variance'}).sort_values(by='Variance', ascending=False)\n",
    "\n",
    "top_10_percent_id_cutoff = int(0.1 * len(id_variances))\n",
    "top_25_percent_id_cutoff = int(0.25 * len(id_variances))\n",
    "\n",
    "top_10_percent_ids = id_variances.head(top_10_percent_id_cutoff)\n",
    "top_25_percent_ids = id_variances.head(top_25_percent_id_cutoff)"
   ]
  },
  {
   "cell_type": "code",
   "execution_count": 102,
   "metadata": {},
   "outputs": [
    {
     "data": {
      "image/png": "[encoded data removed]",
      "text/plain": [
       "<Figure size 1200x600 with 1 Axes>"
      ]
     },
     "metadata": {},
     "output_type": "display_data"
    }
   ],
   "source": [
    "plt.figure(figsize=(12, 6))\n",
    "sns.barplot(x='Variance', y='ID', data=top_10_percent_ids, palette='viridis')\n",
    "plt.title('Top 10% IDs by Sales Variance (Units Sold)')\n",
    "plt.xlabel('Variance in Units Sold')\n",
    "plt.ylabel('ID')\n",
    "plt.show()"
   ]
  },
  {
   "cell_type": "code",
   "execution_count": 103,
   "metadata": {},
   "outputs": [
    {
     "name": "stdout",
     "output_type": "stream",
     "text": [
      "ID variances saved successfully to 'id_variances.csv'.\n"
     ]
    }
   ],
   "source": [
    "output_file = 'id_variances.csv'\n",
    "output_path = os.path.join(processed_dataset_path, output_file)\n",
    "id_variances.to_csv(output_path, index=False)\n",
    "print(f\"ID variances saved successfully to '{output_file}'.\")"
   ]
  }
 ],
 "metadata": {
  "kernelspec": {
   "display_name": ".venv",
   "language": "python",
   "name": "python3"
  },
  "language_info": {
   "codemirror_mode": {
    "name": "ipython",
    "version": 3
   },
   "file_extension": ".py",
   "mimetype": "text/x-python",
   "name": "python",
   "nbconvert_exporter": "python",
   "pygments_lexer": "ipython3",
   "version": "3.12.5"
  }
 },
 "nbformat": 4,
 "nbformat_minor": 2
}
