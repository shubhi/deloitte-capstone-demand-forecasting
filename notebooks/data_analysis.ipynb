{
 "cells": [
  {
   "cell_type": "markdown",
   "metadata": {},
   "source": [
    "## Dependencies"
   ]
  },
  {
   "cell_type": "code",
   "execution_count": 68,
   "metadata": {},
   "outputs": [],
   "source": [
    "import pandas as pd\n",
    "import numpy as np\n",
    "import scipy as sp\n",
    "import os\n",
    "import matplotlib.pyplot as plt\n",
    "import seaborn as sns\n",
    "import plotly.express as px\n",
    "import ipywidgets as widgets\n",
    "from IPython.display import display, clear_output\n",
    "from sklearn.preprocessing import StandardScaler"
   ]
  },
  {
   "cell_type": "code",
   "execution_count": 5,
   "metadata": {},
   "outputs": [],
   "source": [
    "import warnings\n",
    "\n",
    "# Ignore all warnings\n",
    "warnings.filterwarnings(\"ignore\")"
   ]
  },
  {
   "cell_type": "markdown",
   "metadata": {},
   "source": [
    "## Data Set"
   ]
  },
  {
   "cell_type": "code",
   "execution_count": 6,
   "metadata": {},
   "outputs": [],
   "source": [
    "raw_dataset_path = '../dataset/raw/'\n",
    "processed_dataset_path = '../dataset/processed/'\n",
    "raw_dataset_file = 'Capstone_Dataset_v1.0.csv'\n",
    "processed_dataset_file = 'Processed_Capstone_Dataset_v1.0.csv'"
   ]
  },
  {
   "cell_type": "code",
   "execution_count": 12,
   "metadata": {},
   "outputs": [
    {
     "name": "stdout",
     "output_type": "stream",
     "text": [
      "Raw dataset 'Capstone_Dataset_v1.0.csv' loaded successfully from ../dataset/raw/\n",
      "<class 'pandas.core.frame.DataFrame'>\n",
      "RangeIndex: 71357 entries, 0 to 71356\n",
      "Data columns (total 8 columns):\n",
      " #   Column      Non-Null Count  Dtype  \n",
      "---  ------      --------------  -----  \n",
      " 0   ID          71357 non-null  object \n",
      " 1   DEPARTMENT  71357 non-null  object \n",
      " 2   CATEGORY    71357 non-null  object \n",
      " 3   SKU         71357 non-null  object \n",
      " 4   Store       71357 non-null  object \n",
      " 5   Week        71357 non-null  object \n",
      " 6   Units_Sold  71357 non-null  int64  \n",
      " 7   Net_Price   71357 non-null  float64\n",
      "dtypes: float64(1), int64(1), object(6)\n",
      "memory usage: 4.4+ MB\n"
     ]
    }
   ],
   "source": [
    "raw_dataset_full_path = os.path.join(raw_dataset_path, raw_dataset_file)\n",
    "df = pd.read_csv(raw_dataset_full_path)\n",
    "print(f\"Raw dataset '{raw_dataset_file}' loaded successfully from {raw_dataset_path}\")\n",
    "df.info()"
   ]
  },
  {
   "cell_type": "markdown",
   "metadata": {},
   "source": [
    "## Cleansing and Wrangling"
   ]
  },
  {
   "cell_type": "code",
   "execution_count": 13,
   "metadata": {},
   "outputs": [
    {
     "data": {
      "text/html": [
       "<div>\n",
       "<style scoped>\n",
       "    .dataframe tbody tr th:only-of-type {\n",
       "        vertical-align: middle;\n",
       "    }\n",
       "\n",
       "    .dataframe tbody tr th {\n",
       "        vertical-align: top;\n",
       "    }\n",
       "\n",
       "    .dataframe thead th {\n",
       "        text-align: right;\n",
       "    }\n",
       "</style>\n",
       "<table border=\"1\" class=\"dataframe\">\n",
       "  <thead>\n",
       "    <tr style=\"text-align: right;\">\n",
       "      <th></th>\n",
       "      <th>ID</th>\n",
       "      <th>DEPARTMENT</th>\n",
       "      <th>CATEGORY</th>\n",
       "      <th>SKU</th>\n",
       "      <th>Store</th>\n",
       "      <th>Week</th>\n",
       "      <th>Units_Sold</th>\n",
       "      <th>Net_Price</th>\n",
       "    </tr>\n",
       "  </thead>\n",
       "  <tbody>\n",
       "    <tr>\n",
       "      <th>0</th>\n",
       "      <td>Store_6_SKU238</td>\n",
       "      <td>Dept13</td>\n",
       "      <td>Category34</td>\n",
       "      <td>SKU238</td>\n",
       "      <td>Store_6</td>\n",
       "      <td>2021-03-31</td>\n",
       "      <td>625</td>\n",
       "      <td>2.04</td>\n",
       "    </tr>\n",
       "    <tr>\n",
       "      <th>1</th>\n",
       "      <td>Store_18_SKU329</td>\n",
       "      <td>Dept18</td>\n",
       "      <td>Category42</td>\n",
       "      <td>SKU329</td>\n",
       "      <td>Store_18</td>\n",
       "      <td>2021-03-31</td>\n",
       "      <td>209</td>\n",
       "      <td>26.73</td>\n",
       "    </tr>\n",
       "    <tr>\n",
       "      <th>2</th>\n",
       "      <td>Store_3_SKU76</td>\n",
       "      <td>Dept5</td>\n",
       "      <td>Category24</td>\n",
       "      <td>SKU76</td>\n",
       "      <td>Store_3</td>\n",
       "      <td>2021-03-31</td>\n",
       "      <td>2146</td>\n",
       "      <td>21.72</td>\n",
       "    </tr>\n",
       "    <tr>\n",
       "      <th>3</th>\n",
       "      <td>Store_16_SKU18</td>\n",
       "      <td>Dept17</td>\n",
       "      <td>Category70</td>\n",
       "      <td>SKU18</td>\n",
       "      <td>Store_16</td>\n",
       "      <td>2021-03-31</td>\n",
       "      <td>317</td>\n",
       "      <td>2.64</td>\n",
       "    </tr>\n",
       "    <tr>\n",
       "      <th>4</th>\n",
       "      <td>Store_5_SKU719</td>\n",
       "      <td>Dept43</td>\n",
       "      <td>Category12</td>\n",
       "      <td>SKU719</td>\n",
       "      <td>Store_5</td>\n",
       "      <td>2021-03-31</td>\n",
       "      <td>97</td>\n",
       "      <td>23.82</td>\n",
       "    </tr>\n",
       "  </tbody>\n",
       "</table>\n",
       "</div>"
      ],
      "text/plain": [
       "                ID DEPARTMENT    CATEGORY     SKU     Store       Week  \\\n",
       "0   Store_6_SKU238     Dept13  Category34  SKU238   Store_6 2021-03-31   \n",
       "1  Store_18_SKU329     Dept18  Category42  SKU329  Store_18 2021-03-31   \n",
       "2    Store_3_SKU76      Dept5  Category24   SKU76   Store_3 2021-03-31   \n",
       "3   Store_16_SKU18     Dept17  Category70   SKU18  Store_16 2021-03-31   \n",
       "4   Store_5_SKU719     Dept43  Category12  SKU719   Store_5 2021-03-31   \n",
       "\n",
       "   Units_Sold  Net_Price  \n",
       "0         625       2.04  \n",
       "1         209      26.73  \n",
       "2        2146      21.72  \n",
       "3         317       2.64  \n",
       "4          97      23.82  "
      ]
     },
     "execution_count": 13,
     "metadata": {},
     "output_type": "execute_result"
    }
   ],
   "source": [
    "df['Week'] = pd.to_datetime(df['Week'], format='%m/%d/%Y')\n",
    "df.head()"
   ]
  },
  {
   "cell_type": "code",
   "execution_count": 14,
   "metadata": {},
   "outputs": [
    {
     "name": "stdout",
     "output_type": "stream",
     "text": [
      "Missing values in the dataset before cleaning:\n",
      "ID            0\n",
      "DEPARTMENT    0\n",
      "CATEGORY      0\n",
      "SKU           0\n",
      "Store         0\n",
      "Week          0\n",
      "Units_Sold    0\n",
      "Net_Price     0\n",
      "dtype: int64\n"
     ]
    }
   ],
   "source": [
    "missing_values = df.isnull().sum()\n",
    "print(\"Missing values in the dataset before cleaning:\")\n",
    "print(missing_values)"
   ]
  },
  {
   "cell_type": "code",
   "execution_count": 15,
   "metadata": {},
   "outputs": [],
   "source": [
    "df.drop_duplicates(inplace=True)"
   ]
  },
  {
   "cell_type": "code",
   "execution_count": 16,
   "metadata": {},
   "outputs": [
    {
     "data": {
      "text/html": [
       "<div>\n",
       "<style scoped>\n",
       "    .dataframe tbody tr th:only-of-type {\n",
       "        vertical-align: middle;\n",
       "    }\n",
       "\n",
       "    .dataframe tbody tr th {\n",
       "        vertical-align: top;\n",
       "    }\n",
       "\n",
       "    .dataframe thead th {\n",
       "        text-align: right;\n",
       "    }\n",
       "</style>\n",
       "<table border=\"1\" class=\"dataframe\">\n",
       "  <thead>\n",
       "    <tr style=\"text-align: right;\">\n",
       "      <th></th>\n",
       "      <th>ID</th>\n",
       "      <th>DEPARTMENT</th>\n",
       "      <th>CATEGORY</th>\n",
       "      <th>SKU</th>\n",
       "      <th>Store</th>\n",
       "      <th>Week</th>\n",
       "      <th>Units_Sold</th>\n",
       "      <th>Net_Price</th>\n",
       "    </tr>\n",
       "  </thead>\n",
       "  <tbody>\n",
       "    <tr>\n",
       "      <th>0</th>\n",
       "      <td>Store_1_SKU239</td>\n",
       "      <td>Dept13</td>\n",
       "      <td>Category34</td>\n",
       "      <td>SKU239</td>\n",
       "      <td>Store_1</td>\n",
       "      <td>2021-03-31</td>\n",
       "      <td>240</td>\n",
       "      <td>3.81</td>\n",
       "    </tr>\n",
       "    <tr>\n",
       "      <th>1</th>\n",
       "      <td>Store_1_SKU239</td>\n",
       "      <td>Dept13</td>\n",
       "      <td>Category34</td>\n",
       "      <td>SKU239</td>\n",
       "      <td>Store_1</td>\n",
       "      <td>2021-04-07</td>\n",
       "      <td>132</td>\n",
       "      <td>5.49</td>\n",
       "    </tr>\n",
       "    <tr>\n",
       "      <th>2</th>\n",
       "      <td>Store_1_SKU239</td>\n",
       "      <td>Dept13</td>\n",
       "      <td>Category34</td>\n",
       "      <td>SKU239</td>\n",
       "      <td>Store_1</td>\n",
       "      <td>2021-04-14</td>\n",
       "      <td>324</td>\n",
       "      <td>3.63</td>\n",
       "    </tr>\n",
       "    <tr>\n",
       "      <th>3</th>\n",
       "      <td>Store_1_SKU239</td>\n",
       "      <td>Dept13</td>\n",
       "      <td>Category34</td>\n",
       "      <td>SKU239</td>\n",
       "      <td>Store_1</td>\n",
       "      <td>2021-04-21</td>\n",
       "      <td>335</td>\n",
       "      <td>3.72</td>\n",
       "    </tr>\n",
       "    <tr>\n",
       "      <th>4</th>\n",
       "      <td>Store_1_SKU239</td>\n",
       "      <td>Dept13</td>\n",
       "      <td>Category34</td>\n",
       "      <td>SKU239</td>\n",
       "      <td>Store_1</td>\n",
       "      <td>2021-04-28</td>\n",
       "      <td>146</td>\n",
       "      <td>3.48</td>\n",
       "    </tr>\n",
       "  </tbody>\n",
       "</table>\n",
       "</div>"
      ],
      "text/plain": [
       "               ID DEPARTMENT    CATEGORY     SKU    Store       Week  \\\n",
       "0  Store_1_SKU239     Dept13  Category34  SKU239  Store_1 2021-03-31   \n",
       "1  Store_1_SKU239     Dept13  Category34  SKU239  Store_1 2021-04-07   \n",
       "2  Store_1_SKU239     Dept13  Category34  SKU239  Store_1 2021-04-14   \n",
       "3  Store_1_SKU239     Dept13  Category34  SKU239  Store_1 2021-04-21   \n",
       "4  Store_1_SKU239     Dept13  Category34  SKU239  Store_1 2021-04-28   \n",
       "\n",
       "   Units_Sold  Net_Price  \n",
       "0         240       3.81  \n",
       "1         132       5.49  \n",
       "2         324       3.63  \n",
       "3         335       3.72  \n",
       "4         146       3.48  "
      ]
     },
     "execution_count": 16,
     "metadata": {},
     "output_type": "execute_result"
    }
   ],
   "source": [
    "df = df.sort_values(by=['Store','DEPARTMENT','CATEGORY','SKU','Week'])\n",
    "df.reset_index(drop=True, inplace=True)\n",
    "df.head()"
   ]
  },
  {
   "cell_type": "code",
   "execution_count": 17,
   "metadata": {},
   "outputs": [],
   "source": [
    "# Feature 1: Total Revenue (Units_Sold * Net_Price)\n",
    "df['Total_Revenue'] = df['Units_Sold'] * df['Net_Price']\n",
    "df['Net_Price'] = df['Net_Price'].round(2)\n",
    "df['Total_Revenue'] = df['Total_Revenue'].round(2)"
   ]
  },
  {
   "cell_type": "code",
   "execution_count": 18,
   "metadata": {},
   "outputs": [],
   "source": [
    "# Feature 2: Extract time-based features from 'Week'\n",
    "df['Year'] = df['Week'].dt.year\n",
    "df['Month'] = df['Week'].dt.month\n",
    "df['Week_Number'] = df['Week'].dt.isocalendar().week"
   ]
  },
  {
   "cell_type": "code",
   "execution_count": 19,
   "metadata": {},
   "outputs": [
    {
     "name": "stdout",
     "output_type": "stream",
     "text": [
      "               ID    Store DEPARTMENT    CATEGORY     SKU  Units_Sold  \\\n",
      "0  Store_1_SKU239  Store_1     Dept13  Category34  SKU239         240   \n",
      "1  Store_1_SKU239  Store_1     Dept13  Category34  SKU239         132   \n",
      "2  Store_1_SKU239  Store_1     Dept13  Category34  SKU239         324   \n",
      "3  Store_1_SKU239  Store_1     Dept13  Category34  SKU239         335   \n",
      "4  Store_1_SKU239  Store_1     Dept13  Category34  SKU239         146   \n",
      "\n",
      "   Net_Price  Total_Revenue       Week  Year  Month  Week_Number  \n",
      "0       3.81         914.40 2021-03-31  2021      3           13  \n",
      "1       5.49         724.68 2021-04-07  2021      4           14  \n",
      "2       3.63        1176.12 2021-04-14  2021      4           15  \n",
      "3       3.72        1246.20 2021-04-21  2021      4           16  \n",
      "4       3.48         508.08 2021-04-28  2021      4           17  \n"
     ]
    }
   ],
   "source": [
    "new_column_order = ['ID', 'Store', 'DEPARTMENT', 'CATEGORY', 'SKU', 'Units_Sold', 'Net_Price', 'Total_Revenue', 'Week', 'Year', 'Month', 'Week_Number']\n",
    "df = df[new_column_order]\n",
    "print(df.head())"
   ]
  },
  {
   "cell_type": "code",
   "execution_count": 20,
   "metadata": {},
   "outputs": [
    {
     "name": "stdout",
     "output_type": "stream",
     "text": [
      "<class 'pandas.core.frame.DataFrame'>\n",
      "RangeIndex: 71357 entries, 0 to 71356\n",
      "Data columns (total 12 columns):\n",
      " #   Column         Non-Null Count  Dtype         \n",
      "---  ------         --------------  -----         \n",
      " 0   ID             71357 non-null  object        \n",
      " 1   Store          71357 non-null  object        \n",
      " 2   DEPARTMENT     71357 non-null  object        \n",
      " 3   CATEGORY       71357 non-null  object        \n",
      " 4   SKU            71357 non-null  object        \n",
      " 5   Units_Sold     71357 non-null  int64         \n",
      " 6   Net_Price      71357 non-null  float64       \n",
      " 7   Total_Revenue  71357 non-null  float64       \n",
      " 8   Week           71357 non-null  datetime64[ns]\n",
      " 9   Year           71357 non-null  int32         \n",
      " 10  Month          71357 non-null  int32         \n",
      " 11  Week_Number    71357 non-null  UInt32        \n",
      "dtypes: UInt32(1), datetime64[ns](1), float64(2), int32(2), int64(1), object(5)\n",
      "memory usage: 5.8+ MB\n"
     ]
    }
   ],
   "source": [
    "df_cleaned_head = df.head()\n",
    "df_cleaned_info = df.info()"
   ]
  },
  {
   "cell_type": "code",
   "execution_count": 21,
   "metadata": {},
   "outputs": [
    {
     "data": {
      "text/html": [
       "<div>\n",
       "<style scoped>\n",
       "    .dataframe tbody tr th:only-of-type {\n",
       "        vertical-align: middle;\n",
       "    }\n",
       "\n",
       "    .dataframe tbody tr th {\n",
       "        vertical-align: top;\n",
       "    }\n",
       "\n",
       "    .dataframe thead th {\n",
       "        text-align: right;\n",
       "    }\n",
       "</style>\n",
       "<table border=\"1\" class=\"dataframe\">\n",
       "  <thead>\n",
       "    <tr style=\"text-align: right;\">\n",
       "      <th></th>\n",
       "      <th>ID</th>\n",
       "      <th>Store</th>\n",
       "      <th>DEPARTMENT</th>\n",
       "      <th>CATEGORY</th>\n",
       "      <th>SKU</th>\n",
       "      <th>Units_Sold</th>\n",
       "      <th>Net_Price</th>\n",
       "      <th>Total_Revenue</th>\n",
       "      <th>Week</th>\n",
       "      <th>Year</th>\n",
       "      <th>Month</th>\n",
       "      <th>Week_Number</th>\n",
       "    </tr>\n",
       "  </thead>\n",
       "  <tbody>\n",
       "    <tr>\n",
       "      <th>0</th>\n",
       "      <td>Store_1_SKU239</td>\n",
       "      <td>Store_1</td>\n",
       "      <td>Dept13</td>\n",
       "      <td>Category34</td>\n",
       "      <td>SKU239</td>\n",
       "      <td>240</td>\n",
       "      <td>3.81</td>\n",
       "      <td>914.40</td>\n",
       "      <td>2021-03-31</td>\n",
       "      <td>2021</td>\n",
       "      <td>3</td>\n",
       "      <td>13</td>\n",
       "    </tr>\n",
       "    <tr>\n",
       "      <th>1</th>\n",
       "      <td>Store_1_SKU239</td>\n",
       "      <td>Store_1</td>\n",
       "      <td>Dept13</td>\n",
       "      <td>Category34</td>\n",
       "      <td>SKU239</td>\n",
       "      <td>132</td>\n",
       "      <td>5.49</td>\n",
       "      <td>724.68</td>\n",
       "      <td>2021-04-07</td>\n",
       "      <td>2021</td>\n",
       "      <td>4</td>\n",
       "      <td>14</td>\n",
       "    </tr>\n",
       "    <tr>\n",
       "      <th>2</th>\n",
       "      <td>Store_1_SKU239</td>\n",
       "      <td>Store_1</td>\n",
       "      <td>Dept13</td>\n",
       "      <td>Category34</td>\n",
       "      <td>SKU239</td>\n",
       "      <td>324</td>\n",
       "      <td>3.63</td>\n",
       "      <td>1176.12</td>\n",
       "      <td>2021-04-14</td>\n",
       "      <td>2021</td>\n",
       "      <td>4</td>\n",
       "      <td>15</td>\n",
       "    </tr>\n",
       "    <tr>\n",
       "      <th>3</th>\n",
       "      <td>Store_1_SKU239</td>\n",
       "      <td>Store_1</td>\n",
       "      <td>Dept13</td>\n",
       "      <td>Category34</td>\n",
       "      <td>SKU239</td>\n",
       "      <td>335</td>\n",
       "      <td>3.72</td>\n",
       "      <td>1246.20</td>\n",
       "      <td>2021-04-21</td>\n",
       "      <td>2021</td>\n",
       "      <td>4</td>\n",
       "      <td>16</td>\n",
       "    </tr>\n",
       "    <tr>\n",
       "      <th>4</th>\n",
       "      <td>Store_1_SKU239</td>\n",
       "      <td>Store_1</td>\n",
       "      <td>Dept13</td>\n",
       "      <td>Category34</td>\n",
       "      <td>SKU239</td>\n",
       "      <td>146</td>\n",
       "      <td>3.48</td>\n",
       "      <td>508.08</td>\n",
       "      <td>2021-04-28</td>\n",
       "      <td>2021</td>\n",
       "      <td>4</td>\n",
       "      <td>17</td>\n",
       "    </tr>\n",
       "  </tbody>\n",
       "</table>\n",
       "</div>"
      ],
      "text/plain": [
       "               ID    Store DEPARTMENT    CATEGORY     SKU  Units_Sold  \\\n",
       "0  Store_1_SKU239  Store_1     Dept13  Category34  SKU239         240   \n",
       "1  Store_1_SKU239  Store_1     Dept13  Category34  SKU239         132   \n",
       "2  Store_1_SKU239  Store_1     Dept13  Category34  SKU239         324   \n",
       "3  Store_1_SKU239  Store_1     Dept13  Category34  SKU239         335   \n",
       "4  Store_1_SKU239  Store_1     Dept13  Category34  SKU239         146   \n",
       "\n",
       "   Net_Price  Total_Revenue       Week  Year  Month  Week_Number  \n",
       "0       3.81         914.40 2021-03-31  2021      3           13  \n",
       "1       5.49         724.68 2021-04-07  2021      4           14  \n",
       "2       3.63        1176.12 2021-04-14  2021      4           15  \n",
       "3       3.72        1246.20 2021-04-21  2021      4           16  \n",
       "4       3.48         508.08 2021-04-28  2021      4           17  "
      ]
     },
     "execution_count": 21,
     "metadata": {},
     "output_type": "execute_result"
    }
   ],
   "source": [
    "df_cleaned_head"
   ]
  },
  {
   "cell_type": "code",
   "execution_count": 23,
   "metadata": {},
   "outputs": [
    {
     "name": "stdout",
     "output_type": "stream",
     "text": [
      "Processed dataset saved successfully as 'Processed_Capstone_Dataset_v1.0.csv' in ../dataset/processed/.\n"
     ]
    }
   ],
   "source": [
    "processed_dataset_full_path = os.path.join(processed_dataset_path, processed_dataset_file)\n",
    "df.to_csv(processed_dataset_full_path, index=False)\n",
    "print(f\"Processed dataset saved successfully as '{processed_dataset_file}' in {processed_dataset_path}.\")"
   ]
  },
  {
   "cell_type": "markdown",
   "metadata": {},
   "source": [
    "## EDA"
   ]
  },
  {
   "cell_type": "markdown",
   "metadata": {},
   "source": [
    "### Distribution"
   ]
  },
  {
   "cell_type": "code",
   "execution_count": 24,
   "metadata": {},
   "outputs": [],
   "source": [
    "processed_dataset_full_path = os.path.join(processed_dataset_path, processed_dataset_file)\n",
    "df = pd.read_csv(processed_dataset_full_path)"
   ]
  },
  {
   "cell_type": "code",
   "execution_count": 27,
   "metadata": {},
   "outputs": [
    {
     "name": "stdout",
     "output_type": "stream",
     "text": [
      "Unique Stores: 21\n",
      "Unique DEPARTMENTs: 44\n",
      "Unique CATEGORYs: 43\n",
      "Unique SKUs: 401\n",
      "Unique ID: 499\n",
      "Number of Weeks: 143 ranging from 2021-03-31 to 2023-12-20\n"
     ]
    }
   ],
   "source": [
    "unique_stores = df['Store'].nunique()\n",
    "print(f\"Unique Stores: {unique_stores}\")\n",
    "\n",
    "unique_departments = df['DEPARTMENT'].nunique()\n",
    "print(f\"Unique DEPARTMENTs: {unique_departments}\")\n",
    "\n",
    "unique_categories = df['CATEGORY'].nunique()\n",
    "print(f\"Unique CATEGORYs: {unique_categories}\")\n",
    "\n",
    "unique_skus = df['SKU'].nunique()\n",
    "print(f\"Unique SKUs: {unique_skus}\")\n",
    "\n",
    "unique_ID = df['ID'].nunique()\n",
    "print(f\"Unique ID: {unique_ID}\")\n",
    "\n",
    "unique_Week = df['Week'].nunique()\n",
    "print(f\"Number of Weeks: {unique_Week} ranging from {df['Week'].min()} to {df['Week'].max()}\")"
   ]
  },
  {
   "cell_type": "code",
   "execution_count": 28,
   "metadata": {},
   "outputs": [
    {
     "data": {
      "application/vnd.plotly.v1+json": {
       "config": {
        "plotlyServerURL": "https://plot.ly"
       },
       "data": [
        {
         "branchvalues": "total",
         "domain": {
          "x": [
           0,
           1
          ],
          "y": [
           0,
           1
          ]
         },
         "hovertemplate": "labels=%{label}<br>Units_Sold=%{value}<br>parent=%{parent}<br>id=%{id}<extra></extra>",
         "ids": [
          "Store_19/Dept1/Category1",
          "Store_6/Dept1/Category1",
          "Store_13/Dept10/Category1",
          "Store_17/Dept10/Category1",
          "Store_5/Dept10/Category1",
          "Store_6/Dept10/Category1",
          "Store_6/Dept13/Category1",
          "Store_8/Dept17/Category1",
          "Store_6/Dept3/Category10",
          "Store_21/Dept45/Category10",
          "Store_8/Dept19/Category11",
          "Store_8/Dept3/Category11",
          "Store_8/Dept35/Category11",
          "Store_4/Dept24/Category112",
          "Store_18/Dept35/Category112",
          "Store_2/Dept35/Category112",
          "Store_4/Dept35/Category112",
          "Store_6/Dept35/Category112",
          "Store_8/Dept35/Category112",
          "Store_9/Dept35/Category112",
          "Store_4/Dept24/Category115",
          "Store_1/Dept26/Category115",
          "Store_4/Dept26/Category115",
          "Store_6/Dept26/Category115",
          "Store_1/Dept37/Category115",
          "Store_4/Dept37/Category115",
          "Store_11/Dept18/Category12",
          "Store_14/Dept18/Category12",
          "Store_15/Dept18/Category12",
          "Store_5/Dept21/Category12",
          "Store_5/Dept3/Category12",
          "Store_1/Dept39/Category12",
          "Store_11/Dept39/Category12",
          "Store_12/Dept39/Category12",
          "Store_15/Dept39/Category12",
          "Store_5/Dept41/Category12",
          "Store_15/Dept43/Category12",
          "Store_5/Dept43/Category12",
          "Store_19/Dept26/Category120",
          "Store_1/Dept38/Category120",
          "Store_10/Dept38/Category120",
          "Store_13/Dept38/Category120",
          "Store_19/Dept38/Category120",
          "Store_7/Dept38/Category120",
          "Store_9/Dept38/Category120",
          "Store_17/Dept11/Category14",
          "Store_9/Dept11/Category14",
          "Store_11/Dept33/Category14",
          "Store_11/Dept8/Category14",
          "Store_10/Dept10/Category15",
          "Store_3/Dept10/Category15",
          "Store_20/Dept18/Category15",
          "Store_10/Dept29/Category15",
          "Store_10/Dept33/Category15",
          "Store_11/Dept33/Category15",
          "Store_13/Dept33/Category15",
          "Store_14/Dept33/Category15",
          "Store_19/Dept33/Category15",
          "Store_20/Dept33/Category15",
          "Store_8/Dept33/Category15",
          "Store_10/Dept4/Category15",
          "Store_12/Dept18/Category16",
          "Store_14/Dept18/Category16",
          "Store_12/Dept27/Category16",
          "Store_12/Dept39/Category16",
          "Store_12/Dept7/Category16",
          "Store_10/Dept29/Category18",
          "Store_3/Dept29/Category18",
          "Store_5/Dept29/Category18",
          "Store_16/Dept42/Category18",
          "Store_5/Dept42/Category18",
          "Store_14/Dept8/Category18",
          "Store_10/Dept11/Category19",
          "Store_17/Dept11/Category19",
          "Store_21/Dept11/Category19",
          "Store_3/Dept11/Category19",
          "Store_15/Dept28/Category19",
          "Store_2/Dept28/Category19",
          "Store_10/Dept32/Category19",
          "Store_3/Dept32/Category19",
          "Store_15/Dept44/Category19",
          "Store_3/Dept44/Category19",
          "Store_17/Dept1/Category2",
          "Store_19/Dept1/Category2",
          "Store_4/Dept1/Category2",
          "Store_5/Dept1/Category2",
          "Store_6/Dept1/Category2",
          "Store_8/Dept1/Category2",
          "Store_9/Dept1/Category2",
          "Store_6/Dept10/Category2",
          "Store_4/Dept26/Category2",
          "Store_14/Dept18/Category20",
          "Store_10/Dept23/Category20",
          "Store_20/Dept33/Category20",
          "Store_1/Dept4/Category20",
          "Store_10/Dept4/Category20",
          "Store_12/Dept4/Category20",
          "Store_11/Dept32/Category21",
          "Store_15/Dept32/Category21",
          "Store_21/Dept32/Category21",
          "Store_3/Dept32/Category21",
          "Store_21/Dept5/Category21",
          "Store_9/Dept5/Category21",
          "Store_4/Dept6/Category21",
          "Store_10/Dept11/Category22",
          "Store_3/Dept11/Category22",
          "Store_2/Dept17/Category22",
          "Store_16/Dept19/Category22",
          "Store_2/Dept19/Category22",
          "Store_3/Dept19/Category22",
          "Store_3/Dept29/Category22",
          "Store_2/Dept32/Category22",
          "Store_9/Dept35/Category22",
          "Store_10/Dept36/Category22",
          "Store_17/Dept32/Category23",
          "Store_11/Dept8/Category23",
          "Store_12/Dept8/Category23",
          "Store_14/Dept8/Category23",
          "Store_18/Dept8/Category23",
          "Store_6/Dept8/Category23",
          "Store_2/Dept11/Category24",
          "Store_3/Dept11/Category24",
          "Store_3/Dept16/Category24",
          "Store_4/Dept20/Category24",
          "Store_2/Dept35/Category24",
          "Store_3/Dept35/Category24",
          "Store_5/Dept42/Category24",
          "Store_2/Dept5/Category24",
          "Store_21/Dept5/Category24",
          "Store_3/Dept5/Category24",
          "Store_9/Dept5/Category24",
          "Store_5/Dept6/Category27",
          "Store_19/Dept34/Category28",
          "Store_1/Dept6/Category28",
          "Store_11/Dept6/Category28",
          "Store_17/Dept6/Category28",
          "Store_18/Dept6/Category28",
          "Store_5/Dept6/Category28",
          "Store_1/Dept9/Category28",
          "Store_16/Dept17/Category3",
          "Store_1/Dept34/Category3",
          "Store_11/Dept34/Category3",
          "Store_14/Dept34/Category3",
          "Store_16/Dept34/Category3",
          "Store_17/Dept34/Category3",
          "Store_19/Dept34/Category3",
          "Store_12/Dept30/Category30",
          "Store_21/Dept30/Category30",
          "Store_12/Dept7/Category30",
          "Store_21/Dept12/Category31",
          "Store_12/Dept21/Category31",
          "Store_5/Dept21/Category31",
          "Store_4/Dept24/Category31",
          "Store_4/Dept26/Category31",
          "Store_9/Dept26/Category31",
          "Store_21/Dept29/Category31",
          "Store_10/Dept31/Category31",
          "Store_11/Dept31/Category31",
          "Store_12/Dept31/Category31",
          "Store_15/Dept31/Category31",
          "Store_21/Dept31/Category31",
          "Store_3/Dept31/Category31",
          "Store_4/Dept31/Category31",
          "Store_18/Dept37/Category31",
          "Store_4/Dept37/Category31",
          "Store_10/Dept13/Category33",
          "Store_10/Dept23/Category33",
          "Store_13/Dept23/Category33",
          "Store_13/Dept10/Category34",
          "Store_1/Dept13/Category34",
          "Store_10/Dept13/Category34",
          "Store_12/Dept13/Category34",
          "Store_13/Dept13/Category34",
          "Store_21/Dept13/Category34",
          "Store_5/Dept13/Category34",
          "Store_6/Dept13/Category34",
          "Store_10/Dept23/Category34",
          "Store_13/Dept23/Category34",
          "Store_10/Dept44/Category34",
          "Store_12/Dept23/Category35",
          "Store_12/Dept7/Category35",
          "Store_18/Dept14/Category39",
          "Store_11/Dept18/Category39",
          "Store_4/Dept24/Category4",
          "Store_18/Dept18/Category42",
          "Store_8/Dept18/Category42",
          "Store_18/Dept36/Category42",
          "Store_11/Dept44/Category42",
          "Store_1/Dept9/Category42",
          "Store_11/Dept9/Category42",
          "Store_18/Dept9/Category42",
          "Store_8/Dept9/Category42",
          "Store_9/Dept26/Category45",
          "Store_13/Dept9/Category45",
          "Store_16/Dept17/Category5",
          "Store_8/Dept2/Category5",
          "Store_4/Dept4/Category5",
          "Store_6/Dept26/Category51",
          "Store_9/Dept11/Category55",
          "Store_17/Dept13/Category55",
          "Store_17/Dept25/Category55",
          "Store_21/Dept25/Category55",
          "Store_21/Dept11/Category58",
          "Store_21/Dept12/Category58",
          "Store_9/Dept12/Category58",
          "Store_18/Dept25/Category58",
          "Store_21/Dept25/Category58",
          "Store_9/Dept26/Category58",
          "Store_13/Dept35/Category58",
          "Store_18/Dept35/Category58",
          "Store_4/Dept35/Category58",
          "Store_13/Dept37/Category58",
          "Store_18/Dept37/Category58",
          "Store_4/Dept37/Category58",
          "Store_9/Dept37/Category58",
          "Store_8/Dept1/Category6",
          "Store_8/Dept2/Category6",
          "Store_16/Dept40/Category6",
          "Store_8/Dept40/Category6",
          "Store_17/Dept15/Category67",
          "Store_20/Dept15/Category67",
          "Store_9/Dept15/Category67",
          "Store_1/Dept16/Category69",
          "Store_11/Dept16/Category69",
          "Store_20/Dept16/Category69",
          "Store_5/Dept16/Category69",
          "Store_5/Dept17/Category69",
          "Store_11/Dept39/Category69",
          "Store_1/Dept42/Category69",
          "Store_5/Dept42/Category69",
          "Store_5/Dept43/Category69",
          "Store_16/Dept16/Category70",
          "Store_1/Dept17/Category70",
          "Store_10/Dept17/Category70",
          "Store_16/Dept17/Category70",
          "Store_8/Dept17/Category70",
          "Store_8/Dept23/Category70",
          "Store_16/Dept44/Category70",
          "Store_14/Dept18/Category89",
          "Store_11/Dept20/Category89",
          "Store_5/Dept29/Category89",
          "Store_5/Dept42/Category89",
          "Store_11/Dept18/Category9",
          "Store_10/Dept3/Category9",
          "Store_12/Dept3/Category9",
          "Store_15/Dept4/Category9",
          "Store_12/Dept43/Category9",
          "Store_14/Dept43/Category9",
          "Store_15/Dept43/Category9",
          "Store_11/Dept44/Category9",
          "Store_14/Dept7/Category9",
          "Store_15/Dept19/Category90",
          "Store_16/Dept20/Category94",
          "Store_1/Dept44/Category94",
          "Store_10/Dept44/Category94",
          "Store_11/Dept44/Category94",
          "Store_15/Dept44/Category94",
          "Store_16/Dept44/Category94",
          "Store_2/Dept44/Category94",
          "Store_3/Dept44/Category94",
          "Store_4/Dept44/Category94",
          "Store_8/Dept44/Category94",
          "Store_9/Dept44/Category94",
          "Store_1/Dept21/Category99",
          "Store_11/Dept21/Category99",
          "Store_12/Dept21/Category99",
          "Store_13/Dept21/Category99",
          "Store_15/Dept21/Category99",
          "Store_18/Dept21/Category99",
          "Store_5/Dept21/Category99",
          "Store_6/Dept21/Category99",
          "Store_17/Dept1",
          "Store_19/Dept1",
          "Store_4/Dept1",
          "Store_5/Dept1",
          "Store_6/Dept1",
          "Store_8/Dept1",
          "Store_9/Dept1",
          "Store_10/Dept10",
          "Store_13/Dept10",
          "Store_17/Dept10",
          "Store_3/Dept10",
          "Store_5/Dept10",
          "Store_6/Dept10",
          "Store_10/Dept11",
          "Store_17/Dept11",
          "Store_2/Dept11",
          "Store_21/Dept11",
          "Store_3/Dept11",
          "Store_9/Dept11",
          "Store_21/Dept12",
          "Store_9/Dept12",
          "Store_1/Dept13",
          "Store_10/Dept13",
          "Store_12/Dept13",
          "Store_13/Dept13",
          "Store_17/Dept13",
          "Store_21/Dept13",
          "Store_5/Dept13",
          "Store_6/Dept13",
          "Store_18/Dept14",
          "Store_17/Dept15",
          "Store_20/Dept15",
          "Store_9/Dept15",
          "Store_1/Dept16",
          "Store_11/Dept16",
          "Store_16/Dept16",
          "Store_20/Dept16",
          "Store_3/Dept16",
          "Store_5/Dept16",
          "Store_1/Dept17",
          "Store_10/Dept17",
          "Store_16/Dept17",
          "Store_2/Dept17",
          "Store_5/Dept17",
          "Store_8/Dept17",
          "Store_11/Dept18",
          "Store_12/Dept18",
          "Store_14/Dept18",
          "Store_15/Dept18",
          "Store_18/Dept18",
          "Store_20/Dept18",
          "Store_8/Dept18",
          "Store_15/Dept19",
          "Store_16/Dept19",
          "Store_2/Dept19",
          "Store_3/Dept19",
          "Store_8/Dept19",
          "Store_8/Dept2",
          "Store_11/Dept20",
          "Store_16/Dept20",
          "Store_4/Dept20",
          "Store_1/Dept21",
          "Store_11/Dept21",
          "Store_12/Dept21",
          "Store_13/Dept21",
          "Store_15/Dept21",
          "Store_18/Dept21",
          "Store_5/Dept21",
          "Store_6/Dept21",
          "Store_10/Dept23",
          "Store_12/Dept23",
          "Store_13/Dept23",
          "Store_8/Dept23",
          "Store_4/Dept24",
          "Store_17/Dept25",
          "Store_18/Dept25",
          "Store_21/Dept25",
          "Store_1/Dept26",
          "Store_19/Dept26",
          "Store_4/Dept26",
          "Store_6/Dept26",
          "Store_9/Dept26",
          "Store_12/Dept27",
          "Store_15/Dept28",
          "Store_2/Dept28",
          "Store_10/Dept29",
          "Store_21/Dept29",
          "Store_3/Dept29",
          "Store_5/Dept29",
          "Store_10/Dept3",
          "Store_12/Dept3",
          "Store_5/Dept3",
          "Store_6/Dept3",
          "Store_8/Dept3",
          "Store_12/Dept30",
          "Store_21/Dept30",
          "Store_10/Dept31",
          "Store_11/Dept31",
          "Store_12/Dept31",
          "Store_15/Dept31",
          "Store_21/Dept31",
          "Store_3/Dept31",
          "Store_4/Dept31",
          "Store_10/Dept32",
          "Store_11/Dept32",
          "Store_15/Dept32",
          "Store_17/Dept32",
          "Store_2/Dept32",
          "Store_21/Dept32",
          "Store_3/Dept32",
          "Store_10/Dept33",
          "Store_11/Dept33",
          "Store_13/Dept33",
          "Store_14/Dept33",
          "Store_19/Dept33",
          "Store_20/Dept33",
          "Store_8/Dept33",
          "Store_1/Dept34",
          "Store_11/Dept34",
          "Store_14/Dept34",
          "Store_16/Dept34",
          "Store_17/Dept34",
          "Store_19/Dept34",
          "Store_13/Dept35",
          "Store_18/Dept35",
          "Store_2/Dept35",
          "Store_3/Dept35",
          "Store_4/Dept35",
          "Store_6/Dept35",
          "Store_8/Dept35",
          "Store_9/Dept35",
          "Store_10/Dept36",
          "Store_18/Dept36",
          "Store_1/Dept37",
          "Store_13/Dept37",
          "Store_18/Dept37",
          "Store_4/Dept37",
          "Store_9/Dept37",
          "Store_1/Dept38",
          "Store_10/Dept38",
          "Store_13/Dept38",
          "Store_19/Dept38",
          "Store_7/Dept38",
          "Store_9/Dept38",
          "Store_1/Dept39",
          "Store_11/Dept39",
          "Store_12/Dept39",
          "Store_15/Dept39",
          "Store_1/Dept4",
          "Store_10/Dept4",
          "Store_12/Dept4",
          "Store_15/Dept4",
          "Store_4/Dept4",
          "Store_16/Dept40",
          "Store_8/Dept40",
          "Store_5/Dept41",
          "Store_1/Dept42",
          "Store_16/Dept42",
          "Store_5/Dept42",
          "Store_12/Dept43",
          "Store_14/Dept43",
          "Store_15/Dept43",
          "Store_5/Dept43",
          "Store_1/Dept44",
          "Store_10/Dept44",
          "Store_11/Dept44",
          "Store_15/Dept44",
          "Store_16/Dept44",
          "Store_2/Dept44",
          "Store_3/Dept44",
          "Store_4/Dept44",
          "Store_8/Dept44",
          "Store_9/Dept44",
          "Store_21/Dept45",
          "Store_2/Dept5",
          "Store_21/Dept5",
          "Store_3/Dept5",
          "Store_9/Dept5",
          "Store_1/Dept6",
          "Store_11/Dept6",
          "Store_17/Dept6",
          "Store_18/Dept6",
          "Store_4/Dept6",
          "Store_5/Dept6",
          "Store_12/Dept7",
          "Store_14/Dept7",
          "Store_11/Dept8",
          "Store_12/Dept8",
          "Store_14/Dept8",
          "Store_18/Dept8",
          "Store_6/Dept8",
          "Store_1/Dept9",
          "Store_11/Dept9",
          "Store_13/Dept9",
          "Store_18/Dept9",
          "Store_8/Dept9",
          "Store_1",
          "Store_10",
          "Store_11",
          "Store_12",
          "Store_13",
          "Store_14",
          "Store_15",
          "Store_16",
          "Store_17",
          "Store_18",
          "Store_19",
          "Store_2",
          "Store_20",
          "Store_21",
          "Store_3",
          "Store_4",
          "Store_5",
          "Store_6",
          "Store_7",
          "Store_8",
          "Store_9"
         ],
         "labels": [
          "Category1",
          "Category1",
          "Category1",
          "Category1",
          "Category1",
          "Category1",
          "Category1",
          "Category1",
          "Category10",
          "Category10",
          "Category11",
          "Category11",
          "Category11",
          "Category112",
          "Category112",
          "Category112",
          "Category112",
          "Category112",
          "Category112",
          "Category112",
          "Category115",
          "Category115",
          "Category115",
          "Category115",
          "Category115",
          "Category115",
          "Category12",
          "Category12",
          "Category12",
          "Category12",
          "Category12",
          "Category12",
          "Category12",
          "Category12",
          "Category12",
          "Category12",
          "Category12",
          "Category12",
          "Category120",
          "Category120",
          "Category120",
          "Category120",
          "Category120",
          "Category120",
          "Category120",
          "Category14",
          "Category14",
          "Category14",
          "Category14",
          "Category15",
          "Category15",
          "Category15",
          "Category15",
          "Category15",
          "Category15",
          "Category15",
          "Category15",
          "Category15",
          "Category15",
          "Category15",
          "Category15",
          "Category16",
          "Category16",
          "Category16",
          "Category16",
          "Category16",
          "Category18",
          "Category18",
          "Category18",
          "Category18",
          "Category18",
          "Category18",
          "Category19",
          "Category19",
          "Category19",
          "Category19",
          "Category19",
          "Category19",
          "Category19",
          "Category19",
          "Category19",
          "Category19",
          "Category2",
          "Category2",
          "Category2",
          "Category2",
          "Category2",
          "Category2",
          "Category2",
          "Category2",
          "Category2",
          "Category20",
          "Category20",
          "Category20",
          "Category20",
          "Category20",
          "Category20",
          "Category21",
          "Category21",
          "Category21",
          "Category21",
          "Category21",
          "Category21",
          "Category21",
          "Category22",
          "Category22",
          "Category22",
          "Category22",
          "Category22",
          "Category22",
          "Category22",
          "Category22",
          "Category22",
          "Category22",
          "Category23",
          "Category23",
          "Category23",
          "Category23",
          "Category23",
          "Category23",
          "Category24",
          "Category24",
          "Category24",
          "Category24",
          "Category24",
          "Category24",
          "Category24",
          "Category24",
          "Category24",
          "Category24",
          "Category24",
          "Category27",
          "Category28",
          "Category28",
          "Category28",
          "Category28",
          "Category28",
          "Category28",
          "Category28",
          "Category3",
          "Category3",
          "Category3",
          "Category3",
          "Category3",
          "Category3",
          "Category3",
          "Category30",
          "Category30",
          "Category30",
          "Category31",
          "Category31",
          "Category31",
          "Category31",
          "Category31",
          "Category31",
          "Category31",
          "Category31",
          "Category31",
          "Category31",
          "Category31",
          "Category31",
          "Category31",
          "Category31",
          "Category31",
          "Category31",
          "Category33",
          "Category33",
          "Category33",
          "Category34",
          "Category34",
          "Category34",
          "Category34",
          "Category34",
          "Category34",
          "Category34",
          "Category34",
          "Category34",
          "Category34",
          "Category34",
          "Category35",
          "Category35",
          "Category39",
          "Category39",
          "Category4",
          "Category42",
          "Category42",
          "Category42",
          "Category42",
          "Category42",
          "Category42",
          "Category42",
          "Category42",
          "Category45",
          "Category45",
          "Category5",
          "Category5",
          "Category5",
          "Category51",
          "Category55",
          "Category55",
          "Category55",
          "Category55",
          "Category58",
          "Category58",
          "Category58",
          "Category58",
          "Category58",
          "Category58",
          "Category58",
          "Category58",
          "Category58",
          "Category58",
          "Category58",
          "Category58",
          "Category58",
          "Category6",
          "Category6",
          "Category6",
          "Category6",
          "Category67",
          "Category67",
          "Category67",
          "Category69",
          "Category69",
          "Category69",
          "Category69",
          "Category69",
          "Category69",
          "Category69",
          "Category69",
          "Category69",
          "Category70",
          "Category70",
          "Category70",
          "Category70",
          "Category70",
          "Category70",
          "Category70",
          "Category89",
          "Category89",
          "Category89",
          "Category89",
          "Category9",
          "Category9",
          "Category9",
          "Category9",
          "Category9",
          "Category9",
          "Category9",
          "Category9",
          "Category9",
          "Category90",
          "Category94",
          "Category94",
          "Category94",
          "Category94",
          "Category94",
          "Category94",
          "Category94",
          "Category94",
          "Category94",
          "Category94",
          "Category94",
          "Category99",
          "Category99",
          "Category99",
          "Category99",
          "Category99",
          "Category99",
          "Category99",
          "Category99",
          "Dept1",
          "Dept1",
          "Dept1",
          "Dept1",
          "Dept1",
          "Dept1",
          "Dept1",
          "Dept10",
          "Dept10",
          "Dept10",
          "Dept10",
          "Dept10",
          "Dept10",
          "Dept11",
          "Dept11",
          "Dept11",
          "Dept11",
          "Dept11",
          "Dept11",
          "Dept12",
          "Dept12",
          "Dept13",
          "Dept13",
          "Dept13",
          "Dept13",
          "Dept13",
          "Dept13",
          "Dept13",
          "Dept13",
          "Dept14",
          "Dept15",
          "Dept15",
          "Dept15",
          "Dept16",
          "Dept16",
          "Dept16",
          "Dept16",
          "Dept16",
          "Dept16",
          "Dept17",
          "Dept17",
          "Dept17",
          "Dept17",
          "Dept17",
          "Dept17",
          "Dept18",
          "Dept18",
          "Dept18",
          "Dept18",
          "Dept18",
          "Dept18",
          "Dept18",
          "Dept19",
          "Dept19",
          "Dept19",
          "Dept19",
          "Dept19",
          "Dept2",
          "Dept20",
          "Dept20",
          "Dept20",
          "Dept21",
          "Dept21",
          "Dept21",
          "Dept21",
          "Dept21",
          "Dept21",
          "Dept21",
          "Dept21",
          "Dept23",
          "Dept23",
          "Dept23",
          "Dept23",
          "Dept24",
          "Dept25",
          "Dept25",
          "Dept25",
          "Dept26",
          "Dept26",
          "Dept26",
          "Dept26",
          "Dept26",
          "Dept27",
          "Dept28",
          "Dept28",
          "Dept29",
          "Dept29",
          "Dept29",
          "Dept29",
          "Dept3",
          "Dept3",
          "Dept3",
          "Dept3",
          "Dept3",
          "Dept30",
          "Dept30",
          "Dept31",
          "Dept31",
          "Dept31",
          "Dept31",
          "Dept31",
          "Dept31",
          "Dept31",
          "Dept32",
          "Dept32",
          "Dept32",
          "Dept32",
          "Dept32",
          "Dept32",
          "Dept32",
          "Dept33",
          "Dept33",
          "Dept33",
          "Dept33",
          "Dept33",
          "Dept33",
          "Dept33",
          "Dept34",
          "Dept34",
          "Dept34",
          "Dept34",
          "Dept34",
          "Dept34",
          "Dept35",
          "Dept35",
          "Dept35",
          "Dept35",
          "Dept35",
          "Dept35",
          "Dept35",
          "Dept35",
          "Dept36",
          "Dept36",
          "Dept37",
          "Dept37",
          "Dept37",
          "Dept37",
          "Dept37",
          "Dept38",
          "Dept38",
          "Dept38",
          "Dept38",
          "Dept38",
          "Dept38",
          "Dept39",
          "Dept39",
          "Dept39",
          "Dept39",
          "Dept4",
          "Dept4",
          "Dept4",
          "Dept4",
          "Dept4",
          "Dept40",
          "Dept40",
          "Dept41",
          "Dept42",
          "Dept42",
          "Dept42",
          "Dept43",
          "Dept43",
          "Dept43",
          "Dept43",
          "Dept44",
          "Dept44",
          "Dept44",
          "Dept44",
          "Dept44",
          "Dept44",
          "Dept44",
          "Dept44",
          "Dept44",
          "Dept44",
          "Dept45",
          "Dept5",
          "Dept5",
          "Dept5",
          "Dept5",
          "Dept6",
          "Dept6",
          "Dept6",
          "Dept6",
          "Dept6",
          "Dept6",
          "Dept7",
          "Dept7",
          "Dept8",
          "Dept8",
          "Dept8",
          "Dept8",
          "Dept8",
          "Dept9",
          "Dept9",
          "Dept9",
          "Dept9",
          "Dept9",
          "Store_1",
          "Store_10",
          "Store_11",
          "Store_12",
          "Store_13",
          "Store_14",
          "Store_15",
          "Store_16",
          "Store_17",
          "Store_18",
          "Store_19",
          "Store_2",
          "Store_20",
          "Store_21",
          "Store_3",
          "Store_4",
          "Store_5",
          "Store_6",
          "Store_7",
          "Store_8",
          "Store_9"
         ],
         "name": "",
         "parents": [
          "Store_19/Dept1",
          "Store_6/Dept1",
          "Store_13/Dept10",
          "Store_17/Dept10",
          "Store_5/Dept10",
          "Store_6/Dept10",
          "Store_6/Dept13",
          "Store_8/Dept17",
          "Store_6/Dept3",
          "Store_21/Dept45",
          "Store_8/Dept19",
          "Store_8/Dept3",
          "Store_8/Dept35",
          "Store_4/Dept24",
          "Store_18/Dept35",
          "Store_2/Dept35",
          "Store_4/Dept35",
          "Store_6/Dept35",
          "Store_8/Dept35",
          "Store_9/Dept35",
          "Store_4/Dept24",
          "Store_1/Dept26",
          "Store_4/Dept26",
          "Store_6/Dept26",
          "Store_1/Dept37",
          "Store_4/Dept37",
          "Store_11/Dept18",
          "Store_14/Dept18",
          "Store_15/Dept18",
          "Store_5/Dept21",
          "Store_5/Dept3",
          "Store_1/Dept39",
          "Store_11/Dept39",
          "Store_12/Dept39",
          "Store_15/Dept39",
          "Store_5/Dept41",
          "Store_15/Dept43",
          "Store_5/Dept43",
          "Store_19/Dept26",
          "Store_1/Dept38",
          "Store_10/Dept38",
          "Store_13/Dept38",
          "Store_19/Dept38",
          "Store_7/Dept38",
          "Store_9/Dept38",
          "Store_17/Dept11",
          "Store_9/Dept11",
          "Store_11/Dept33",
          "Store_11/Dept8",
          "Store_10/Dept10",
          "Store_3/Dept10",
          "Store_20/Dept18",
          "Store_10/Dept29",
          "Store_10/Dept33",
          "Store_11/Dept33",
          "Store_13/Dept33",
          "Store_14/Dept33",
          "Store_19/Dept33",
          "Store_20/Dept33",
          "Store_8/Dept33",
          "Store_10/Dept4",
          "Store_12/Dept18",
          "Store_14/Dept18",
          "Store_12/Dept27",
          "Store_12/Dept39",
          "Store_12/Dept7",
          "Store_10/Dept29",
          "Store_3/Dept29",
          "Store_5/Dept29",
          "Store_16/Dept42",
          "Store_5/Dept42",
          "Store_14/Dept8",
          "Store_10/Dept11",
          "Store_17/Dept11",
          "Store_21/Dept11",
          "Store_3/Dept11",
          "Store_15/Dept28",
          "Store_2/Dept28",
          "Store_10/Dept32",
          "Store_3/Dept32",
          "Store_15/Dept44",
          "Store_3/Dept44",
          "Store_17/Dept1",
          "Store_19/Dept1",
          "Store_4/Dept1",
          "Store_5/Dept1",
          "Store_6/Dept1",
          "Store_8/Dept1",
          "Store_9/Dept1",
          "Store_6/Dept10",
          "Store_4/Dept26",
          "Store_14/Dept18",
          "Store_10/Dept23",
          "Store_20/Dept33",
          "Store_1/Dept4",
          "Store_10/Dept4",
          "Store_12/Dept4",
          "Store_11/Dept32",
          "Store_15/Dept32",
          "Store_21/Dept32",
          "Store_3/Dept32",
          "Store_21/Dept5",
          "Store_9/Dept5",
          "Store_4/Dept6",
          "Store_10/Dept11",
          "Store_3/Dept11",
          "Store_2/Dept17",
          "Store_16/Dept19",
          "Store_2/Dept19",
          "Store_3/Dept19",
          "Store_3/Dept29",
          "Store_2/Dept32",
          "Store_9/Dept35",
          "Store_10/Dept36",
          "Store_17/Dept32",
          "Store_11/Dept8",
          "Store_12/Dept8",
          "Store_14/Dept8",
          "Store_18/Dept8",
          "Store_6/Dept8",
          "Store_2/Dept11",
          "Store_3/Dept11",
          "Store_3/Dept16",
          "Store_4/Dept20",
          "Store_2/Dept35",
          "Store_3/Dept35",
          "Store_5/Dept42",
          "Store_2/Dept5",
          "Store_21/Dept5",
          "Store_3/Dept5",
          "Store_9/Dept5",
          "Store_5/Dept6",
          "Store_19/Dept34",
          "Store_1/Dept6",
          "Store_11/Dept6",
          "Store_17/Dept6",
          "Store_18/Dept6",
          "Store_5/Dept6",
          "Store_1/Dept9",
          "Store_16/Dept17",
          "Store_1/Dept34",
          "Store_11/Dept34",
          "Store_14/Dept34",
          "Store_16/Dept34",
          "Store_17/Dept34",
          "Store_19/Dept34",
          "Store_12/Dept30",
          "Store_21/Dept30",
          "Store_12/Dept7",
          "Store_21/Dept12",
          "Store_12/Dept21",
          "Store_5/Dept21",
          "Store_4/Dept24",
          "Store_4/Dept26",
          "Store_9/Dept26",
          "Store_21/Dept29",
          "Store_10/Dept31",
          "Store_11/Dept31",
          "Store_12/Dept31",
          "Store_15/Dept31",
          "Store_21/Dept31",
          "Store_3/Dept31",
          "Store_4/Dept31",
          "Store_18/Dept37",
          "Store_4/Dept37",
          "Store_10/Dept13",
          "Store_10/Dept23",
          "Store_13/Dept23",
          "Store_13/Dept10",
          "Store_1/Dept13",
          "Store_10/Dept13",
          "Store_12/Dept13",
          "Store_13/Dept13",
          "Store_21/Dept13",
          "Store_5/Dept13",
          "Store_6/Dept13",
          "Store_10/Dept23",
          "Store_13/Dept23",
          "Store_10/Dept44",
          "Store_12/Dept23",
          "Store_12/Dept7",
          "Store_18/Dept14",
          "Store_11/Dept18",
          "Store_4/Dept24",
          "Store_18/Dept18",
          "Store_8/Dept18",
          "Store_18/Dept36",
          "Store_11/Dept44",
          "Store_1/Dept9",
          "Store_11/Dept9",
          "Store_18/Dept9",
          "Store_8/Dept9",
          "Store_9/Dept26",
          "Store_13/Dept9",
          "Store_16/Dept17",
          "Store_8/Dept2",
          "Store_4/Dept4",
          "Store_6/Dept26",
          "Store_9/Dept11",
          "Store_17/Dept13",
          "Store_17/Dept25",
          "Store_21/Dept25",
          "Store_21/Dept11",
          "Store_21/Dept12",
          "Store_9/Dept12",
          "Store_18/Dept25",
          "Store_21/Dept25",
          "Store_9/Dept26",
          "Store_13/Dept35",
          "Store_18/Dept35",
          "Store_4/Dept35",
          "Store_13/Dept37",
          "Store_18/Dept37",
          "Store_4/Dept37",
          "Store_9/Dept37",
          "Store_8/Dept1",
          "Store_8/Dept2",
          "Store_16/Dept40",
          "Store_8/Dept40",
          "Store_17/Dept15",
          "Store_20/Dept15",
          "Store_9/Dept15",
          "Store_1/Dept16",
          "Store_11/Dept16",
          "Store_20/Dept16",
          "Store_5/Dept16",
          "Store_5/Dept17",
          "Store_11/Dept39",
          "Store_1/Dept42",
          "Store_5/Dept42",
          "Store_5/Dept43",
          "Store_16/Dept16",
          "Store_1/Dept17",
          "Store_10/Dept17",
          "Store_16/Dept17",
          "Store_8/Dept17",
          "Store_8/Dept23",
          "Store_16/Dept44",
          "Store_14/Dept18",
          "Store_11/Dept20",
          "Store_5/Dept29",
          "Store_5/Dept42",
          "Store_11/Dept18",
          "Store_10/Dept3",
          "Store_12/Dept3",
          "Store_15/Dept4",
          "Store_12/Dept43",
          "Store_14/Dept43",
          "Store_15/Dept43",
          "Store_11/Dept44",
          "Store_14/Dept7",
          "Store_15/Dept19",
          "Store_16/Dept20",
          "Store_1/Dept44",
          "Store_10/Dept44",
          "Store_11/Dept44",
          "Store_15/Dept44",
          "Store_16/Dept44",
          "Store_2/Dept44",
          "Store_3/Dept44",
          "Store_4/Dept44",
          "Store_8/Dept44",
          "Store_9/Dept44",
          "Store_1/Dept21",
          "Store_11/Dept21",
          "Store_12/Dept21",
          "Store_13/Dept21",
          "Store_15/Dept21",
          "Store_18/Dept21",
          "Store_5/Dept21",
          "Store_6/Dept21",
          "Store_17",
          "Store_19",
          "Store_4",
          "Store_5",
          "Store_6",
          "Store_8",
          "Store_9",
          "Store_10",
          "Store_13",
          "Store_17",
          "Store_3",
          "Store_5",
          "Store_6",
          "Store_10",
          "Store_17",
          "Store_2",
          "Store_21",
          "Store_3",
          "Store_9",
          "Store_21",
          "Store_9",
          "Store_1",
          "Store_10",
          "Store_12",
          "Store_13",
          "Store_17",
          "Store_21",
          "Store_5",
          "Store_6",
          "Store_18",
          "Store_17",
          "Store_20",
          "Store_9",
          "Store_1",
          "Store_11",
          "Store_16",
          "Store_20",
          "Store_3",
          "Store_5",
          "Store_1",
          "Store_10",
          "Store_16",
          "Store_2",
          "Store_5",
          "Store_8",
          "Store_11",
          "Store_12",
          "Store_14",
          "Store_15",
          "Store_18",
          "Store_20",
          "Store_8",
          "Store_15",
          "Store_16",
          "Store_2",
          "Store_3",
          "Store_8",
          "Store_8",
          "Store_11",
          "Store_16",
          "Store_4",
          "Store_1",
          "Store_11",
          "Store_12",
          "Store_13",
          "Store_15",
          "Store_18",
          "Store_5",
          "Store_6",
          "Store_10",
          "Store_12",
          "Store_13",
          "Store_8",
          "Store_4",
          "Store_17",
          "Store_18",
          "Store_21",
          "Store_1",
          "Store_19",
          "Store_4",
          "Store_6",
          "Store_9",
          "Store_12",
          "Store_15",
          "Store_2",
          "Store_10",
          "Store_21",
          "Store_3",
          "Store_5",
          "Store_10",
          "Store_12",
          "Store_5",
          "Store_6",
          "Store_8",
          "Store_12",
          "Store_21",
          "Store_10",
          "Store_11",
          "Store_12",
          "Store_15",
          "Store_21",
          "Store_3",
          "Store_4",
          "Store_10",
          "Store_11",
          "Store_15",
          "Store_17",
          "Store_2",
          "Store_21",
          "Store_3",
          "Store_10",
          "Store_11",
          "Store_13",
          "Store_14",
          "Store_19",
          "Store_20",
          "Store_8",
          "Store_1",
          "Store_11",
          "Store_14",
          "Store_16",
          "Store_17",
          "Store_19",
          "Store_13",
          "Store_18",
          "Store_2",
          "Store_3",
          "Store_4",
          "Store_6",
          "Store_8",
          "Store_9",
          "Store_10",
          "Store_18",
          "Store_1",
          "Store_13",
          "Store_18",
          "Store_4",
          "Store_9",
          "Store_1",
          "Store_10",
          "Store_13",
          "Store_19",
          "Store_7",
          "Store_9",
          "Store_1",
          "Store_11",
          "Store_12",
          "Store_15",
          "Store_1",
          "Store_10",
          "Store_12",
          "Store_15",
          "Store_4",
          "Store_16",
          "Store_8",
          "Store_5",
          "Store_1",
          "Store_16",
          "Store_5",
          "Store_12",
          "Store_14",
          "Store_15",
          "Store_5",
          "Store_1",
          "Store_10",
          "Store_11",
          "Store_15",
          "Store_16",
          "Store_2",
          "Store_3",
          "Store_4",
          "Store_8",
          "Store_9",
          "Store_21",
          "Store_2",
          "Store_21",
          "Store_3",
          "Store_9",
          "Store_1",
          "Store_11",
          "Store_17",
          "Store_18",
          "Store_4",
          "Store_5",
          "Store_12",
          "Store_14",
          "Store_11",
          "Store_12",
          "Store_14",
          "Store_18",
          "Store_6",
          "Store_1",
          "Store_11",
          "Store_13",
          "Store_18",
          "Store_8",
          "",
          "",
          "",
          "",
          "",
          "",
          "",
          "",
          "",
          "",
          "",
          "",
          "",
          "",
          "",
          "",
          "",
          "",
          "",
          "",
          ""
         ],
         "type": "sunburst",
         "values": [
          5747,
          22645,
          9616,
          11625,
          11879,
          51655,
          6118,
          602,
          130380,
          96814,
          57811,
          17226,
          25967,
          99602,
          80041,
          291365,
          34152,
          627666,
          26264,
          955799,
          22432,
          3357,
          103488,
          5768,
          10934,
          63530,
          39982,
          58650,
          50114,
          14577,
          33803,
          9778,
          104000,
          6606,
          144067,
          40172,
          28812,
          12583,
          10071,
          16973,
          18347,
          15685,
          38157,
          57751,
          33917,
          3898,
          13118,
          43476,
          15282,
          3491,
          8666,
          32097,
          4335,
          58707,
          159305,
          38935,
          30847,
          28727,
          85882,
          5738,
          148008,
          24564,
          123217,
          12869,
          20815,
          3662,
          468015,
          117619,
          25749,
          52505,
          59537,
          5349,
          13852,
          10321,
          54774,
          46350,
          2866,
          1105,
          9335,
          15994,
          11704,
          79808,
          53774,
          1364,
          89771,
          86932,
          415093,
          64111,
          48487,
          109098,
          97086,
          7582,
          2320,
          3284,
          30578,
          16459,
          42625,
          6198,
          20505,
          5356,
          434,
          17105,
          16513,
          5783,
          42289,
          67824,
          10191,
          13291,
          13506,
          46531,
          69086,
          7959,
          82096,
          55986,
          3894,
          450785,
          27723,
          49986,
          29246,
          49326,
          31342,
          173751,
          96541,
          67398,
          78524,
          117256,
          85214,
          344395,
          124381,
          587289,
          584925,
          46407,
          46749,
          98767,
          20882,
          67336,
          23565,
          76970,
          41755,
          36851,
          132254,
          82484,
          7067,
          67045,
          165911,
          91166,
          10569,
          27132,
          765,
          27138,
          2556,
          15094,
          104045,
          52508,
          25158,
          21889,
          78892,
          31831,
          12561,
          26350,
          108824,
          193156,
          170139,
          6375,
          18513,
          19411,
          10639,
          1671,
          29031,
          25259,
          368440,
          30707,
          11599,
          20222,
          54026,
          432377,
          13833,
          12428,
          27726,
          317,
          3632,
          10501,
          26036,
          50335,
          19175,
          19911,
          18107,
          28102,
          31585,
          1948,
          42839,
          2980,
          4430,
          5066,
          10577,
          1953,
          121925,
          31091,
          34742,
          2500,
          184433,
          85462,
          59111,
          64,
          16740,
          3722,
          15935,
          33658,
          108817,
          17967,
          80952,
          8318,
          3357,
          38159,
          10929,
          1890,
          1538,
          18200,
          2921,
          128218,
          6717,
          43572,
          38506,
          32908,
          33488,
          63359,
          44862,
          41932,
          24527,
          173988,
          59807,
          27590,
          45851,
          42594,
          382313,
          7416,
          1825,
          15750,
          6406,
          5108,
          8529,
          69646,
          10844,
          24565,
          15621,
          42158,
          17312,
          6657,
          61493,
          16050,
          2330,
          64742,
          3633,
          25348,
          100694,
          165631,
          128851,
          3760,
          26183,
          60832,
          247023,
          2556,
          50965,
          27198,
          100369,
          26046,
          32321,
          77336,
          17287,
          125762,
          822836,
          53774,
          7111,
          89771,
          86932,
          437738,
          66001,
          48487,
          3491,
          38647,
          11625,
          8666,
          11879,
          160753,
          56141,
          14219,
          31342,
          113885,
          287925,
          47860,
          27202,
          16740,
          25259,
          387851,
          30707,
          11599,
          2500,
          20222,
          54026,
          438495,
          10501,
          128218,
          6717,
          43572,
          38506,
          32908,
          27590,
          33488,
          96541,
          63359,
          45851,
          42594,
          429741,
          10191,
          44862,
          8018,
          76862,
          24564,
          195855,
          50114,
          19175,
          32097,
          19911,
          64742,
          13291,
          13506,
          46531,
          57811,
          3491,
          5108,
          3633,
          67398,
          27198,
          100369,
          28602,
          32321,
          77336,
          17287,
          155433,
          822836,
          26792,
          317,
          14099,
          1825,
          276414,
          184433,
          3722,
          101397,
          3357,
          10071,
          253082,
          36859,
          63246,
          12869,
          2866,
          1105,
          472350,
          21889,
          186705,
          34278,
          24565,
          15621,
          33803,
          130380,
          17226,
          10569,
          27132,
          78892,
          31831,
          12561,
          26350,
          108824,
          193156,
          170139,
          9335,
          6198,
          20505,
          3894,
          7959,
          5356,
          16428,
          58707,
          202781,
          38935,
          30847,
          28727,
          89166,
          5738,
          132254,
          82484,
          7067,
          67045,
          165911,
          137915,
          108817,
          98008,
          369889,
          117256,
          115104,
          627666,
          52231,
          1037895,
          55986,
          18107,
          10934,
          8318,
          9732,
          120202,
          10929,
          16973,
          18347,
          15685,
          38157,
          57751,
          33917,
          9778,
          145932,
          27421,
          144067,
          30578,
          164467,
          42625,
          42158,
          121925,
          18200,
          2921,
          40172,
          24527,
          52505,
          388385,
          17312,
          6657,
          90305,
          72390,
          25348,
          128420,
          209783,
          140555,
          19510,
          26183,
          140640,
          247023,
          2556,
          50965,
          96814,
          344395,
          141486,
          587289,
          601438,
          98767,
          20882,
          67336,
          23565,
          5783,
          123377,
          8059,
          2330,
          466067,
          27723,
          55335,
          29246,
          49326,
          73340,
          1948,
          5066,
          42839,
          2980,
          562670,
          1527938,
          1383153,
          258950,
          273487,
          298091,
          658998,
          631515,
          631910,
          272182,
          221981,
          804570,
          161468,
          664207,
          1681137,
          1466841,
          1108896,
          2704053,
          57751,
          240709,
          1955049
         ]
        }
       ],
       "layout": {
        "height": 700,
        "legend": {
         "tracegroupgap": 0
        },
        "template": {
         "data": {
          "bar": [
           {
            "error_x": {
             "color": "#2a3f5f"
            },
            "error_y": {
             "color": "#2a3f5f"
            },
            "marker": {
             "line": {
              "color": "#E5ECF6",
              "width": 0.5
             },
             "pattern": {
              "fillmode": "overlay",
              "size": 10,
              "solidity": 0.2
             }
            },
            "type": "bar"
           }
          ],
          "barpolar": [
           {
            "marker": {
             "line": {
              "color": "#E5ECF6",
              "width": 0.5
             },
             "pattern": {
              "fillmode": "overlay",
              "size": 10,
              "solidity": 0.2
             }
            },
            "type": "barpolar"
           }
          ],
          "carpet": [
           {
            "aaxis": {
             "endlinecolor": "#2a3f5f",
             "gridcolor": "white",
             "linecolor": "white",
             "minorgridcolor": "white",
             "startlinecolor": "#2a3f5f"
            },
            "baxis": {
             "endlinecolor": "#2a3f5f",
             "gridcolor": "white",
             "linecolor": "white",
             "minorgridcolor": "white",
             "startlinecolor": "#2a3f5f"
            },
            "type": "carpet"
           }
          ],
          "choropleth": [
           {
            "colorbar": {
             "outlinewidth": 0,
             "ticks": ""
            },
            "type": "choropleth"
           }
          ],
          "contour": [
           {
            "colorbar": {
             "outlinewidth": 0,
             "ticks": ""
            },
            "colorscale": [
             [
              0,
              "#0d0887"
             ],
             [
              0.1111111111111111,
              "#46039f"
             ],
             [
              0.2222222222222222,
              "#7201a8"
             ],
             [
              0.3333333333333333,
              "#9c179e"
             ],
             [
              0.4444444444444444,
              "#bd3786"
             ],
             [
              0.5555555555555556,
              "#d8576b"
             ],
             [
              0.6666666666666666,
              "#ed7953"
             ],
             [
              0.7777777777777778,
              "#fb9f3a"
             ],
             [
              0.8888888888888888,
              "#fdca26"
             ],
             [
              1,
              "#f0f921"
             ]
            ],
            "type": "contour"
           }
          ],
          "contourcarpet": [
           {
            "colorbar": {
             "outlinewidth": 0,
             "ticks": ""
            },
            "type": "contourcarpet"
           }
          ],
          "heatmap": [
           {
            "colorbar": {
             "outlinewidth": 0,
             "ticks": ""
            },
            "colorscale": [
             [
              0,
              "#0d0887"
             ],
             [
              0.1111111111111111,
              "#46039f"
             ],
             [
              0.2222222222222222,
              "#7201a8"
             ],
             [
              0.3333333333333333,
              "#9c179e"
             ],
             [
              0.4444444444444444,
              "#bd3786"
             ],
             [
              0.5555555555555556,
              "#d8576b"
             ],
             [
              0.6666666666666666,
              "#ed7953"
             ],
             [
              0.7777777777777778,
              "#fb9f3a"
             ],
             [
              0.8888888888888888,
              "#fdca26"
             ],
             [
              1,
              "#f0f921"
             ]
            ],
            "type": "heatmap"
           }
          ],
          "heatmapgl": [
           {
            "colorbar": {
             "outlinewidth": 0,
             "ticks": ""
            },
            "colorscale": [
             [
              0,
              "#0d0887"
             ],
             [
              0.1111111111111111,
              "#46039f"
             ],
             [
              0.2222222222222222,
              "#7201a8"
             ],
             [
              0.3333333333333333,
              "#9c179e"
             ],
             [
              0.4444444444444444,
              "#bd3786"
             ],
             [
              0.5555555555555556,
              "#d8576b"
             ],
             [
              0.6666666666666666,
              "#ed7953"
             ],
             [
              0.7777777777777778,
              "#fb9f3a"
             ],
             [
              0.8888888888888888,
              "#fdca26"
             ],
             [
              1,
              "#f0f921"
             ]
            ],
            "type": "heatmapgl"
           }
          ],
          "histogram": [
           {
            "marker": {
             "pattern": {
              "fillmode": "overlay",
              "size": 10,
              "solidity": 0.2
             }
            },
            "type": "histogram"
           }
          ],
          "histogram2d": [
           {
            "colorbar": {
             "outlinewidth": 0,
             "ticks": ""
            },
            "colorscale": [
             [
              0,
              "#0d0887"
             ],
             [
              0.1111111111111111,
              "#46039f"
             ],
             [
              0.2222222222222222,
              "#7201a8"
             ],
             [
              0.3333333333333333,
              "#9c179e"
             ],
             [
              0.4444444444444444,
              "#bd3786"
             ],
             [
              0.5555555555555556,
              "#d8576b"
             ],
             [
              0.6666666666666666,
              "#ed7953"
             ],
             [
              0.7777777777777778,
              "#fb9f3a"
             ],
             [
              0.8888888888888888,
              "#fdca26"
             ],
             [
              1,
              "#f0f921"
             ]
            ],
            "type": "histogram2d"
           }
          ],
          "histogram2dcontour": [
           {
            "colorbar": {
             "outlinewidth": 0,
             "ticks": ""
            },
            "colorscale": [
             [
              0,
              "#0d0887"
             ],
             [
              0.1111111111111111,
              "#46039f"
             ],
             [
              0.2222222222222222,
              "#7201a8"
             ],
             [
              0.3333333333333333,
              "#9c179e"
             ],
             [
              0.4444444444444444,
              "#bd3786"
             ],
             [
              0.5555555555555556,
              "#d8576b"
             ],
             [
              0.6666666666666666,
              "#ed7953"
             ],
             [
              0.7777777777777778,
              "#fb9f3a"
             ],
             [
              0.8888888888888888,
              "#fdca26"
             ],
             [
              1,
              "#f0f921"
             ]
            ],
            "type": "histogram2dcontour"
           }
          ],
          "mesh3d": [
           {
            "colorbar": {
             "outlinewidth": 0,
             "ticks": ""
            },
            "type": "mesh3d"
           }
          ],
          "parcoords": [
           {
            "line": {
             "colorbar": {
              "outlinewidth": 0,
              "ticks": ""
             }
            },
            "type": "parcoords"
           }
          ],
          "pie": [
           {
            "automargin": true,
            "type": "pie"
           }
          ],
          "scatter": [
           {
            "fillpattern": {
             "fillmode": "overlay",
             "size": 10,
             "solidity": 0.2
            },
            "type": "scatter"
           }
          ],
          "scatter3d": [
           {
            "line": {
             "colorbar": {
              "outlinewidth": 0,
              "ticks": ""
             }
            },
            "marker": {
             "colorbar": {
              "outlinewidth": 0,
              "ticks": ""
             }
            },
            "type": "scatter3d"
           }
          ],
          "scattercarpet": [
           {
            "marker": {
             "colorbar": {
              "outlinewidth": 0,
              "ticks": ""
             }
            },
            "type": "scattercarpet"
           }
          ],
          "scattergeo": [
           {
            "marker": {
             "colorbar": {
              "outlinewidth": 0,
              "ticks": ""
             }
            },
            "type": "scattergeo"
           }
          ],
          "scattergl": [
           {
            "marker": {
             "colorbar": {
              "outlinewidth": 0,
              "ticks": ""
             }
            },
            "type": "scattergl"
           }
          ],
          "scattermapbox": [
           {
            "marker": {
             "colorbar": {
              "outlinewidth": 0,
              "ticks": ""
             }
            },
            "type": "scattermapbox"
           }
          ],
          "scatterpolar": [
           {
            "marker": {
             "colorbar": {
              "outlinewidth": 0,
              "ticks": ""
             }
            },
            "type": "scatterpolar"
           }
          ],
          "scatterpolargl": [
           {
            "marker": {
             "colorbar": {
              "outlinewidth": 0,
              "ticks": ""
             }
            },
            "type": "scatterpolargl"
           }
          ],
          "scatterternary": [
           {
            "marker": {
             "colorbar": {
              "outlinewidth": 0,
              "ticks": ""
             }
            },
            "type": "scatterternary"
           }
          ],
          "surface": [
           {
            "colorbar": {
             "outlinewidth": 0,
             "ticks": ""
            },
            "colorscale": [
             [
              0,
              "#0d0887"
             ],
             [
              0.1111111111111111,
              "#46039f"
             ],
             [
              0.2222222222222222,
              "#7201a8"
             ],
             [
              0.3333333333333333,
              "#9c179e"
             ],
             [
              0.4444444444444444,
              "#bd3786"
             ],
             [
              0.5555555555555556,
              "#d8576b"
             ],
             [
              0.6666666666666666,
              "#ed7953"
             ],
             [
              0.7777777777777778,
              "#fb9f3a"
             ],
             [
              0.8888888888888888,
              "#fdca26"
             ],
             [
              1,
              "#f0f921"
             ]
            ],
            "type": "surface"
           }
          ],
          "table": [
           {
            "cells": {
             "fill": {
              "color": "#EBF0F8"
             },
             "line": {
              "color": "white"
             }
            },
            "header": {
             "fill": {
              "color": "#C8D4E3"
             },
             "line": {
              "color": "white"
             }
            },
            "type": "table"
           }
          ]
         },
         "layout": {
          "annotationdefaults": {
           "arrowcolor": "#2a3f5f",
           "arrowhead": 0,
           "arrowwidth": 1
          },
          "autotypenumbers": "strict",
          "coloraxis": {
           "colorbar": {
            "outlinewidth": 0,
            "ticks": ""
           }
          },
          "colorscale": {
           "diverging": [
            [
             0,
             "#8e0152"
            ],
            [
             0.1,
             "#c51b7d"
            ],
            [
             0.2,
             "#de77ae"
            ],
            [
             0.3,
             "#f1b6da"
            ],
            [
             0.4,
             "#fde0ef"
            ],
            [
             0.5,
             "#f7f7f7"
            ],
            [
             0.6,
             "#e6f5d0"
            ],
            [
             0.7,
             "#b8e186"
            ],
            [
             0.8,
             "#7fbc41"
            ],
            [
             0.9,
             "#4d9221"
            ],
            [
             1,
             "#276419"
            ]
           ],
           "sequential": [
            [
             0,
             "#0d0887"
            ],
            [
             0.1111111111111111,
             "#46039f"
            ],
            [
             0.2222222222222222,
             "#7201a8"
            ],
            [
             0.3333333333333333,
             "#9c179e"
            ],
            [
             0.4444444444444444,
             "#bd3786"
            ],
            [
             0.5555555555555556,
             "#d8576b"
            ],
            [
             0.6666666666666666,
             "#ed7953"
            ],
            [
             0.7777777777777778,
             "#fb9f3a"
            ],
            [
             0.8888888888888888,
             "#fdca26"
            ],
            [
             1,
             "#f0f921"
            ]
           ],
           "sequentialminus": [
            [
             0,
             "#0d0887"
            ],
            [
             0.1111111111111111,
             "#46039f"
            ],
            [
             0.2222222222222222,
             "#7201a8"
            ],
            [
             0.3333333333333333,
             "#9c179e"
            ],
            [
             0.4444444444444444,
             "#bd3786"
            ],
            [
             0.5555555555555556,
             "#d8576b"
            ],
            [
             0.6666666666666666,
             "#ed7953"
            ],
            [
             0.7777777777777778,
             "#fb9f3a"
            ],
            [
             0.8888888888888888,
             "#fdca26"
            ],
            [
             1,
             "#f0f921"
            ]
           ]
          },
          "colorway": [
           "#636efa",
           "#EF553B",
           "#00cc96",
           "#ab63fa",
           "#FFA15A",
           "#19d3f3",
           "#FF6692",
           "#B6E880",
           "#FF97FF",
           "#FECB52"
          ],
          "font": {
           "color": "#2a3f5f"
          },
          "geo": {
           "bgcolor": "white",
           "lakecolor": "white",
           "landcolor": "#E5ECF6",
           "showlakes": true,
           "showland": true,
           "subunitcolor": "white"
          },
          "hoverlabel": {
           "align": "left"
          },
          "hovermode": "closest",
          "mapbox": {
           "style": "light"
          },
          "paper_bgcolor": "white",
          "plot_bgcolor": "#E5ECF6",
          "polar": {
           "angularaxis": {
            "gridcolor": "white",
            "linecolor": "white",
            "ticks": ""
           },
           "bgcolor": "#E5ECF6",
           "radialaxis": {
            "gridcolor": "white",
            "linecolor": "white",
            "ticks": ""
           }
          },
          "scene": {
           "xaxis": {
            "backgroundcolor": "#E5ECF6",
            "gridcolor": "white",
            "gridwidth": 2,
            "linecolor": "white",
            "showbackground": true,
            "ticks": "",
            "zerolinecolor": "white"
           },
           "yaxis": {
            "backgroundcolor": "#E5ECF6",
            "gridcolor": "white",
            "gridwidth": 2,
            "linecolor": "white",
            "showbackground": true,
            "ticks": "",
            "zerolinecolor": "white"
           },
           "zaxis": {
            "backgroundcolor": "#E5ECF6",
            "gridcolor": "white",
            "gridwidth": 2,
            "linecolor": "white",
            "showbackground": true,
            "ticks": "",
            "zerolinecolor": "white"
           }
          },
          "shapedefaults": {
           "line": {
            "color": "#2a3f5f"
           }
          },
          "ternary": {
           "aaxis": {
            "gridcolor": "white",
            "linecolor": "white",
            "ticks": ""
           },
           "baxis": {
            "gridcolor": "white",
            "linecolor": "white",
            "ticks": ""
           },
           "bgcolor": "#E5ECF6",
           "caxis": {
            "gridcolor": "white",
            "linecolor": "white",
            "ticks": ""
           }
          },
          "title": {
           "x": 0.05
          },
          "xaxis": {
           "automargin": true,
           "gridcolor": "white",
           "linecolor": "white",
           "ticks": "",
           "title": {
            "standoff": 15
           },
           "zerolinecolor": "white",
           "zerolinewidth": 2
          },
          "yaxis": {
           "automargin": true,
           "gridcolor": "white",
           "linecolor": "white",
           "ticks": "",
           "title": {
            "standoff": 15
           },
           "zerolinecolor": "white",
           "zerolinewidth": 2
          }
         }
        },
        "title": {
         "text": "Hierarchy of Selected Columns (This visualization is interactive, press CMD key to select multiple features.)"
        }
       }
      }
     },
     "metadata": {},
     "output_type": "display_data"
    },
    {
     "data": {
      "application/vnd.jupyter.widget-view+json": {
       "model_id": "0e5df9ccb8e94a5cbfd9322a5efbe8a8",
       "version_major": 2,
       "version_minor": 0
      },
      "text/plain": [
       "SelectMultiple(description='Columns', index=(0, 1, 2), options=('Store', 'DEPARTMENT', 'CATEGORY', 'SKU'), val…"
      ]
     },
     "metadata": {},
     "output_type": "display_data"
    }
   ],
   "source": [
    "# Columns to choose from for the sunburst path\n",
    "available_columns = ['Store', 'DEPARTMENT', 'CATEGORY', 'SKU']\n",
    "\n",
    "# Create checkboxes for the user to select which columns to include in the sunburst\n",
    "column_select = widgets.SelectMultiple(\n",
    "    options=available_columns,\n",
    "    value=available_columns,  # Default value (all columns selected)\n",
    "    description='Columns',\n",
    "    disabled=False\n",
    ")\n",
    "\n",
    "# Function to update the sunburst chart based on user selection\n",
    "def update_sunburst(selected_columns):\n",
    "    # Clear previous output\n",
    "    clear_output(wait=True)\n",
    "\n",
    "    # Ensure at least one column is selected\n",
    "    if len(selected_columns) == 0:\n",
    "        print(\"Please select at least one column for the hierarchy.\")\n",
    "        return\n",
    "\n",
    "    # Generate the sunburst chart with the selected columns\n",
    "    fig = px.sunburst(\n",
    "        df,\n",
    "        path=selected_columns,  # Use selected columns for the sunburst path\n",
    "        values='Units_Sold',\n",
    "        title=\"Hierarchy of Selected Columns (This visualization is interactive, press CMD key to select multiple features.)\",\n",
    "        height=700\n",
    "    )\n",
    "    fig.show()\n",
    "\n",
    "    # Re-display the widget after clearing\n",
    "    display(column_select)\n",
    "\n",
    "# Link the function to the widget\n",
    "column_select.observe(lambda change: update_sunburst(change['new']), names='value')\n",
    "\n",
    "# Initial display\n",
    "display(column_select)\n",
    "update_sunburst(column_select.value)\n"
   ]
  },
  {
   "cell_type": "code",
   "execution_count": 29,
   "metadata": {},
   "outputs": [
    {
     "name": "stdout",
     "output_type": "stream",
     "text": [
      "'Store', 'DEPARTMENT', 'CATEGORY', and 'SKU' saved successfully to 'unique_store_department_category_sku.csv'.\n"
     ]
    }
   ],
   "source": [
    "unique_values_df = df[['Store', 'DEPARTMENT', 'CATEGORY', 'SKU']].drop_duplicates()\n",
    "output_file = 'unique_store_department_category_sku.csv'\n",
    "output_path = os.path.join(processed_dataset_path, output_file)\n",
    "unique_values_df.to_csv(output_path, index=False)\n",
    "print(f\"'Store', 'DEPARTMENT', 'CATEGORY', and 'SKU' saved successfully to '{output_file}'.\")"
   ]
  },
  {
   "cell_type": "markdown",
   "metadata": {},
   "source": [
    "### Imbalance"
   ]
  },
  {
   "cell_type": "code",
   "execution_count": 31,
   "metadata": {},
   "outputs": [
    {
     "data": {
      "image/png": "[encoded data removed]",
      "text/plain": [
       "<Figure size 1000x400 with 1 Axes>"
      ]
     },
     "metadata": {},
     "output_type": "display_data"
    }
   ],
   "source": [
    "plt.figure(figsize=(10, 4))\n",
    "sns.countplot(data=df, x='Store', order=df['Store'].value_counts().index)\n",
    "plt.title('Distribution of Store')\n",
    "plt.xticks(rotation=90)\n",
    "plt.show()"
   ]
  },
  {
   "cell_type": "code",
   "execution_count": 83,
   "metadata": {},
   "outputs": [
    {
     "data": {
      "image/png": "[encoded data removed]",
      "text/plain": [
       "<Figure size 1000x400 with 1 Axes>"
      ]
     },
     "metadata": {},
     "output_type": "display_data"
    }
   ],
   "source": [
    "plt.figure(figsize=(10, 4))\n",
    "sns.countplot(data=df, x='DEPARTMENT', order=df['DEPARTMENT'].value_counts().index)\n",
    "plt.title('Distribution of DEPARTMENT')\n",
    "plt.xticks(rotation=90)\n",
    "plt.show()"
   ]
  },
  {
   "cell_type": "code",
   "execution_count": 84,
   "metadata": {},
   "outputs": [
    {
     "data": {
      "image/png": "[encoded data removed]",
      "text/plain": [
       "<Figure size 1000x400 with 1 Axes>"
      ]
     },
     "metadata": {},
     "output_type": "display_data"
    }
   ],
   "source": [
    "plt.figure(figsize=(10, 4))\n",
    "sns.countplot(data=df, x='CATEGORY', order=df['CATEGORY'].value_counts().index)\n",
    "plt.title('Distribution of CATEGORY')\n",
    "plt.xticks(rotation=90)\n",
    "plt.show()"
   ]
  },
  {
   "cell_type": "markdown",
   "metadata": {},
   "source": [
    "## Lag Features"
   ]
  },
  {
   "cell_type": "markdown",
   "metadata": {},
   "source": [
    "### Upto 104 weeks"
   ]
  },
  {
   "cell_type": "code",
   "execution_count": 39,
   "metadata": {},
   "outputs": [],
   "source": [
    "processed_dataset_full_path = os.path.join(processed_dataset_path, processed_dataset_file)\n",
    "df = pd.read_csv(processed_dataset_full_path)"
   ]
  },
  {
   "cell_type": "code",
   "execution_count": 51,
   "metadata": {},
   "outputs": [
    {
     "data": {
      "text/html": [
       "<div>\n",
       "<style scoped>\n",
       "    .dataframe tbody tr th:only-of-type {\n",
       "        vertical-align: middle;\n",
       "    }\n",
       "\n",
       "    .dataframe tbody tr th {\n",
       "        vertical-align: top;\n",
       "    }\n",
       "\n",
       "    .dataframe thead th {\n",
       "        text-align: right;\n",
       "    }\n",
       "</style>\n",
       "<table border=\"1\" class=\"dataframe\">\n",
       "  <thead>\n",
       "    <tr style=\"text-align: right;\">\n",
       "      <th></th>\n",
       "      <th></th>\n",
       "      <th>ID</th>\n",
       "      <th>Store</th>\n",
       "      <th>DEPARTMENT</th>\n",
       "      <th>CATEGORY</th>\n",
       "      <th>SKU</th>\n",
       "      <th>Units_Sold</th>\n",
       "      <th>Net_Price</th>\n",
       "      <th>Total_Revenue</th>\n",
       "      <th>Week</th>\n",
       "      <th>Year</th>\n",
       "      <th>...</th>\n",
       "      <th>lag_12</th>\n",
       "      <th>lag_16</th>\n",
       "      <th>lag_20</th>\n",
       "      <th>lag_24</th>\n",
       "      <th>lag_36</th>\n",
       "      <th>lag_52</th>\n",
       "      <th>lag_65</th>\n",
       "      <th>lag_78</th>\n",
       "      <th>lag_91</th>\n",
       "      <th>lag_104</th>\n",
       "    </tr>\n",
       "    <tr>\n",
       "      <th>ID</th>\n",
       "      <th></th>\n",
       "      <th></th>\n",
       "      <th></th>\n",
       "      <th></th>\n",
       "      <th></th>\n",
       "      <th></th>\n",
       "      <th></th>\n",
       "      <th></th>\n",
       "      <th></th>\n",
       "      <th></th>\n",
       "      <th></th>\n",
       "      <th></th>\n",
       "      <th></th>\n",
       "      <th></th>\n",
       "      <th></th>\n",
       "      <th></th>\n",
       "      <th></th>\n",
       "      <th></th>\n",
       "      <th></th>\n",
       "      <th></th>\n",
       "      <th></th>\n",
       "      <th></th>\n",
       "    </tr>\n",
       "  </thead>\n",
       "  <tbody>\n",
       "    <tr>\n",
       "      <th rowspan=\"5\" valign=\"top\">Store_10_SKU1</th>\n",
       "      <th>11401</th>\n",
       "      <td>Store_10_SKU1</td>\n",
       "      <td>Store_10</td>\n",
       "      <td>Dept4</td>\n",
       "      <td>Category15</td>\n",
       "      <td>SKU1</td>\n",
       "      <td>699</td>\n",
       "      <td>24.69</td>\n",
       "      <td>17258.31</td>\n",
       "      <td>2023-03-29</td>\n",
       "      <td>2023</td>\n",
       "      <td>...</td>\n",
       "      <td>1176.0</td>\n",
       "      <td>767.0</td>\n",
       "      <td>790.0</td>\n",
       "      <td>575.0</td>\n",
       "      <td>792.0</td>\n",
       "      <td>804.0</td>\n",
       "      <td>615.0</td>\n",
       "      <td>590.0</td>\n",
       "      <td>1135.0</td>\n",
       "      <td>933.0</td>\n",
       "    </tr>\n",
       "    <tr>\n",
       "      <th>11402</th>\n",
       "      <td>Store_10_SKU1</td>\n",
       "      <td>Store_10</td>\n",
       "      <td>Dept4</td>\n",
       "      <td>Category15</td>\n",
       "      <td>SKU1</td>\n",
       "      <td>903</td>\n",
       "      <td>18.93</td>\n",
       "      <td>17093.79</td>\n",
       "      <td>2023-04-05</td>\n",
       "      <td>2023</td>\n",
       "      <td>...</td>\n",
       "      <td>570.0</td>\n",
       "      <td>852.0</td>\n",
       "      <td>676.0</td>\n",
       "      <td>732.0</td>\n",
       "      <td>1154.0</td>\n",
       "      <td>762.0</td>\n",
       "      <td>999.0</td>\n",
       "      <td>1027.0</td>\n",
       "      <td>913.0</td>\n",
       "      <td>960.0</td>\n",
       "    </tr>\n",
       "    <tr>\n",
       "      <th>11403</th>\n",
       "      <td>Store_10_SKU1</td>\n",
       "      <td>Store_10</td>\n",
       "      <td>Dept4</td>\n",
       "      <td>Category15</td>\n",
       "      <td>SKU1</td>\n",
       "      <td>1099</td>\n",
       "      <td>20.49</td>\n",
       "      <td>22518.51</td>\n",
       "      <td>2023-04-12</td>\n",
       "      <td>2023</td>\n",
       "      <td>...</td>\n",
       "      <td>849.0</td>\n",
       "      <td>578.0</td>\n",
       "      <td>774.0</td>\n",
       "      <td>864.0</td>\n",
       "      <td>867.0</td>\n",
       "      <td>671.0</td>\n",
       "      <td>1015.0</td>\n",
       "      <td>835.0</td>\n",
       "      <td>628.0</td>\n",
       "      <td>785.0</td>\n",
       "    </tr>\n",
       "    <tr>\n",
       "      <th>11404</th>\n",
       "      <td>Store_10_SKU1</td>\n",
       "      <td>Store_10</td>\n",
       "      <td>Dept4</td>\n",
       "      <td>Category15</td>\n",
       "      <td>SKU1</td>\n",
       "      <td>753</td>\n",
       "      <td>18.03</td>\n",
       "      <td>13576.59</td>\n",
       "      <td>2023-04-19</td>\n",
       "      <td>2023</td>\n",
       "      <td>...</td>\n",
       "      <td>729.0</td>\n",
       "      <td>910.0</td>\n",
       "      <td>1145.0</td>\n",
       "      <td>524.0</td>\n",
       "      <td>1014.0</td>\n",
       "      <td>825.0</td>\n",
       "      <td>879.0</td>\n",
       "      <td>735.0</td>\n",
       "      <td>641.0</td>\n",
       "      <td>925.0</td>\n",
       "    </tr>\n",
       "    <tr>\n",
       "      <th>11405</th>\n",
       "      <td>Store_10_SKU1</td>\n",
       "      <td>Store_10</td>\n",
       "      <td>Dept4</td>\n",
       "      <td>Category15</td>\n",
       "      <td>SKU1</td>\n",
       "      <td>580</td>\n",
       "      <td>22.17</td>\n",
       "      <td>12858.60</td>\n",
       "      <td>2023-04-26</td>\n",
       "      <td>2023</td>\n",
       "      <td>...</td>\n",
       "      <td>525.0</td>\n",
       "      <td>1176.0</td>\n",
       "      <td>767.0</td>\n",
       "      <td>790.0</td>\n",
       "      <td>1136.0</td>\n",
       "      <td>762.0</td>\n",
       "      <td>1418.0</td>\n",
       "      <td>848.0</td>\n",
       "      <td>1320.0</td>\n",
       "      <td>997.0</td>\n",
       "    </tr>\n",
       "  </tbody>\n",
       "</table>\n",
       "<p>5 rows × 26 columns</p>\n",
       "</div>"
      ],
      "text/plain": [
       "                                ID     Store DEPARTMENT    CATEGORY   SKU  \\\n",
       "ID                                                                          \n",
       "Store_10_SKU1 11401  Store_10_SKU1  Store_10      Dept4  Category15  SKU1   \n",
       "              11402  Store_10_SKU1  Store_10      Dept4  Category15  SKU1   \n",
       "              11403  Store_10_SKU1  Store_10      Dept4  Category15  SKU1   \n",
       "              11404  Store_10_SKU1  Store_10      Dept4  Category15  SKU1   \n",
       "              11405  Store_10_SKU1  Store_10      Dept4  Category15  SKU1   \n",
       "\n",
       "                     Units_Sold  Net_Price  Total_Revenue        Week  Year  \\\n",
       "ID                                                                            \n",
       "Store_10_SKU1 11401         699      24.69       17258.31  2023-03-29  2023   \n",
       "              11402         903      18.93       17093.79  2023-04-05  2023   \n",
       "              11403        1099      20.49       22518.51  2023-04-12  2023   \n",
       "              11404         753      18.03       13576.59  2023-04-19  2023   \n",
       "              11405         580      22.17       12858.60  2023-04-26  2023   \n",
       "\n",
       "                     ...  lag_12  lag_16  lag_20  lag_24  lag_36  lag_52  \\\n",
       "ID                   ...                                                   \n",
       "Store_10_SKU1 11401  ...  1176.0   767.0   790.0   575.0   792.0   804.0   \n",
       "              11402  ...   570.0   852.0   676.0   732.0  1154.0   762.0   \n",
       "              11403  ...   849.0   578.0   774.0   864.0   867.0   671.0   \n",
       "              11404  ...   729.0   910.0  1145.0   524.0  1014.0   825.0   \n",
       "              11405  ...   525.0  1176.0   767.0   790.0  1136.0   762.0   \n",
       "\n",
       "                     lag_65  lag_78  lag_91  lag_104  \n",
       "ID                                                    \n",
       "Store_10_SKU1 11401   615.0   590.0  1135.0    933.0  \n",
       "              11402   999.0  1027.0   913.0    960.0  \n",
       "              11403  1015.0   835.0   628.0    785.0  \n",
       "              11404   879.0   735.0   641.0    925.0  \n",
       "              11405  1418.0   848.0  1320.0    997.0  \n",
       "\n",
       "[5 rows x 26 columns]"
      ]
     },
     "execution_count": 51,
     "metadata": {},
     "output_type": "execute_result"
    }
   ],
   "source": [
    "lag_intervals = [1, 2, 4, 8, 12, 16, 20, 24, 36, 52, 65, 78, 91, 104]\n",
    "\n",
    "def create_lag_features(group, lag_intervals):\n",
    "    for lag in lag_intervals:\n",
    "        group[f'lag_{lag}'] = group['Units_Sold'].shift(lag)\n",
    "        group[f'lag_{lag}'] = group[f'lag_{lag}'].apply(lambda x: int(x) if pd.notna(x) else x)\n",
    "    return group\n",
    "\n",
    "df_lagged = df.groupby('ID').apply(create_lag_features, lag_intervals=lag_intervals)\n",
    "df_lagged = df_lagged.dropna()\n",
    "df_lagged.head()"
   ]
  },
  {
   "cell_type": "code",
   "execution_count": 52,
   "metadata": {},
   "outputs": [
    {
     "name": "stdout",
     "output_type": "stream",
     "text": [
      "Lag Features of 104 weeks (2 years) saved successfully to 'Lag_Features_Dataset_104weeks.csv'.\n"
     ]
    }
   ],
   "source": [
    "output_file = 'Lag_Features_Dataset_104weeks.csv'\n",
    "output_path = os.path.join(processed_dataset_path, output_file)\n",
    "df_lagged.to_csv(output_path, index=False)\n",
    "print(f\"Lag Features of 104 weeks (2 years) saved successfully to '{output_file}'.\")"
   ]
  },
  {
   "cell_type": "code",
   "execution_count": 56,
   "metadata": {},
   "outputs": [
    {
     "name": "stdout",
     "output_type": "stream",
     "text": [
      "Units_Sold    1.000000\n",
      "lag_1         0.894375\n",
      "lag_2         0.892276\n",
      "lag_4         0.881770\n",
      "lag_8         0.855309\n",
      "lag_12        0.839185\n",
      "lag_16        0.827868\n",
      "lag_20        0.819321\n",
      "lag_24        0.810096\n",
      "lag_36        0.812324\n",
      "lag_52        0.827206\n",
      "lag_65        0.815193\n",
      "lag_78        0.801383\n",
      "lag_91        0.789191\n",
      "lag_104       0.790681\n",
      "Name: Units_Sold, dtype: float64\n"
     ]
    },
    {
     "data": {
      "image/png": "[encoded data removed]",
      "text/plain": [
       "<Figure size 800x500 with 2 Axes>"
      ]
     },
     "metadata": {},
     "output_type": "display_data"
    }
   ],
   "source": [
    "df_corr = df_lagged.dropna()\n",
    "correlation_matrix = df_corr[['Units_Sold'] + [f'lag_{lag}' for lag in lag_intervals]].corr()\n",
    "print(correlation_matrix['Units_Sold'])\n",
    "plt.figure(figsize=(8, 5))\n",
    "sns.heatmap(correlation_matrix, annot=True, cmap='coolwarm', fmt=\".2f\")\n",
    "plt.title('Correlation between Units_Sold and Lag Features')\n",
    "plt.show()"
   ]
  },
  {
   "cell_type": "markdown",
   "metadata": {},
   "source": [
    "### Upto 52 weeks"
   ]
  },
  {
   "cell_type": "code",
   "execution_count": 64,
   "metadata": {},
   "outputs": [
    {
     "data": {
      "text/html": [
       "<div>\n",
       "<style scoped>\n",
       "    .dataframe tbody tr th:only-of-type {\n",
       "        vertical-align: middle;\n",
       "    }\n",
       "\n",
       "    .dataframe tbody tr th {\n",
       "        vertical-align: top;\n",
       "    }\n",
       "\n",
       "    .dataframe thead th {\n",
       "        text-align: right;\n",
       "    }\n",
       "</style>\n",
       "<table border=\"1\" class=\"dataframe\">\n",
       "  <thead>\n",
       "    <tr style=\"text-align: right;\">\n",
       "      <th></th>\n",
       "      <th></th>\n",
       "      <th>ID</th>\n",
       "      <th>Store</th>\n",
       "      <th>DEPARTMENT</th>\n",
       "      <th>CATEGORY</th>\n",
       "      <th>SKU</th>\n",
       "      <th>Units_Sold</th>\n",
       "      <th>Net_Price</th>\n",
       "      <th>Total_Revenue</th>\n",
       "      <th>Week</th>\n",
       "      <th>Year</th>\n",
       "      <th>...</th>\n",
       "      <th>lag_8</th>\n",
       "      <th>lag_10</th>\n",
       "      <th>lag_12</th>\n",
       "      <th>lag_16</th>\n",
       "      <th>lag_20</th>\n",
       "      <th>lag_24</th>\n",
       "      <th>lag_32</th>\n",
       "      <th>lag_40</th>\n",
       "      <th>lag_48</th>\n",
       "      <th>lag_52</th>\n",
       "    </tr>\n",
       "    <tr>\n",
       "      <th>ID</th>\n",
       "      <th></th>\n",
       "      <th></th>\n",
       "      <th></th>\n",
       "      <th></th>\n",
       "      <th></th>\n",
       "      <th></th>\n",
       "      <th></th>\n",
       "      <th></th>\n",
       "      <th></th>\n",
       "      <th></th>\n",
       "      <th></th>\n",
       "      <th></th>\n",
       "      <th></th>\n",
       "      <th></th>\n",
       "      <th></th>\n",
       "      <th></th>\n",
       "      <th></th>\n",
       "      <th></th>\n",
       "      <th></th>\n",
       "      <th></th>\n",
       "      <th></th>\n",
       "      <th></th>\n",
       "    </tr>\n",
       "  </thead>\n",
       "  <tbody>\n",
       "    <tr>\n",
       "      <th rowspan=\"5\" valign=\"top\">Store_10_SKU1</th>\n",
       "      <th>11349</th>\n",
       "      <td>Store_10_SKU1</td>\n",
       "      <td>Store_10</td>\n",
       "      <td>Dept4</td>\n",
       "      <td>Category15</td>\n",
       "      <td>SKU1</td>\n",
       "      <td>804</td>\n",
       "      <td>17.22</td>\n",
       "      <td>13844.88</td>\n",
       "      <td>2022-03-30</td>\n",
       "      <td>2022</td>\n",
       "      <td>...</td>\n",
       "      <td>1150.0</td>\n",
       "      <td>879.0</td>\n",
       "      <td>999.0</td>\n",
       "      <td>1047.0</td>\n",
       "      <td>1203.0</td>\n",
       "      <td>835.0</td>\n",
       "      <td>1175.0</td>\n",
       "      <td>929.0</td>\n",
       "      <td>997.0</td>\n",
       "      <td>933.0</td>\n",
       "    </tr>\n",
       "    <tr>\n",
       "      <th>11350</th>\n",
       "      <td>Store_10_SKU1</td>\n",
       "      <td>Store_10</td>\n",
       "      <td>Dept4</td>\n",
       "      <td>Category15</td>\n",
       "      <td>SKU1</td>\n",
       "      <td>762</td>\n",
       "      <td>16.20</td>\n",
       "      <td>12344.40</td>\n",
       "      <td>2022-04-06</td>\n",
       "      <td>2022</td>\n",
       "      <td>...</td>\n",
       "      <td>901.0</td>\n",
       "      <td>1418.0</td>\n",
       "      <td>1015.0</td>\n",
       "      <td>1126.0</td>\n",
       "      <td>689.0</td>\n",
       "      <td>735.0</td>\n",
       "      <td>1185.0</td>\n",
       "      <td>1135.0</td>\n",
       "      <td>858.0</td>\n",
       "      <td>960.0</td>\n",
       "    </tr>\n",
       "    <tr>\n",
       "      <th>11351</th>\n",
       "      <td>Store_10_SKU1</td>\n",
       "      <td>Store_10</td>\n",
       "      <td>Dept4</td>\n",
       "      <td>Category15</td>\n",
       "      <td>SKU1</td>\n",
       "      <td>671</td>\n",
       "      <td>24.39</td>\n",
       "      <td>16365.69</td>\n",
       "      <td>2022-04-13</td>\n",
       "      <td>2022</td>\n",
       "      <td>...</td>\n",
       "      <td>793.0</td>\n",
       "      <td>1150.0</td>\n",
       "      <td>879.0</td>\n",
       "      <td>1386.0</td>\n",
       "      <td>751.0</td>\n",
       "      <td>848.0</td>\n",
       "      <td>1440.0</td>\n",
       "      <td>913.0</td>\n",
       "      <td>761.0</td>\n",
       "      <td>785.0</td>\n",
       "    </tr>\n",
       "    <tr>\n",
       "      <th>11352</th>\n",
       "      <td>Store_10_SKU1</td>\n",
       "      <td>Store_10</td>\n",
       "      <td>Dept4</td>\n",
       "      <td>Category15</td>\n",
       "      <td>SKU1</td>\n",
       "      <td>825</td>\n",
       "      <td>22.62</td>\n",
       "      <td>18661.50</td>\n",
       "      <td>2022-04-20</td>\n",
       "      <td>2022</td>\n",
       "      <td>...</td>\n",
       "      <td>629.0</td>\n",
       "      <td>901.0</td>\n",
       "      <td>1418.0</td>\n",
       "      <td>615.0</td>\n",
       "      <td>1054.0</td>\n",
       "      <td>755.0</td>\n",
       "      <td>1264.0</td>\n",
       "      <td>628.0</td>\n",
       "      <td>1181.0</td>\n",
       "      <td>925.0</td>\n",
       "    </tr>\n",
       "    <tr>\n",
       "      <th>11353</th>\n",
       "      <td>Store_10_SKU1</td>\n",
       "      <td>Store_10</td>\n",
       "      <td>Dept4</td>\n",
       "      <td>Category15</td>\n",
       "      <td>SKU1</td>\n",
       "      <td>762</td>\n",
       "      <td>18.33</td>\n",
       "      <td>13967.46</td>\n",
       "      <td>2022-04-27</td>\n",
       "      <td>2022</td>\n",
       "      <td>...</td>\n",
       "      <td>1068.0</td>\n",
       "      <td>793.0</td>\n",
       "      <td>1150.0</td>\n",
       "      <td>999.0</td>\n",
       "      <td>1047.0</td>\n",
       "      <td>1203.0</td>\n",
       "      <td>1340.0</td>\n",
       "      <td>641.0</td>\n",
       "      <td>689.0</td>\n",
       "      <td>997.0</td>\n",
       "    </tr>\n",
       "  </tbody>\n",
       "</table>\n",
       "<p>5 rows × 27 columns</p>\n",
       "</div>"
      ],
      "text/plain": [
       "                                ID     Store DEPARTMENT    CATEGORY   SKU  \\\n",
       "ID                                                                          \n",
       "Store_10_SKU1 11349  Store_10_SKU1  Store_10      Dept4  Category15  SKU1   \n",
       "              11350  Store_10_SKU1  Store_10      Dept4  Category15  SKU1   \n",
       "              11351  Store_10_SKU1  Store_10      Dept4  Category15  SKU1   \n",
       "              11352  Store_10_SKU1  Store_10      Dept4  Category15  SKU1   \n",
       "              11353  Store_10_SKU1  Store_10      Dept4  Category15  SKU1   \n",
       "\n",
       "                     Units_Sold  Net_Price  Total_Revenue        Week  Year  \\\n",
       "ID                                                                            \n",
       "Store_10_SKU1 11349         804      17.22       13844.88  2022-03-30  2022   \n",
       "              11350         762      16.20       12344.40  2022-04-06  2022   \n",
       "              11351         671      24.39       16365.69  2022-04-13  2022   \n",
       "              11352         825      22.62       18661.50  2022-04-20  2022   \n",
       "              11353         762      18.33       13967.46  2022-04-27  2022   \n",
       "\n",
       "                     ...   lag_8  lag_10  lag_12  lag_16  lag_20  lag_24  \\\n",
       "ID                   ...                                                   \n",
       "Store_10_SKU1 11349  ...  1150.0   879.0   999.0  1047.0  1203.0   835.0   \n",
       "              11350  ...   901.0  1418.0  1015.0  1126.0   689.0   735.0   \n",
       "              11351  ...   793.0  1150.0   879.0  1386.0   751.0   848.0   \n",
       "              11352  ...   629.0   901.0  1418.0   615.0  1054.0   755.0   \n",
       "              11353  ...  1068.0   793.0  1150.0   999.0  1047.0  1203.0   \n",
       "\n",
       "                     lag_32  lag_40  lag_48  lag_52  \n",
       "ID                                                   \n",
       "Store_10_SKU1 11349  1175.0   929.0   997.0   933.0  \n",
       "              11350  1185.0  1135.0   858.0   960.0  \n",
       "              11351  1440.0   913.0   761.0   785.0  \n",
       "              11352  1264.0   628.0  1181.0   925.0  \n",
       "              11353  1340.0   641.0   689.0   997.0  \n",
       "\n",
       "[5 rows x 27 columns]"
      ]
     },
     "execution_count": 64,
     "metadata": {},
     "output_type": "execute_result"
    }
   ],
   "source": [
    "lag_intervals = [1, 2, 3, 4, 6, 8, 10, 12, 16, 20, 24, 32, 40, 48, 52]\n",
    "\n",
    "def create_lag_features(group, lag_intervals):\n",
    "    for lag in lag_intervals:\n",
    "        group[f'lag_{lag}'] = group['Units_Sold'].shift(lag)\n",
    "        group[f'lag_{lag}'] = group[f'lag_{lag}'].apply(lambda x: int(x) if pd.notna(x) else x)\n",
    "    return group\n",
    "\n",
    "df_lagged = df.groupby('ID').apply(create_lag_features, lag_intervals=lag_intervals)\n",
    "df_lagged = df_lagged.dropna()\n",
    "df_lagged.head()"
   ]
  },
  {
   "cell_type": "code",
   "execution_count": 65,
   "metadata": {},
   "outputs": [
    {
     "name": "stdout",
     "output_type": "stream",
     "text": [
      "Lag Features of 52 weeks (1 year) saved successfully to 'Lag_Features_Dataset_52weeks.csv'.\n"
     ]
    }
   ],
   "source": [
    "output_file = 'Lag_Features_Dataset_52weeks.csv'\n",
    "output_path = os.path.join(processed_dataset_path, output_file)\n",
    "df_lagged.to_csv(output_path, index=False)\n",
    "print(f\"Lag Features of 52 weeks (1 year) saved successfully to '{output_file}'.\")"
   ]
  },
  {
   "cell_type": "code",
   "execution_count": 66,
   "metadata": {},
   "outputs": [
    {
     "name": "stdout",
     "output_type": "stream",
     "text": [
      "Units_Sold    1.000000\n",
      "lag_1         0.893455\n",
      "lag_2         0.889040\n",
      "lag_3         0.885824\n",
      "lag_4         0.879562\n",
      "lag_6         0.866698\n",
      "lag_8         0.858781\n",
      "lag_10        0.848106\n",
      "lag_12        0.842118\n",
      "lag_16        0.832787\n",
      "lag_20        0.826179\n",
      "lag_24        0.820625\n",
      "lag_32        0.818314\n",
      "lag_40        0.813465\n",
      "lag_48        0.823418\n",
      "lag_52        0.823790\n",
      "Name: Units_Sold, dtype: float64\n"
     ]
    },
    {
     "data": {
      "image/png": "[encoded data removed]",
      "text/plain": [
       "<Figure size 1000x500 with 2 Axes>"
      ]
     },
     "metadata": {},
     "output_type": "display_data"
    }
   ],
   "source": [
    "df_corr = df_lagged.dropna()\n",
    "correlation_matrix = df_corr[['Units_Sold'] + [f'lag_{lag}' for lag in lag_intervals]].corr()\n",
    "print(correlation_matrix['Units_Sold'])\n",
    "plt.figure(figsize=(10, 5))\n",
    "sns.heatmap(correlation_matrix, annot=True, cmap='coolwarm', fmt=\".2f\")\n",
    "plt.title('Correlation between Units_Sold and Lag Features')\n",
    "plt.show()"
   ]
  },
  {
   "cell_type": "markdown",
   "metadata": {},
   "source": [
    "## Normalized Variance"
   ]
  },
  {
   "cell_type": "code",
   "execution_count": 67,
   "metadata": {},
   "outputs": [],
   "source": [
    "processed_dataset_full_path = os.path.join(processed_dataset_path, processed_dataset_file)\n",
    "df = pd.read_csv(processed_dataset_full_path)"
   ]
  },
  {
   "cell_type": "code",
   "execution_count": 69,
   "metadata": {},
   "outputs": [
    {
     "name": "stdout",
     "output_type": "stream",
     "text": [
      "   Units_Sold  Units_Sold_Normalized\n",
      "0         240              -0.021205\n",
      "1         132              -0.392717\n",
      "2         324               0.267749\n",
      "3         335               0.305588\n",
      "4         146              -0.344558\n"
     ]
    }
   ],
   "source": [
    "scaler = StandardScaler()\n",
    "df['Units_Sold_Normalized'] = scaler.fit_transform(df[['Units_Sold']])\n",
    "print(df[['Units_Sold', 'Units_Sold_Normalized']].head())"
   ]
  },
  {
   "cell_type": "code",
   "execution_count": 117,
   "metadata": {},
   "outputs": [],
   "source": [
    "def plot_variance(data, x_column, y_column, title, x_label):\n",
    "    plt.figure(figsize=(10, 6))\n",
    "    sns.barplot(x=x_column, y=y_column, data=data)\n",
    "    plt.title(title)\n",
    "    plt.xlabel(x_label)\n",
    "    plt.ylabel('Variance')\n",
    "    plt.xticks(rotation=90)\n",
    "    plt.show()\n",
    "\n",
    "def plot_top_bottom(data, x_column, y_column, title_top, title_bottom, x_label, percentage=20):\n",
    "    data_sorted = data.sort_values(by=y_column)\n",
    "    cutoff = int((percentage / 100) * len(data_sorted))\n",
    "    top_percentage = data_sorted.tail(cutoff)\n",
    "    bottom_percentage = data_sorted.head(cutoff)\n",
    "    fig, axes = plt.subplots(1, 2, figsize=(10, 5))\n",
    "    \n",
    "    # Plot Top Percentage\n",
    "    sns.barplot(x=x_column, y=y_column, data=top_percentage, ax=axes[0])\n",
    "    axes[0].set_title(title_top)\n",
    "    axes[0].set_xlabel(x_label)\n",
    "    axes[0].set_ylabel('Variance')\n",
    "    axes[0].tick_params(axis='x', rotation=90)\n",
    "    \n",
    "    # Plot Bottom Percentage\n",
    "    sns.barplot(x=x_column, y=y_column, data=bottom_percentage, ax=axes[1])\n",
    "    axes[1].set_title(title_bottom)\n",
    "    axes[1].set_xlabel(x_label)\n",
    "    axes[1].set_ylabel('Variance')\n",
    "    axes[1].tick_params(axis='x', rotation=90)\n",
    "    \n",
    "    plt.tight_layout()\n",
    "    plt.show()\n",
    "\n",
    "def plotly_boxplot_variance(data, x_column, y_column, title, x_label):\n",
    "    fig = px.box(data, x=x_column, y=y_column, title=title)\n",
    "    fig.update_layout(xaxis_title=x_label, yaxis_title='Variance', xaxis_tickangle=-45)\n",
    "    fig.show()\n"
   ]
  },
  {
   "cell_type": "code",
   "execution_count": 89,
   "metadata": {},
   "outputs": [
    {
     "data": {
      "image/png": "[encoded data removed]",
      "text/plain": [
       "<Figure size 1000x500 with 2 Axes>"
      ]
     },
     "metadata": {},
     "output_type": "display_data"
    }
   ],
   "source": [
    "# Variance at ID level\n",
    "id_variance = df.groupby('ID')['Units_Sold_Normalized'].var().reset_index().rename(columns={'Units_Sold_Normalized': 'ID_Variance'})\n",
    "percentage=5\n",
    "plot_top_bottom(id_variance, 'ID', 'ID_Variance', \n",
    "                f'Top {percentage}% Variance of Units Sold by ID', \n",
    "                f'Bottom {percentage}% Variance of Units Sold by ID', \n",
    "                'ID', percentage=percentage)\n"
   ]
  },
  {
   "cell_type": "code",
   "execution_count": 120,
   "metadata": {},
   "outputs": [
    {
     "data": {
      "application/vnd.plotly.v1+json": {
       "config": {
        "plotlyServerURL": "https://plot.ly"
       },
       "data": [
        {
         "alignmentgroup": "True",
         "hovertemplate": "ID=%{x}<br>ID_Variance=%{y}<extra></extra>",
         "legendgroup": "",
         "marker": {
          "color": "#636efa"
         },
         "name": "",
         "notched": false,
         "offsetgroup": "",
         "orientation": "v",
         "showlegend": false,
         "type": "box",
         "x": [
          "Store_10_SKU1",
          "Store_10_SKU106",
          "Store_10_SKU187",
          "Store_10_SKU194",
          "Store_10_SKU199",
          "Store_10_SKU201",
          "Store_10_SKU205",
          "Store_10_SKU206",
          "Store_10_SKU226",
          "Store_10_SKU229",
          "Store_10_SKU233",
          "Store_10_SKU241",
          "Store_10_SKU245",
          "Store_10_SKU248",
          "Store_10_SKU253",
          "Store_10_SKU254",
          "Store_10_SKU255",
          "Store_10_SKU28",
          "Store_10_SKU29",
          "Store_10_SKU306",
          "Store_10_SKU354",
          "Store_10_SKU37",
          "Store_10_SKU39",
          "Store_10_SKU408",
          "Store_10_SKU410",
          "Store_10_SKU413",
          "Store_10_SKU416",
          "Store_10_SKU424",
          "Store_10_SKU477",
          "Store_10_SKU478",
          "Store_10_SKU482",
          "Store_10_SKU485",
          "Store_10_SKU487",
          "Store_10_SKU488",
          "Store_10_SKU491",
          "Store_10_SKU493",
          "Store_10_SKU494",
          "Store_10_SKU497",
          "Store_10_SKU498",
          "Store_10_SKU499",
          "Store_10_SKU502",
          "Store_10_SKU503",
          "Store_10_SKU504",
          "Store_10_SKU505",
          "Store_10_SKU51",
          "Store_10_SKU523",
          "Store_10_SKU530",
          "Store_10_SKU558",
          "Store_10_SKU563",
          "Store_10_SKU645",
          "Store_10_SKU662",
          "Store_10_SKU729",
          "Store_10_SKU745",
          "Store_11_SKU106",
          "Store_11_SKU118",
          "Store_11_SKU120",
          "Store_11_SKU121",
          "Store_11_SKU124",
          "Store_11_SKU126",
          "Store_11_SKU127",
          "Store_11_SKU130",
          "Store_11_SKU135",
          "Store_11_SKU141",
          "Store_11_SKU143",
          "Store_11_SKU144",
          "Store_11_SKU153",
          "Store_11_SKU155",
          "Store_11_SKU193",
          "Store_11_SKU271",
          "Store_11_SKU274",
          "Store_11_SKU322",
          "Store_11_SKU324",
          "Store_11_SKU336",
          "Store_11_SKU369",
          "Store_11_SKU372",
          "Store_11_SKU410",
          "Store_11_SKU47",
          "Store_11_SKU470",
          "Store_11_SKU522",
          "Store_11_SKU547",
          "Store_11_SKU549",
          "Store_11_SKU551",
          "Store_11_SKU552",
          "Store_11_SKU663",
          "Store_11_SKU674",
          "Store_11_SKU675",
          "Store_11_SKU679",
          "Store_11_SKU682",
          "Store_11_SKU723",
          "Store_11_SKU748",
          "Store_11_SKU84",
          "Store_11_SKU98",
          "Store_12_SKU104",
          "Store_12_SKU107",
          "Store_12_SKU108",
          "Store_12_SKU111",
          "Store_12_SKU112",
          "Store_12_SKU113",
          "Store_12_SKU114",
          "Store_12_SKU116",
          "Store_12_SKU119",
          "Store_12_SKU129",
          "Store_12_SKU230",
          "Store_12_SKU28",
          "Store_12_SKU30",
          "Store_12_SKU332",
          "Store_12_SKU337",
          "Store_12_SKU343",
          "Store_12_SKU380",
          "Store_12_SKU47",
          "Store_12_SKU470",
          "Store_12_SKU502",
          "Store_12_SKU508",
          "Store_12_SKU510",
          "Store_12_SKU52",
          "Store_12_SKU532",
          "Store_12_SKU675",
          "Store_12_SKU684",
          "Store_12_SKU714",
          "Store_13_SKU110",
          "Store_13_SKU175",
          "Store_13_SKU182",
          "Store_13_SKU185",
          "Store_13_SKU193",
          "Store_13_SKU194",
          "Store_13_SKU195",
          "Store_13_SKU225",
          "Store_13_SKU330",
          "Store_13_SKU364",
          "Store_13_SKU388",
          "Store_13_SKU418",
          "Store_13_SKU48",
          "Store_13_SKU565",
          "Store_13_SKU569",
          "Store_13_SKU659",
          "Store_13_SKU664",
          "Store_14_SKU103",
          "Store_14_SKU108",
          "Store_14_SKU129",
          "Store_14_SKU137",
          "Store_14_SKU139",
          "Store_14_SKU142",
          "Store_14_SKU145",
          "Store_14_SKU146",
          "Store_14_SKU16",
          "Store_14_SKU326",
          "Store_14_SKU334",
          "Store_14_SKU336",
          "Store_14_SKU343",
          "Store_14_SKU345",
          "Store_14_SKU346",
          "Store_14_SKU347",
          "Store_14_SKU349",
          "Store_14_SKU352",
          "Store_14_SKU585",
          "Store_15_SKU103",
          "Store_15_SKU107",
          "Store_15_SKU206",
          "Store_15_SKU228",
          "Store_15_SKU333",
          "Store_15_SKU36",
          "Store_15_SKU379",
          "Store_15_SKU43",
          "Store_15_SKU470",
          "Store_15_SKU478",
          "Store_15_SKU505",
          "Store_15_SKU523",
          "Store_15_SKU525",
          "Store_15_SKU532",
          "Store_15_SKU544",
          "Store_15_SKU551",
          "Store_15_SKU673",
          "Store_15_SKU675",
          "Store_15_SKU716",
          "Store_15_SKU717",
          "Store_15_SKU729",
          "Store_15_SKU733",
          "Store_15_SKU736",
          "Store_16_SKU179",
          "Store_16_SKU18",
          "Store_16_SKU239",
          "Store_16_SKU281",
          "Store_16_SKU285",
          "Store_16_SKU289",
          "Store_16_SKU290",
          "Store_16_SKU292",
          "Store_16_SKU293",
          "Store_16_SKU294",
          "Store_16_SKU295",
          "Store_16_SKU296",
          "Store_16_SKU299",
          "Store_16_SKU302",
          "Store_16_SKU304",
          "Store_16_SKU312",
          "Store_16_SKU313",
          "Store_16_SKU316",
          "Store_16_SKU318",
          "Store_16_SKU360",
          "Store_16_SKU365",
          "Store_16_SKU497",
          "Store_16_SKU54",
          "Store_16_SKU588",
          "Store_16_SKU688",
          "Store_16_SKU692",
          "Store_16_SKU693",
          "Store_16_SKU697",
          "Store_16_SKU708",
          "Store_16_SKU753",
          "Store_16_SKU84",
          "Store_17_SKU139",
          "Store_17_SKU16",
          "Store_17_SKU164",
          "Store_17_SKU204",
          "Store_17_SKU209",
          "Store_17_SKU216",
          "Store_17_SKU236",
          "Store_17_SKU263",
          "Store_17_SKU264",
          "Store_17_SKU31",
          "Store_17_SKU4",
          "Store_17_SKU438",
          "Store_17_SKU442",
          "Store_17_SKU555",
          "Store_17_SKU584",
          "Store_17_SKU88",
          "Store_18_SKU133",
          "Store_18_SKU152",
          "Store_18_SKU154",
          "Store_18_SKU158",
          "Store_18_SKU159",
          "Store_18_SKU161",
          "Store_18_SKU162",
          "Store_18_SKU165",
          "Store_18_SKU167",
          "Store_18_SKU168",
          "Store_18_SKU17",
          "Store_18_SKU170",
          "Store_18_SKU216",
          "Store_18_SKU22",
          "Store_18_SKU256",
          "Store_18_SKU258",
          "Store_18_SKU329",
          "Store_18_SKU375",
          "Store_18_SKU450",
          "Store_18_SKU643",
          "Store_18_SKU644",
          "Store_18_SKU656",
          "Store_18_SKU96",
          "Store_19_SKU11",
          "Store_19_SKU2",
          "Store_19_SKU219",
          "Store_19_SKU447",
          "Store_19_SKU570",
          "Store_19_SKU589",
          "Store_19_SKU661",
          "Store_19_SKU94",
          "Store_1_SKU101",
          "Store_1_SKU169",
          "Store_1_SKU176",
          "Store_1_SKU177",
          "Store_1_SKU216",
          "Store_1_SKU239",
          "Store_1_SKU266",
          "Store_1_SKU269",
          "Store_1_SKU272",
          "Store_1_SKU274",
          "Store_1_SKU285",
          "Store_1_SKU300",
          "Store_1_SKU307",
          "Store_1_SKU348",
          "Store_1_SKU354",
          "Store_1_SKU370",
          "Store_1_SKU448",
          "Store_1_SKU456",
          "Store_1_SKU46",
          "Store_1_SKU49",
          "Store_1_SKU580",
          "Store_1_SKU590",
          "Store_1_SKU591",
          "Store_1_SKU6",
          "Store_1_SKU650",
          "Store_1_SKU743",
          "Store_1_SKU752",
          "Store_1_SKU87",
          "Store_1_SKU92",
          "Store_1_SKU94",
          "Store_1_SKU95",
          "Store_1_SKU96",
          "Store_1_SKU99",
          "Store_20_SKU263",
          "Store_20_SKU273",
          "Store_20_SKU274",
          "Store_20_SKU326",
          "Store_20_SKU340",
          "Store_20_SKU48",
          "Store_20_SKU52",
          "Store_20_SKU576",
          "Store_21_SKU119",
          "Store_21_SKU204",
          "Store_21_SKU208",
          "Store_21_SKU213",
          "Store_21_SKU214",
          "Store_21_SKU226",
          "Store_21_SKU32",
          "Store_21_SKU438",
          "Store_21_SKU440",
          "Store_21_SKU444",
          "Store_21_SKU477",
          "Store_21_SKU517",
          "Store_21_SKU519",
          "Store_21_SKU53",
          "Store_21_SKU532",
          "Store_21_SKU536",
          "Store_21_SKU56",
          "Store_21_SKU57",
          "Store_21_SKU73",
          "Store_21_SKU759",
          "Store_2_SKU17",
          "Store_2_SKU211",
          "Store_2_SKU291",
          "Store_2_SKU305",
          "Store_2_SKU43",
          "Store_2_SKU553",
          "Store_2_SKU59",
          "Store_2_SKU601",
          "Store_2_SKU602",
          "Store_2_SKU606",
          "Store_2_SKU63",
          "Store_2_SKU636",
          "Store_2_SKU734",
          "Store_2_SKU78",
          "Store_2_SKU80",
          "Store_3_SKU193",
          "Store_3_SKU202",
          "Store_3_SKU204",
          "Store_3_SKU209",
          "Store_3_SKU212",
          "Store_3_SKU213",
          "Store_3_SKU214",
          "Store_3_SKU358",
          "Store_3_SKU480",
          "Store_3_SKU481",
          "Store_3_SKU484",
          "Store_3_SKU498",
          "Store_3_SKU511",
          "Store_3_SKU516",
          "Store_3_SKU518",
          "Store_3_SKU537",
          "Store_3_SKU548",
          "Store_3_SKU557",
          "Store_3_SKU60",
          "Store_3_SKU637",
          "Store_3_SKU72",
          "Store_3_SKU73",
          "Store_3_SKU75",
          "Store_3_SKU756",
          "Store_3_SKU76",
          "Store_4_SKU17",
          "Store_4_SKU368",
          "Store_4_SKU4",
          "Store_4_SKU41",
          "Store_4_SKU425",
          "Store_4_SKU426",
          "Store_4_SKU428",
          "Store_4_SKU431",
          "Store_4_SKU445",
          "Store_4_SKU446",
          "Store_4_SKU448",
          "Store_4_SKU449",
          "Store_4_SKU455",
          "Store_4_SKU457",
          "Store_4_SKU458",
          "Store_4_SKU459",
          "Store_4_SKU461",
          "Store_4_SKU511",
          "Store_4_SKU532",
          "Store_4_SKU534",
          "Store_4_SKU536",
          "Store_4_SKU620",
          "Store_4_SKU642",
          "Store_4_SKU643",
          "Store_4_SKU651",
          "Store_4_SKU653",
          "Store_4_SKU738",
          "Store_4_SKU741",
          "Store_4_SKU752",
          "Store_4_SKU84",
          "Store_4_SKU92",
          "Store_5_SKU10",
          "Store_5_SKU110",
          "Store_5_SKU188",
          "Store_5_SKU249",
          "Store_5_SKU267",
          "Store_5_SKU269",
          "Store_5_SKU277",
          "Store_5_SKU28",
          "Store_5_SKU285",
          "Store_5_SKU286",
          "Store_5_SKU298",
          "Store_5_SKU32",
          "Store_5_SKU34",
          "Store_5_SKU36",
          "Store_5_SKU377",
          "Store_5_SKU387",
          "Store_5_SKU392",
          "Store_5_SKU393",
          "Store_5_SKU395",
          "Store_5_SKU493",
          "Store_5_SKU501",
          "Store_5_SKU506",
          "Store_5_SKU704",
          "Store_5_SKU709",
          "Store_5_SKU712",
          "Store_5_SKU713",
          "Store_5_SKU719",
          "Store_5_SKU720",
          "Store_5_SKU721",
          "Store_5_SKU84",
          "Store_5_SKU89",
          "Store_5_SKU93",
          "Store_6_SKU1",
          "Store_6_SKU125",
          "Store_6_SKU13",
          "Store_6_SKU14",
          "Store_6_SKU179",
          "Store_6_SKU18",
          "Store_6_SKU181",
          "Store_6_SKU188",
          "Store_6_SKU189",
          "Store_6_SKU219",
          "Store_6_SKU228",
          "Store_6_SKU238",
          "Store_6_SKU240",
          "Store_6_SKU252",
          "Store_6_SKU3",
          "Store_6_SKU32",
          "Store_6_SKU371",
          "Store_6_SKU378",
          "Store_6_SKU381",
          "Store_6_SKU382",
          "Store_6_SKU385",
          "Store_6_SKU389",
          "Store_6_SKU390",
          "Store_6_SKU391",
          "Store_6_SKU446",
          "Store_6_SKU462",
          "Store_6_SKU466",
          "Store_6_SKU6",
          "Store_6_SKU604",
          "Store_6_SKU621",
          "Store_6_SKU9",
          "Store_7_SKU155",
          "Store_7_SKU667",
          "Store_8_SKU135",
          "Store_8_SKU155",
          "Store_8_SKU16",
          "Store_8_SKU163",
          "Store_8_SKU2",
          "Store_8_SKU26",
          "Store_8_SKU293",
          "Store_8_SKU307",
          "Store_8_SKU33",
          "Store_8_SKU355",
          "Store_8_SKU415",
          "Store_8_SKU5",
          "Store_8_SKU628",
          "Store_8_SKU66",
          "Store_8_SKU691",
          "Store_8_SKU696",
          "Store_8_SKU727",
          "Store_8_SKU9",
          "Store_9_SKU12",
          "Store_9_SKU14",
          "Store_9_SKU16",
          "Store_9_SKU197",
          "Store_9_SKU3",
          "Store_9_SKU448",
          "Store_9_SKU451",
          "Store_9_SKU469",
          "Store_9_SKU53",
          "Store_9_SKU54",
          "Store_9_SKU603",
          "Store_9_SKU604",
          "Store_9_SKU61",
          "Store_9_SKU610",
          "Store_9_SKU615",
          "Store_9_SKU622",
          "Store_9_SKU625",
          "Store_9_SKU626",
          "Store_9_SKU633",
          "Store_9_SKU660",
          "Store_9_SKU666",
          "Store_9_SKU67",
          "Store_9_SKU69",
          "Store_9_SKU744",
          "Store_9_SKU77",
          "Store_9_SKU79",
          "Store_9_SKU8",
          "Store_9_SKU90"
         ],
         "x0": " ",
         "xaxis": "x",
         "y": [
          0.6306516676049656,
          0.005912918820210533,
          0.0005448769795079549,
          0.0009607169683307069,
          0.008215150338102918,
          0.08918154156851883,
          0.00001590293849036796,
          0.01388195064363662,
          0.02159634431293085,
          0.036618655107755645,
          0.33720491592854157,
          0.12099806751583579,
          0.09660049372153046,
          0.0076324594458562255,
          0.049910215715747455,
          0.03942952075588994,
          0.04995186521445701,
          0.04124319698738883,
          0.01838248107093351,
          0.08052262174229072,
          0.05974763593956157,
          0.017814188485913648,
          0.02336206581323703,
          0.000026627661098530128,
          0.0007261914568905197,
          0.00007397750954471497,
          0.008917142988699878,
          0.0005190593251702021,
          0.028385126357263243,
          0.08816779188416576,
          0.15278134122877593,
          0.045381027365802,
          0.04734484505190577,
          0.06775254232140994,
          0.10106920195516367,
          0.037746386146339794,
          0.009564174058254061,
          0.018385373785725245,
          0.04704541061020949,
          0.008211132937664923,
          0.012005226749215418,
          0.07783742718624428,
          0.04712113750126203,
          0.10994765575763225,
          0.0014682811903619886,
          0.00397642458518543,
          0.04730365475127355,
          0.0051651287370024146,
          0.11134002008413303,
          0.13489188854631923,
          0.08741771979629918,
          0.03229685762550302,
          0.021799940386360232,
          0.00029656154001954225,
          0.021163773896696637,
          0.09370962388045576,
          0.1575291929433785,
          0.012484556116877512,
          0.27864896543186773,
          0.7987685113649451,
          0.6292405472514128,
          0.2159100223093273,
          0.21449281466755626,
          0.05158004640130584,
          0.02230354198538915,
          0.0012576083384413354,
          0.08446086762032572,
          0.10179472908996258,
          0.08377193297799891,
          0.38804189709183107,
          0.038011498445448814,
          0.004535738332672878,
          0.18833069184316256,
          0.0010318798500663874,
          0.4810425867385717,
          0.23054994814276542,
          0.12834520178883882,
          0.07687866472343563,
          0.039878391538392136,
          0.000020158096308494917,
          0.00011197323675061486,
          0.0003650962703227758,
          0.0005969295290760605,
          0.011266322265351434,
          0.03046820151357784,
          0.04516687323302605,
          0.015717248811000204,
          0.09609481873828947,
          0.007744501445770696,
          0.039162254654631405,
          0.5391900222715905,
          0.027203268219421515,
          0.0003700355633474878,
          0.03320749403194797,
          0.0012451470545762483,
          0.0001585328915510346,
          0.00021819251180632662,
          0.0000858828607121118,
          0.0002173720157493655,
          0.000024069438307298137,
          0.01448320176274,
          0.10814422407207175,
          0.0916774521130386,
          0.0025156129391828933,
          0.0027152195836307818,
          0.03422110968640551,
          0.0001320206127105157,
          0.005220198707439093,
          0.0011031219842621198,
          0.05200611695033883,
          0.022261961249843483,
          0.0040317940833019825,
          0.008952476765630067,
          0.0011533027772002847,
          0.014535536357827665,
          0.008120442482869071,
          0.006809384187512617,
          0.00814631258368773,
          0.013066935826670775,
          0.0011198885414715341,
          0.010056709449810195,
          0.0026955638080616955,
          0.0008819878076152145,
          0.009606583448198158,
          0.005995523193126871,
          0.06304967453622565,
          0.09518023952195714,
          0.000429061163922403,
          0.9184333811776145,
          0.12602033670073892,
          0.0015134749057039497,
          0.006794033685287865,
          0.05795725760036182,
          0.04851566611920856,
          0.010855442548145758,
          0.06594122268512012,
          0.0008431214688261443,
          0.0049913094444810945,
          0.1597221003545451,
          0.06900987560719578,
          0.0006809196545658688,
          0.1154492857780859,
          0.0071639352187397205,
          0.0012934456015882998,
          0.0016012470052063055,
          0.11928899986968979,
          0.027397995010189722,
          0.11665061438059755,
          0.013794690188692544,
          0.04400388300806231,
          0.10899750733794428,
          0.00353360729205806,
          0.0066959331254775965,
          0.001782056830894745,
          0.01303480245055368,
          0.00557727183165944,
          0.002661998060276999,
          0.0051215410494537825,
          0.42066202433638966,
          0.10399715495467636,
          0.07374515182115274,
          0.5342380768247287,
          0.018186846373306805,
          0.18063904362990196,
          0.03178199634976063,
          0.049270281237799564,
          0.008028841790260003,
          0.007211678998531415,
          0.00017984714139433446,
          0.00004491516625443806,
          0.03042483060481697,
          0.06643946891570908,
          0.07887707261191802,
          0.13402700644982332,
          0.037201882119584986,
          0.11229613225143956,
          0.05183574164339753,
          0.04441567529403591,
          0.0027130121695229936,
          0.12942501539150547,
          0.000798455714725386,
          0.03341352012565971,
          0.10750664269290086,
          0.0025514397130336746,
          0.003962381748551464,
          0.1167514106895268,
          0.17913877707904663,
          0.12947370087699897,
          0.13889072992292448,
          0.01361742807606855,
          0.16588781587466886,
          0.2253607080102709,
          0.036155839388717234,
          0.24073574586426436,
          0.03795018617830607,
          0.01816029330275893,
          1.7758227484730575,
          0.029713188967209217,
          0.0012610138632686574,
          0.0014713545541435312,
          0.017504620218627535,
          0.26407532262648564,
          0.0027775714565729756,
          0.0027885770592233636,
          0.0009071201612690321,
          0.0009048125161088258,
          0.12251916114700041,
          0.03257783207139496,
          0.19359631969236904,
          0.00929095236771843,
          0.24864824038126562,
          0.01418068230248863,
          0.20793313749949233,
          0.05190282535439544,
          0.23178486463713135,
          0.05591742631577657,
          0.3141153270658114,
          0.21228891097755823,
          0.01044373883845107,
          0.21160998895117636,
          0.23306118005257595,
          0.143484560308812,
          0.0029348887552441577,
          2.169553697164057,
          0.6472181916052199,
          0.16266631875600526,
          0.005655490513294039,
          0.002665318505257488,
          0.0013952570412925553,
          0.0072796566306596085,
          0.0008290739702827674,
          0.011581030287767096,
          0.0004911543008920878,
          0.009550026328658265,
          0.004660179846152695,
          0.3080502575080385,
          0.040019221994418784,
          0.010103950908862505,
          0.4785981366811245,
          0.009741954808300415,
          0.004123137205415886,
          0.03604741503050843,
          0.08910219703576074,
          0.0070984237366917835,
          0.07007496923088616,
          0.06865039810319494,
          0.026459431435396974,
          0.06569030007279157,
          0.007398143720339705,
          0.01753980015254697,
          0.13132974104482523,
          0.009428888943476012,
          0.12044955657793917,
          0.3294675437077433,
          0.5119398715601419,
          0.13226971368173865,
          0.006699804841246378,
          0.037184718134598,
          0.011081415786764968,
          0.07739827531939417,
          0.0024523986129990016,
          0.05528696134132699,
          0.00139497732672768,
          0.02332446984476342,
          0.020951367979951115,
          0.00007620473676751472,
          0.021883861748686163,
          0.15577590825191304,
          0.074082358218403,
          0.006768662408776561,
          0.009785297745604776,
          0.0621874392387998,
          0.007340888479864953,
          0.00003590019892406171,
          0.034122077910189695,
          0.002143282550926093,
          0.028711398245981668,
          0.09193490139854743,
          0.11760600045551269,
          0.0005308586178984195,
          0,
          0.001630002827952575,
          0.0018164151032799437,
          0.006887785849091755,
          0.015544991258132733,
          0.019905221521598876,
          0.024818135131887624,
          0.040867670860228356,
          0.012746730247578015,
          0.007534836731760927,
          0.012581221974065467,
          0.019148542342614584,
          0.2576881081353035,
          0.019419232616338104,
          0.05315477063837548,
          0.032353942706284125,
          0.006828595916209958,
          0.04941148231562468,
          0.049873384300417836,
          0.15750601742620146,
          0.00005289985160420138,
          0.17920909615517844,
          0.044527145044569776,
          0.17530116783954358,
          0.024888637187963795,
          0.44400868603544363,
          0.07645969775887308,
          0.0229094736615447,
          0.04425703750952307,
          0.017380956078542585,
          0.03155150921735079,
          0.012290549591113843,
          0.058607648741126596,
          0.000030612428170612814,
          0.3620360787662886,
          0.0016746242939138856,
          0.3831657496301404,
          0.1105308932587577,
          0.06871464853874619,
          0.015393010680263846,
          0.01151071121163545,
          0.00014186073800726633,
          0.0025301324560544954,
          0.6272573873031484,
          0.41319700669097564,
          0.47796184781633855,
          0.3881226891474626,
          0.9742793905375925,
          0.413205306055211,
          0.11489803829936303,
          0.694561635753346,
          0.27572957169804024,
          0.0065910553148559176,
          0.24883438809323372,
          0.17864849455521514,
          0.36281477730891504,
          0.3662509029096374,
          0.5108099972087039,
          0.9795160049935576,
          0.10986642781347052,
          0.44377784809435045,
          0.040025931647543644,
          0.13370050379658882,
          0.06321982140960562,
          0.10361598675164692,
          0.06579779438007217,
          0.22671936090431785,
          0.07265084667307092,
          0.00002190165042953397,
          0.024488884283053253,
          0.813238106179581,
          0.8033739102790447,
          2.264875804416886,
          0.5634184794744965,
          0.2303886693865692,
          0.41021733796485016,
          2.693750769346315,
          0.3384413673565824,
          0.1995969919644443,
          0.4135301444067843,
          0.8908820990894425,
          0.5213204910935395,
          0.5077900134554391,
          0.16500471153974883,
          0.052364303105431886,
          0.24565980609996318,
          0.03403846306840778,
          0.05176986886336998,
          0.16125103065543572,
          0.025477464318477368,
          0.010438607241663001,
          0.03792537083449247,
          0.03854914946536423,
          0.016863725387340243,
          0.04487932782581423,
          0.015099106428610619,
          0.6004143028670037,
          0.02412046873322735,
          0.5816933345392086,
          0.4063275841030679,
          0.0095630773440643,
          0.01154717550159867,
          0.007853452599743335,
          0.2340384083385757,
          0.058145774727789895,
          0.031189453677443624,
          0.0021395600162585843,
          0.05357179009028009,
          0.3498279354169407,
          0.0009466857864702797,
          0.006604665759391679,
          0.30654044686313436,
          0.04382075621339487,
          0.04374702228861703,
          0.037505967981399636,
          0.010537790529934803,
          0.19308792448498463,
          0.12600482652811668,
          0.15442264102871733,
          0.1402548139414393,
          0.05419354661794331,
          0.14088653763143089,
          0.13507134874923207,
          0.10458858226516586,
          0.07697723613609682,
          0.02016929071847641,
          0.02666090167813329,
          0.0043541173347463125,
          0.016947595468662608,
          0.0027275118732795847,
          0.19305742743907203,
          0.2992257373355868,
          0.44965003231557404,
          0.18822372316616842,
          0.006879775523240194,
          0.07550392474547651,
          0.08215498116545238,
          0.1316907814539574,
          0.09792965304566621,
          0.06327408020780416,
          0.026098367716717745,
          0.5541473810134971,
          0.6593003095573637,
          0.29122113281237283,
          0.0366811666510953,
          0.37940948255157925,
          0.012255020013988246,
          0.009873043039128008,
          0.5303633436350794,
          0.0034662858236799636,
          0.3490953653024935,
          0.729574599890746,
          0.6236093406242591,
          0.4008838270260862,
          0.21336929799508284,
          0.6231395133934611,
          0.3705528324994425,
          0.5650372564245785,
          1.751892492636807,
          0.6354319335757278,
          0.32998666014130396,
          0.9607744403499684,
          0.34387882502846767,
          0.32436741247727574,
          2.4750675099906934,
          0.008352486693023369,
          0.04494915040859322,
          0.03570732291133054,
          1.3866107832122934,
          3.6381362881280417,
          0.42935988625743476,
          0.32613140440918903,
          0.233958199021621,
          0.022900691789685054,
          0.0046040504568015716,
          0.17256027045885736,
          0.0008755905024211061,
          0.00020230472452155388,
          0.00026717869045701906,
          0.016649394102006537,
          0.00003835585970817246,
          0.01161672419719957,
          0.17820055615459593,
          0.00024315470576650997,
          0.00027618433396856717,
          0.024412722668947846,
          0.03639458043174553,
          0.0000915342603998934,
          0.00009996066166668472,
          0.0015754456675515067,
          0.0000968674847701324,
          0.19376231630089272,
          0.177794830178248,
          0.08972572159256947,
          0.012793897116079674,
          0.1330401210184713,
          0.03306259955638918,
          0.0014387153608549463,
          0.09561449288749,
          1.5800555290783904,
          0.025935442141020854,
          0.18886542101135242,
          1.5411854537689282,
          1.1613816482714292,
          1.3334630229201991,
          0.690468986270024,
          3.300226737411744,
          1.3001981536036107,
          0.1262068095808886,
          0.42383172647598033,
          0.006216454576714235,
          0.2862284247950673,
          0.06602652746906484,
          0.2411510485680271,
          0.13495993261065653,
          1.674760152443533,
          0.4898485851449197,
          0.8235958013214452,
          0.028269791883824724
         ],
         "y0": " ",
         "yaxis": "y"
        }
       ],
       "layout": {
        "boxmode": "group",
        "legend": {
         "tracegroupgap": 0
        },
        "template": {
         "data": {
          "bar": [
           {
            "error_x": {
             "color": "#2a3f5f"
            },
            "error_y": {
             "color": "#2a3f5f"
            },
            "marker": {
             "line": {
              "color": "#E5ECF6",
              "width": 0.5
             },
             "pattern": {
              "fillmode": "overlay",
              "size": 10,
              "solidity": 0.2
             }
            },
            "type": "bar"
           }
          ],
          "barpolar": [
           {
            "marker": {
             "line": {
              "color": "#E5ECF6",
              "width": 0.5
             },
             "pattern": {
              "fillmode": "overlay",
              "size": 10,
              "solidity": 0.2
             }
            },
            "type": "barpolar"
           }
          ],
          "carpet": [
           {
            "aaxis": {
             "endlinecolor": "#2a3f5f",
             "gridcolor": "white",
             "linecolor": "white",
             "minorgridcolor": "white",
             "startlinecolor": "#2a3f5f"
            },
            "baxis": {
             "endlinecolor": "#2a3f5f",
             "gridcolor": "white",
             "linecolor": "white",
             "minorgridcolor": "white",
             "startlinecolor": "#2a3f5f"
            },
            "type": "carpet"
           }
          ],
          "choropleth": [
           {
            "colorbar": {
             "outlinewidth": 0,
             "ticks": ""
            },
            "type": "choropleth"
           }
          ],
          "contour": [
           {
            "colorbar": {
             "outlinewidth": 0,
             "ticks": ""
            },
            "colorscale": [
             [
              0,
              "#0d0887"
             ],
             [
              0.1111111111111111,
              "#46039f"
             ],
             [
              0.2222222222222222,
              "#7201a8"
             ],
             [
              0.3333333333333333,
              "#9c179e"
             ],
             [
              0.4444444444444444,
              "#bd3786"
             ],
             [
              0.5555555555555556,
              "#d8576b"
             ],
             [
              0.6666666666666666,
              "#ed7953"
             ],
             [
              0.7777777777777778,
              "#fb9f3a"
             ],
             [
              0.8888888888888888,
              "#fdca26"
             ],
             [
              1,
              "#f0f921"
             ]
            ],
            "type": "contour"
           }
          ],
          "contourcarpet": [
           {
            "colorbar": {
             "outlinewidth": 0,
             "ticks": ""
            },
            "type": "contourcarpet"
           }
          ],
          "heatmap": [
           {
            "colorbar": {
             "outlinewidth": 0,
             "ticks": ""
            },
            "colorscale": [
             [
              0,
              "#0d0887"
             ],
             [
              0.1111111111111111,
              "#46039f"
             ],
             [
              0.2222222222222222,
              "#7201a8"
             ],
             [
              0.3333333333333333,
              "#9c179e"
             ],
             [
              0.4444444444444444,
              "#bd3786"
             ],
             [
              0.5555555555555556,
              "#d8576b"
             ],
             [
              0.6666666666666666,
              "#ed7953"
             ],
             [
              0.7777777777777778,
              "#fb9f3a"
             ],
             [
              0.8888888888888888,
              "#fdca26"
             ],
             [
              1,
              "#f0f921"
             ]
            ],
            "type": "heatmap"
           }
          ],
          "heatmapgl": [
           {
            "colorbar": {
             "outlinewidth": 0,
             "ticks": ""
            },
            "colorscale": [
             [
              0,
              "#0d0887"
             ],
             [
              0.1111111111111111,
              "#46039f"
             ],
             [
              0.2222222222222222,
              "#7201a8"
             ],
             [
              0.3333333333333333,
              "#9c179e"
             ],
             [
              0.4444444444444444,
              "#bd3786"
             ],
             [
              0.5555555555555556,
              "#d8576b"
             ],
             [
              0.6666666666666666,
              "#ed7953"
             ],
             [
              0.7777777777777778,
              "#fb9f3a"
             ],
             [
              0.8888888888888888,
              "#fdca26"
             ],
             [
              1,
              "#f0f921"
             ]
            ],
            "type": "heatmapgl"
           }
          ],
          "histogram": [
           {
            "marker": {
             "pattern": {
              "fillmode": "overlay",
              "size": 10,
              "solidity": 0.2
             }
            },
            "type": "histogram"
           }
          ],
          "histogram2d": [
           {
            "colorbar": {
             "outlinewidth": 0,
             "ticks": ""
            },
            "colorscale": [
             [
              0,
              "#0d0887"
             ],
             [
              0.1111111111111111,
              "#46039f"
             ],
             [
              0.2222222222222222,
              "#7201a8"
             ],
             [
              0.3333333333333333,
              "#9c179e"
             ],
             [
              0.4444444444444444,
              "#bd3786"
             ],
             [
              0.5555555555555556,
              "#d8576b"
             ],
             [
              0.6666666666666666,
              "#ed7953"
             ],
             [
              0.7777777777777778,
              "#fb9f3a"
             ],
             [
              0.8888888888888888,
              "#fdca26"
             ],
             [
              1,
              "#f0f921"
             ]
            ],
            "type": "histogram2d"
           }
          ],
          "histogram2dcontour": [
           {
            "colorbar": {
             "outlinewidth": 0,
             "ticks": ""
            },
            "colorscale": [
             [
              0,
              "#0d0887"
             ],
             [
              0.1111111111111111,
              "#46039f"
             ],
             [
              0.2222222222222222,
              "#7201a8"
             ],
             [
              0.3333333333333333,
              "#9c179e"
             ],
             [
              0.4444444444444444,
              "#bd3786"
             ],
             [
              0.5555555555555556,
              "#d8576b"
             ],
             [
              0.6666666666666666,
              "#ed7953"
             ],
             [
              0.7777777777777778,
              "#fb9f3a"
             ],
             [
              0.8888888888888888,
              "#fdca26"
             ],
             [
              1,
              "#f0f921"
             ]
            ],
            "type": "histogram2dcontour"
           }
          ],
          "mesh3d": [
           {
            "colorbar": {
             "outlinewidth": 0,
             "ticks": ""
            },
            "type": "mesh3d"
           }
          ],
          "parcoords": [
           {
            "line": {
             "colorbar": {
              "outlinewidth": 0,
              "ticks": ""
             }
            },
            "type": "parcoords"
           }
          ],
          "pie": [
           {
            "automargin": true,
            "type": "pie"
           }
          ],
          "scatter": [
           {
            "fillpattern": {
             "fillmode": "overlay",
             "size": 10,
             "solidity": 0.2
            },
            "type": "scatter"
           }
          ],
          "scatter3d": [
           {
            "line": {
             "colorbar": {
              "outlinewidth": 0,
              "ticks": ""
             }
            },
            "marker": {
             "colorbar": {
              "outlinewidth": 0,
              "ticks": ""
             }
            },
            "type": "scatter3d"
           }
          ],
          "scattercarpet": [
           {
            "marker": {
             "colorbar": {
              "outlinewidth": 0,
              "ticks": ""
             }
            },
            "type": "scattercarpet"
           }
          ],
          "scattergeo": [
           {
            "marker": {
             "colorbar": {
              "outlinewidth": 0,
              "ticks": ""
             }
            },
            "type": "scattergeo"
           }
          ],
          "scattergl": [
           {
            "marker": {
             "colorbar": {
              "outlinewidth": 0,
              "ticks": ""
             }
            },
            "type": "scattergl"
           }
          ],
          "scattermapbox": [
           {
            "marker": {
             "colorbar": {
              "outlinewidth": 0,
              "ticks": ""
             }
            },
            "type": "scattermapbox"
           }
          ],
          "scatterpolar": [
           {
            "marker": {
             "colorbar": {
              "outlinewidth": 0,
              "ticks": ""
             }
            },
            "type": "scatterpolar"
           }
          ],
          "scatterpolargl": [
           {
            "marker": {
             "colorbar": {
              "outlinewidth": 0,
              "ticks": ""
             }
            },
            "type": "scatterpolargl"
           }
          ],
          "scatterternary": [
           {
            "marker": {
             "colorbar": {
              "outlinewidth": 0,
              "ticks": ""
             }
            },
            "type": "scatterternary"
           }
          ],
          "surface": [
           {
            "colorbar": {
             "outlinewidth": 0,
             "ticks": ""
            },
            "colorscale": [
             [
              0,
              "#0d0887"
             ],
             [
              0.1111111111111111,
              "#46039f"
             ],
             [
              0.2222222222222222,
              "#7201a8"
             ],
             [
              0.3333333333333333,
              "#9c179e"
             ],
             [
              0.4444444444444444,
              "#bd3786"
             ],
             [
              0.5555555555555556,
              "#d8576b"
             ],
             [
              0.6666666666666666,
              "#ed7953"
             ],
             [
              0.7777777777777778,
              "#fb9f3a"
             ],
             [
              0.8888888888888888,
              "#fdca26"
             ],
             [
              1,
              "#f0f921"
             ]
            ],
            "type": "surface"
           }
          ],
          "table": [
           {
            "cells": {
             "fill": {
              "color": "#EBF0F8"
             },
             "line": {
              "color": "white"
             }
            },
            "header": {
             "fill": {
              "color": "#C8D4E3"
             },
             "line": {
              "color": "white"
             }
            },
            "type": "table"
           }
          ]
         },
         "layout": {
          "annotationdefaults": {
           "arrowcolor": "#2a3f5f",
           "arrowhead": 0,
           "arrowwidth": 1
          },
          "autotypenumbers": "strict",
          "coloraxis": {
           "colorbar": {
            "outlinewidth": 0,
            "ticks": ""
           }
          },
          "colorscale": {
           "diverging": [
            [
             0,
             "#8e0152"
            ],
            [
             0.1,
             "#c51b7d"
            ],
            [
             0.2,
             "#de77ae"
            ],
            [
             0.3,
             "#f1b6da"
            ],
            [
             0.4,
             "#fde0ef"
            ],
            [
             0.5,
             "#f7f7f7"
            ],
            [
             0.6,
             "#e6f5d0"
            ],
            [
             0.7,
             "#b8e186"
            ],
            [
             0.8,
             "#7fbc41"
            ],
            [
             0.9,
             "#4d9221"
            ],
            [
             1,
             "#276419"
            ]
           ],
           "sequential": [
            [
             0,
             "#0d0887"
            ],
            [
             0.1111111111111111,
             "#46039f"
            ],
            [
             0.2222222222222222,
             "#7201a8"
            ],
            [
             0.3333333333333333,
             "#9c179e"
            ],
            [
             0.4444444444444444,
             "#bd3786"
            ],
            [
             0.5555555555555556,
             "#d8576b"
            ],
            [
             0.6666666666666666,
             "#ed7953"
            ],
            [
             0.7777777777777778,
             "#fb9f3a"
            ],
            [
             0.8888888888888888,
             "#fdca26"
            ],
            [
             1,
             "#f0f921"
            ]
           ],
           "sequentialminus": [
            [
             0,
             "#0d0887"
            ],
            [
             0.1111111111111111,
             "#46039f"
            ],
            [
             0.2222222222222222,
             "#7201a8"
            ],
            [
             0.3333333333333333,
             "#9c179e"
            ],
            [
             0.4444444444444444,
             "#bd3786"
            ],
            [
             0.5555555555555556,
             "#d8576b"
            ],
            [
             0.6666666666666666,
             "#ed7953"
            ],
            [
             0.7777777777777778,
             "#fb9f3a"
            ],
            [
             0.8888888888888888,
             "#fdca26"
            ],
            [
             1,
             "#f0f921"
            ]
           ]
          },
          "colorway": [
           "#636efa",
           "#EF553B",
           "#00cc96",
           "#ab63fa",
           "#FFA15A",
           "#19d3f3",
           "#FF6692",
           "#B6E880",
           "#FF97FF",
           "#FECB52"
          ],
          "font": {
           "color": "#2a3f5f"
          },
          "geo": {
           "bgcolor": "white",
           "lakecolor": "white",
           "landcolor": "#E5ECF6",
           "showlakes": true,
           "showland": true,
           "subunitcolor": "white"
          },
          "hoverlabel": {
           "align": "left"
          },
          "hovermode": "closest",
          "mapbox": {
           "style": "light"
          },
          "paper_bgcolor": "white",
          "plot_bgcolor": "#E5ECF6",
          "polar": {
           "angularaxis": {
            "gridcolor": "white",
            "linecolor": "white",
            "ticks": ""
           },
           "bgcolor": "#E5ECF6",
           "radialaxis": {
            "gridcolor": "white",
            "linecolor": "white",
            "ticks": ""
           }
          },
          "scene": {
           "xaxis": {
            "backgroundcolor": "#E5ECF6",
            "gridcolor": "white",
            "gridwidth": 2,
            "linecolor": "white",
            "showbackground": true,
            "ticks": "",
            "zerolinecolor": "white"
           },
           "yaxis": {
            "backgroundcolor": "#E5ECF6",
            "gridcolor": "white",
            "gridwidth": 2,
            "linecolor": "white",
            "showbackground": true,
            "ticks": "",
            "zerolinecolor": "white"
           },
           "zaxis": {
            "backgroundcolor": "#E5ECF6",
            "gridcolor": "white",
            "gridwidth": 2,
            "linecolor": "white",
            "showbackground": true,
            "ticks": "",
            "zerolinecolor": "white"
           }
          },
          "shapedefaults": {
           "line": {
            "color": "#2a3f5f"
           }
          },
          "ternary": {
           "aaxis": {
            "gridcolor": "white",
            "linecolor": "white",
            "ticks": ""
           },
           "baxis": {
            "gridcolor": "white",
            "linecolor": "white",
            "ticks": ""
           },
           "bgcolor": "#E5ECF6",
           "caxis": {
            "gridcolor": "white",
            "linecolor": "white",
            "ticks": ""
           }
          },
          "title": {
           "x": 0.05
          },
          "xaxis": {
           "automargin": true,
           "gridcolor": "white",
           "linecolor": "white",
           "ticks": "",
           "title": {
            "standoff": 15
           },
           "zerolinecolor": "white",
           "zerolinewidth": 2
          },
          "yaxis": {
           "automargin": true,
           "gridcolor": "white",
           "linecolor": "white",
           "ticks": "",
           "title": {
            "standoff": 15
           },
           "zerolinecolor": "white",
           "zerolinewidth": 2
          }
         }
        },
        "title": {
         "text": "Variance Distribution by ID"
        },
        "xaxis": {
         "anchor": "y",
         "domain": [
          0,
          1
         ],
         "tickangle": -45,
         "title": {
          "text": "ID"
         }
        },
        "yaxis": {
         "anchor": "x",
         "domain": [
          0,
          1
         ],
         "title": {
          "text": "Variance"
         }
        }
       }
      }
     },
     "metadata": {},
     "output_type": "display_data"
    }
   ],
   "source": [
    "plotly_boxplot_variance(id_variance, 'ID', 'ID_Variance', 'Variance Distribution by ID', 'ID')"
   ]
  },
  {
   "cell_type": "code",
   "execution_count": 93,
   "metadata": {},
   "outputs": [
    {
     "data": {
      "image/png": "[encoded data removed]",
      "text/plain": [
       "<Figure size 1000x500 with 2 Axes>"
      ]
     },
     "metadata": {},
     "output_type": "display_data"
    }
   ],
   "source": [
    "# Variance at SKU level\n",
    "sku_variance = df.groupby('SKU')['Units_Sold_Normalized'].var().reset_index().rename(columns={'Units_Sold_Normalized': 'SKU_Variance'})\n",
    "percentage=5\n",
    "plot_top_bottom(sku_variance, 'SKU', 'SKU_Variance', \n",
    "                f'Top {percentage}% Variance of Units Sold by SKU', \n",
    "                f'Bottom {percentage}% Variance of Units Sold by SKU', \n",
    "                'SKU', percentage=percentage)"
   ]
  },
  {
   "cell_type": "code",
   "execution_count": 119,
   "metadata": {},
   "outputs": [
    {
     "data": {
      "application/vnd.plotly.v1+json": {
       "config": {
        "plotlyServerURL": "https://plot.ly"
       },
       "data": [
        {
         "alignmentgroup": "True",
         "hovertemplate": "SKU=%{x}<br>SKU_Variance=%{y}<extra></extra>",
         "legendgroup": "",
         "marker": {
          "color": "#636efa"
         },
         "name": "",
         "notched": false,
         "offsetgroup": "",
         "orientation": "v",
         "showlegend": false,
         "type": "box",
         "x": [
          "SKU1",
          "SKU10",
          "SKU101",
          "SKU103",
          "SKU104",
          "SKU106",
          "SKU107",
          "SKU108",
          "SKU11",
          "SKU110",
          "SKU111",
          "SKU112",
          "SKU113",
          "SKU114",
          "SKU116",
          "SKU118",
          "SKU119",
          "SKU12",
          "SKU120",
          "SKU121",
          "SKU124",
          "SKU125",
          "SKU126",
          "SKU127",
          "SKU129",
          "SKU13",
          "SKU130",
          "SKU133",
          "SKU135",
          "SKU137",
          "SKU139",
          "SKU14",
          "SKU141",
          "SKU142",
          "SKU143",
          "SKU144",
          "SKU145",
          "SKU146",
          "SKU152",
          "SKU153",
          "SKU154",
          "SKU155",
          "SKU158",
          "SKU159",
          "SKU16",
          "SKU161",
          "SKU162",
          "SKU163",
          "SKU164",
          "SKU165",
          "SKU167",
          "SKU168",
          "SKU169",
          "SKU17",
          "SKU170",
          "SKU175",
          "SKU176",
          "SKU177",
          "SKU179",
          "SKU18",
          "SKU181",
          "SKU182",
          "SKU185",
          "SKU187",
          "SKU188",
          "SKU189",
          "SKU193",
          "SKU194",
          "SKU195",
          "SKU197",
          "SKU199",
          "SKU2",
          "SKU201",
          "SKU202",
          "SKU204",
          "SKU205",
          "SKU206",
          "SKU208",
          "SKU209",
          "SKU211",
          "SKU212",
          "SKU213",
          "SKU214",
          "SKU216",
          "SKU219",
          "SKU22",
          "SKU225",
          "SKU226",
          "SKU228",
          "SKU229",
          "SKU230",
          "SKU233",
          "SKU236",
          "SKU238",
          "SKU239",
          "SKU240",
          "SKU241",
          "SKU245",
          "SKU248",
          "SKU249",
          "SKU252",
          "SKU253",
          "SKU254",
          "SKU255",
          "SKU256",
          "SKU258",
          "SKU26",
          "SKU263",
          "SKU264",
          "SKU266",
          "SKU267",
          "SKU269",
          "SKU271",
          "SKU272",
          "SKU273",
          "SKU274",
          "SKU277",
          "SKU28",
          "SKU281",
          "SKU285",
          "SKU286",
          "SKU289",
          "SKU29",
          "SKU290",
          "SKU291",
          "SKU292",
          "SKU293",
          "SKU294",
          "SKU295",
          "SKU296",
          "SKU298",
          "SKU299",
          "SKU3",
          "SKU30",
          "SKU300",
          "SKU302",
          "SKU304",
          "SKU305",
          "SKU306",
          "SKU307",
          "SKU31",
          "SKU312",
          "SKU313",
          "SKU316",
          "SKU318",
          "SKU32",
          "SKU322",
          "SKU324",
          "SKU326",
          "SKU329",
          "SKU33",
          "SKU330",
          "SKU332",
          "SKU333",
          "SKU334",
          "SKU336",
          "SKU337",
          "SKU34",
          "SKU340",
          "SKU343",
          "SKU345",
          "SKU346",
          "SKU347",
          "SKU348",
          "SKU349",
          "SKU352",
          "SKU354",
          "SKU355",
          "SKU358",
          "SKU36",
          "SKU360",
          "SKU364",
          "SKU365",
          "SKU368",
          "SKU369",
          "SKU37",
          "SKU370",
          "SKU371",
          "SKU372",
          "SKU375",
          "SKU377",
          "SKU378",
          "SKU379",
          "SKU380",
          "SKU381",
          "SKU382",
          "SKU385",
          "SKU387",
          "SKU388",
          "SKU389",
          "SKU39",
          "SKU390",
          "SKU391",
          "SKU392",
          "SKU393",
          "SKU395",
          "SKU4",
          "SKU408",
          "SKU41",
          "SKU410",
          "SKU413",
          "SKU415",
          "SKU416",
          "SKU418",
          "SKU424",
          "SKU425",
          "SKU426",
          "SKU428",
          "SKU43",
          "SKU431",
          "SKU438",
          "SKU440",
          "SKU442",
          "SKU444",
          "SKU445",
          "SKU446",
          "SKU447",
          "SKU448",
          "SKU449",
          "SKU450",
          "SKU451",
          "SKU455",
          "SKU456",
          "SKU457",
          "SKU458",
          "SKU459",
          "SKU46",
          "SKU461",
          "SKU462",
          "SKU466",
          "SKU469",
          "SKU47",
          "SKU470",
          "SKU477",
          "SKU478",
          "SKU48",
          "SKU480",
          "SKU481",
          "SKU482",
          "SKU484",
          "SKU485",
          "SKU487",
          "SKU488",
          "SKU49",
          "SKU491",
          "SKU493",
          "SKU494",
          "SKU497",
          "SKU498",
          "SKU499",
          "SKU5",
          "SKU501",
          "SKU502",
          "SKU503",
          "SKU504",
          "SKU505",
          "SKU506",
          "SKU508",
          "SKU51",
          "SKU510",
          "SKU511",
          "SKU516",
          "SKU517",
          "SKU518",
          "SKU519",
          "SKU52",
          "SKU522",
          "SKU523",
          "SKU525",
          "SKU53",
          "SKU530",
          "SKU532",
          "SKU534",
          "SKU536",
          "SKU537",
          "SKU54",
          "SKU544",
          "SKU547",
          "SKU548",
          "SKU549",
          "SKU551",
          "SKU552",
          "SKU553",
          "SKU555",
          "SKU557",
          "SKU558",
          "SKU56",
          "SKU563",
          "SKU565",
          "SKU569",
          "SKU57",
          "SKU570",
          "SKU576",
          "SKU580",
          "SKU584",
          "SKU585",
          "SKU588",
          "SKU589",
          "SKU59",
          "SKU590",
          "SKU591",
          "SKU6",
          "SKU60",
          "SKU601",
          "SKU602",
          "SKU603",
          "SKU604",
          "SKU606",
          "SKU61",
          "SKU610",
          "SKU615",
          "SKU620",
          "SKU621",
          "SKU622",
          "SKU625",
          "SKU626",
          "SKU628",
          "SKU63",
          "SKU633",
          "SKU636",
          "SKU637",
          "SKU642",
          "SKU643",
          "SKU644",
          "SKU645",
          "SKU650",
          "SKU651",
          "SKU653",
          "SKU656",
          "SKU659",
          "SKU66",
          "SKU660",
          "SKU661",
          "SKU662",
          "SKU663",
          "SKU664",
          "SKU666",
          "SKU667",
          "SKU67",
          "SKU673",
          "SKU674",
          "SKU675",
          "SKU679",
          "SKU682",
          "SKU684",
          "SKU688",
          "SKU69",
          "SKU691",
          "SKU692",
          "SKU693",
          "SKU696",
          "SKU697",
          "SKU704",
          "SKU708",
          "SKU709",
          "SKU712",
          "SKU713",
          "SKU714",
          "SKU716",
          "SKU717",
          "SKU719",
          "SKU72",
          "SKU720",
          "SKU721",
          "SKU723",
          "SKU727",
          "SKU729",
          "SKU73",
          "SKU733",
          "SKU734",
          "SKU736",
          "SKU738",
          "SKU741",
          "SKU743",
          "SKU744",
          "SKU745",
          "SKU748",
          "SKU75",
          "SKU752",
          "SKU753",
          "SKU756",
          "SKU759",
          "SKU76",
          "SKU77",
          "SKU78",
          "SKU79",
          "SKU8",
          "SKU80",
          "SKU84",
          "SKU87",
          "SKU88",
          "SKU89",
          "SKU9",
          "SKU90",
          "SKU92",
          "SKU93",
          "SKU94",
          "SKU95",
          "SKU96",
          "SKU98",
          "SKU99"
         ],
         "x0": " ",
         "xaxis": "x",
         "y": [
          1.825696439950366,
          0.3498279354169407,
          0.006699804841246378,
          0.004340347211634305,
          0.0003700355633474878,
          0.021213470558520915,
          0.03921810980511651,
          0.005338081090216611,
          0.007398143720339705,
          0.0010296708860781918,
          0.0001585328915510346,
          0.00021819251180632662,
          0.0000858828607121118,
          0.0002173720157493655,
          0.000024069438307298137,
          0.021163773896696637,
          0.06618415500962872,
          0.19376231630089272,
          0.09370962388045576,
          0.1575291929433785,
          0.012484556116877512,
          0.5541473810134971,
          0.27864896543186773,
          0.7987685113649451,
          0.15042449122797139,
          0.6593003095573637,
          0.6292405472514128,
          0.16266631875600526,
          0.3469061835237107,
          0.06900987560719578,
          0.005407463713473396,
          0.4004707683917163,
          0.21449281466755626,
          0.1154492857780859,
          0.05158004640130584,
          0.02230354198538915,
          0.0071639352187397205,
          0.0012934456015882998,
          0.005655490513294039,
          0.0012576083384413354,
          0.002665318505257488,
          0.21766687170949425,
          0.0013952570412925553,
          0.0072796566306596085,
          0.3703218711162343,
          0.0008290739702827674,
          0.011581030287767096,
          0.0008755905024211061,
          0.01418068230248863,
          0.0004911543008920878,
          0.009550026328658265,
          0.004660179846152695,
          0.037184718134598,
          0.6978084658402607,
          0.040019221994418784,
          0.010056709449810195,
          0.011081415786764968,
          0.07739827531939417,
          0.07887630028483561,
          1.088938191417122,
          0.012255020013988246,
          0.0026955638080616955,
          0.0008819878076152145,
          0.0005448769795079549,
          0.015742012916748857,
          0.5303633436350794,
          0.0930053637537288,
          0.010782050711418191,
          0.06304967453622565,
          0.012793897116079674,
          0.008215150338102918,
          0.012682817152290261,
          0.08918154156851883,
          0.24883438809323372,
          0.1922732172814248,
          0.00001590293849036796,
          0.02688779088380697,
          0.15750601742620146,
          0.5770212373456505,
          0.06871464853874619,
          0.3662509029096374,
          1.6943324934476856,
          0.7807184772620633,
          0.21070711025427433,
          0.30589421753976426,
          0.4785981366811245,
          0.09518023952195714,
          0.0330412222133271,
          0.4505660417914015,
          0.036618655107755645,
          0.0916774521130386,
          0.33720491592854157,
          0.05591742631577657,
          0.729574599890746,
          0.09504451877423603,
          0.6236093406242591,
          0.12099806751583579,
          0.09660049372153046,
          0.0076324594458562255,
          0.30654044686313436,
          0.4008838270260862,
          0.049910215715747455,
          0.03942952075588994,
          0.04995186521445701,
          0.009741954808300415,
          0.004123137205415886,
          0.00026717869045701906,
          0.6323433035764231,
          0.21228891097755823,
          0.00139497732672768,
          0.04382075621339487,
          0.056170445182254405,
          0.08377193297799891,
          0.020951367979951115,
          0.012581221974065467,
          0.8455829640970012,
          0.037505967981399636,
          0.08104055295981333,
          0.03341352012565971,
          0.2753359763240505,
          0.12600482652811668,
          0.0025514397130336746,
          0.01838248107093351,
          0.003962381748551464,
          0.015393010680263846,
          0.1167514106895268,
          0.1581853518700355,
          0.12947370087699897,
          0.13889072992292448,
          0.01361742807606855,
          0.15442264102871733,
          0.16588781587466886,
          0.2812694387117799,
          0.0027152195836307818,
          0.15577590825191304,
          0.2253607080102709,
          0.036155839388717234,
          0.01151071121163545,
          0.08052262174229072,
          0.07448598609832952,
          0.01044373883845107,
          0.24073574586426436,
          0.03795018617830607,
          0.01816029330275893,
          1.7758227484730575,
          1.3052067288852711,
          0.038011498445448814,
          0.004535738332672878,
          0.3307528379136922,
          0.03604741503050843,
          0.01161672419719957,
          0.000429061163922403,
          0.03422110968640551,
          0.10399715495467636,
          0.027397995010189722,
          0.1683999006624046,
          0.0001320206127105157,
          0.05419354661794331,
          0.019419232616338104,
          0.01631386103988912,
          0.04400388300806231,
          0.10899750733794428,
          0.00353360729205806,
          0.006768662408776561,
          0.0066959331254775965,
          0.001782056830894745,
          0.09317353148203109,
          0.17820055615459593,
          0.10986642781347052,
          0.1214102290413925,
          0.029713188967209217,
          0.9184333811776145,
          0.0012610138632686574,
          0.1995969919644443,
          0.0010318798500663874,
          0.017814188485913648,
          0.0621874392387998,
          0.3705528324994425,
          0.4810425867385717,
          0.08910219703576074,
          0.13507134874923207,
          0.5650372564245785,
          0.5342380768247287,
          0.0011031219842621198,
          1.751892492636807,
          0.6354319335757278,
          0.32998666014130396,
          0.10458858226516586,
          0.12602033670073892,
          0.9607744403499684,
          0.02336206581323703,
          0.34387882502846767,
          0.32436741247727574,
          0.07697723613609682,
          0.02016929071847641,
          0.02666090167813329,
          0.567010912819004,
          0.000026627661098530128,
          0.8908820990894425,
          0.7595061843509331,
          0.00007397750954471497,
          0.00024315470576650997,
          0.008917142988699878,
          0.0015134749057039497,
          0.0005190593251702021,
          0.5213204910935395,
          0.5077900134554391,
          0.16500471153974883,
          0.025440814286183777,
          0.052364303105431886,
          0.15133656795382155,
          0.44400868603544363,
          0.143484560308812,
          0.07645969775887308,
          0.24565980609996318,
          3.8746188316427546,
          0.009428888943476012,
          0.11412769746927001,
          0.16125103065543572,
          0.0070984237366917835,
          0.0014387153608549463,
          0.025477464318477368,
          0.00003590019892406171,
          0.010438607241663001,
          0.03792537083449247,
          0.03854914946536423,
          0.034122077910189695,
          0.016863725387340243,
          0.008352486693023369,
          0.04494915040859322,
          0.09561449288749,
          0.11834171967136692,
          0.26656984908858616,
          0.027136333133367222,
          0.11873156552599957,
          0.03091737695390493,
          0.44377784809435045,
          0.040025931647543644,
          0.15278134122877593,
          0.13370050379658882,
          0.045381027365802,
          0.04734484505190577,
          0.06775254232140994,
          0.002143282550926093,
          0.10106920195516367,
          0.06976904156520963,
          0.009564174058254061,
          0.0456591111007055,
          0.06435612513526673,
          0.008211132937664923,
          0.00027618433396856717,
          0.016947595468662608,
          0.023520694476356074,
          0.07783742718624428,
          0.04712113750126203,
          0.11213755499609525,
          0.0027275118732795847,
          0.008952476765630067,
          0.0014682811903619886,
          0.0011533027772002847,
          0.10047637540936799,
          0.06579779438007217,
          0.04425703750952307,
          0.22671936090431785,
          0.017380956078542585,
          0.03937395297122623,
          0.039878391538392136,
          0.006415558914735566,
          0.007211678998531415,
          2.5670889138851902,
          0.04730365475127355,
          0.03020261359612188,
          0.6004143028670037,
          0.042230722879217066,
          0.07265084667307092,
          0.024037981319030503,
          0.00004491516625443806,
          0.000020158096308494917,
          0.00002190165042953397,
          0.00011197323675061486,
          0.06432541005307758,
          0.0005969295290760605,
          0.0025301324560544954,
          0.0029348887552441577,
          0.024488884283053253,
          0.0051651287370024146,
          0.000030612428170612814,
          0.11134002008413303,
          0.05795725760036182,
          0.04851566611920856,
          0.3620360787662886,
          0.12044955657793917,
          0.006828595916209958,
          0.028711398245981668,
          2.169553697164057,
          0.01303480245055368,
          0.26407532262648564,
          0.3294675437077433,
          0.6272573873031484,
          0.09193490139854743,
          0.11760600045551269,
          0.06176607900534093,
          0.813238106179581,
          0.41319700669097564,
          0.47796184781633855,
          0.18886542101135242,
          1.5286938410015594,
          0.3881226891474626,
          1.1613816482714292,
          1.3334630229201991,
          0.690468986270024,
          0.5816933345392086,
          3.6381362881280417,
          3.300226737411744,
          1.3001981536036107,
          0.1262068095808886,
          0.024412722668947846,
          0.9742793905375925,
          0.42383172647598033,
          0.413205306055211,
          0.8033739102790447,
          0.4063275841030679,
          0.04754116075839718,
          0.06865039810319494,
          0.13489188854631923,
          0,
          0.01154717550159867,
          0.007853452599743335,
          0.026459431435396974,
          0.010855442548145758,
          0.03639458043174553,
          0.006216454576714235,
          0.5119398715601419,
          0.08741771979629918,
          0.011266322265351434,
          0.06594122268512012,
          0.2862284247950673,
          0.233958199021621,
          0.06602652746906484,
          0.06643946891570908,
          0.03046820151357784,
          0.15446272966278873,
          0.015717248811000204,
          0.09609481873828947,
          0.00814631258368773,
          0.0027775714565729756,
          0.2411510485680271,
          0.0000915342603998934,
          0.0027885770592233636,
          0.0009071201612690321,
          0.00009996066166668472,
          0.0009048125161088258,
          0.19305742743907203,
          0.12251916114700041,
          0.2992257373355868,
          0.44965003231557404,
          0.18822372316616842,
          0.013066935826670775,
          0.13402700644982332,
          0.037201882119584986,
          0.006879775523240194,
          2.264875804416886,
          0.07550392474547651,
          0.08215498116545238,
          0.007744501445770696,
          0.0015754456675515067,
          0.09088971591921191,
          1.2166446506801052,
          0.05183574164339753,
          0.11489803829936303,
          0.04441567529403591,
          0.2340384083385757,
          0.058145774727789895,
          0.001630002827952575,
          0.13495993261065653,
          0.021799940386360232,
          0.039162254654631405,
          0.2303886693865692,
          0.08013162899660123,
          0.03257783207139496,
          0.41021733796485016,
          0.3831657496301404,
          2.693750769346315,
          1.674760152443533,
          0.694561635753346,
          0.4898485851449197,
          0.8235958013214452,
          0.27572957169804024,
          1.285098520165429,
          0.006887785849091755,
          0.6472181916052199,
          0.09792965304566621,
          0.9340709070907895,
          0.028269791883824724,
          0.09776544040674674,
          0.06327408020780416,
          0.21619763321636623,
          0.024818135131887624,
          0.06384406047355179,
          0.027203268219421515,
          0.012746730247578015
         ],
         "y0": " ",
         "yaxis": "y"
        }
       ],
       "layout": {
        "boxmode": "group",
        "legend": {
         "tracegroupgap": 0
        },
        "template": {
         "data": {
          "bar": [
           {
            "error_x": {
             "color": "#2a3f5f"
            },
            "error_y": {
             "color": "#2a3f5f"
            },
            "marker": {
             "line": {
              "color": "#E5ECF6",
              "width": 0.5
             },
             "pattern": {
              "fillmode": "overlay",
              "size": 10,
              "solidity": 0.2
             }
            },
            "type": "bar"
           }
          ],
          "barpolar": [
           {
            "marker": {
             "line": {
              "color": "#E5ECF6",
              "width": 0.5
             },
             "pattern": {
              "fillmode": "overlay",
              "size": 10,
              "solidity": 0.2
             }
            },
            "type": "barpolar"
           }
          ],
          "carpet": [
           {
            "aaxis": {
             "endlinecolor": "#2a3f5f",
             "gridcolor": "white",
             "linecolor": "white",
             "minorgridcolor": "white",
             "startlinecolor": "#2a3f5f"
            },
            "baxis": {
             "endlinecolor": "#2a3f5f",
             "gridcolor": "white",
             "linecolor": "white",
             "minorgridcolor": "white",
             "startlinecolor": "#2a3f5f"
            },
            "type": "carpet"
           }
          ],
          "choropleth": [
           {
            "colorbar": {
             "outlinewidth": 0,
             "ticks": ""
            },
            "type": "choropleth"
           }
          ],
          "contour": [
           {
            "colorbar": {
             "outlinewidth": 0,
             "ticks": ""
            },
            "colorscale": [
             [
              0,
              "#0d0887"
             ],
             [
              0.1111111111111111,
              "#46039f"
             ],
             [
              0.2222222222222222,
              "#7201a8"
             ],
             [
              0.3333333333333333,
              "#9c179e"
             ],
             [
              0.4444444444444444,
              "#bd3786"
             ],
             [
              0.5555555555555556,
              "#d8576b"
             ],
             [
              0.6666666666666666,
              "#ed7953"
             ],
             [
              0.7777777777777778,
              "#fb9f3a"
             ],
             [
              0.8888888888888888,
              "#fdca26"
             ],
             [
              1,
              "#f0f921"
             ]
            ],
            "type": "contour"
           }
          ],
          "contourcarpet": [
           {
            "colorbar": {
             "outlinewidth": 0,
             "ticks": ""
            },
            "type": "contourcarpet"
           }
          ],
          "heatmap": [
           {
            "colorbar": {
             "outlinewidth": 0,
             "ticks": ""
            },
            "colorscale": [
             [
              0,
              "#0d0887"
             ],
             [
              0.1111111111111111,
              "#46039f"
             ],
             [
              0.2222222222222222,
              "#7201a8"
             ],
             [
              0.3333333333333333,
              "#9c179e"
             ],
             [
              0.4444444444444444,
              "#bd3786"
             ],
             [
              0.5555555555555556,
              "#d8576b"
             ],
             [
              0.6666666666666666,
              "#ed7953"
             ],
             [
              0.7777777777777778,
              "#fb9f3a"
             ],
             [
              0.8888888888888888,
              "#fdca26"
             ],
             [
              1,
              "#f0f921"
             ]
            ],
            "type": "heatmap"
           }
          ],
          "heatmapgl": [
           {
            "colorbar": {
             "outlinewidth": 0,
             "ticks": ""
            },
            "colorscale": [
             [
              0,
              "#0d0887"
             ],
             [
              0.1111111111111111,
              "#46039f"
             ],
             [
              0.2222222222222222,
              "#7201a8"
             ],
             [
              0.3333333333333333,
              "#9c179e"
             ],
             [
              0.4444444444444444,
              "#bd3786"
             ],
             [
              0.5555555555555556,
              "#d8576b"
             ],
             [
              0.6666666666666666,
              "#ed7953"
             ],
             [
              0.7777777777777778,
              "#fb9f3a"
             ],
             [
              0.8888888888888888,
              "#fdca26"
             ],
             [
              1,
              "#f0f921"
             ]
            ],
            "type": "heatmapgl"
           }
          ],
          "histogram": [
           {
            "marker": {
             "pattern": {
              "fillmode": "overlay",
              "size": 10,
              "solidity": 0.2
             }
            },
            "type": "histogram"
           }
          ],
          "histogram2d": [
           {
            "colorbar": {
             "outlinewidth": 0,
             "ticks": ""
            },
            "colorscale": [
             [
              0,
              "#0d0887"
             ],
             [
              0.1111111111111111,
              "#46039f"
             ],
             [
              0.2222222222222222,
              "#7201a8"
             ],
             [
              0.3333333333333333,
              "#9c179e"
             ],
             [
              0.4444444444444444,
              "#bd3786"
             ],
             [
              0.5555555555555556,
              "#d8576b"
             ],
             [
              0.6666666666666666,
              "#ed7953"
             ],
             [
              0.7777777777777778,
              "#fb9f3a"
             ],
             [
              0.8888888888888888,
              "#fdca26"
             ],
             [
              1,
              "#f0f921"
             ]
            ],
            "type": "histogram2d"
           }
          ],
          "histogram2dcontour": [
           {
            "colorbar": {
             "outlinewidth": 0,
             "ticks": ""
            },
            "colorscale": [
             [
              0,
              "#0d0887"
             ],
             [
              0.1111111111111111,
              "#46039f"
             ],
             [
              0.2222222222222222,
              "#7201a8"
             ],
             [
              0.3333333333333333,
              "#9c179e"
             ],
             [
              0.4444444444444444,
              "#bd3786"
             ],
             [
              0.5555555555555556,
              "#d8576b"
             ],
             [
              0.6666666666666666,
              "#ed7953"
             ],
             [
              0.7777777777777778,
              "#fb9f3a"
             ],
             [
              0.8888888888888888,
              "#fdca26"
             ],
             [
              1,
              "#f0f921"
             ]
            ],
            "type": "histogram2dcontour"
           }
          ],
          "mesh3d": [
           {
            "colorbar": {
             "outlinewidth": 0,
             "ticks": ""
            },
            "type": "mesh3d"
           }
          ],
          "parcoords": [
           {
            "line": {
             "colorbar": {
              "outlinewidth": 0,
              "ticks": ""
             }
            },
            "type": "parcoords"
           }
          ],
          "pie": [
           {
            "automargin": true,
            "type": "pie"
           }
          ],
          "scatter": [
           {
            "fillpattern": {
             "fillmode": "overlay",
             "size": 10,
             "solidity": 0.2
            },
            "type": "scatter"
           }
          ],
          "scatter3d": [
           {
            "line": {
             "colorbar": {
              "outlinewidth": 0,
              "ticks": ""
             }
            },
            "marker": {
             "colorbar": {
              "outlinewidth": 0,
              "ticks": ""
             }
            },
            "type": "scatter3d"
           }
          ],
          "scattercarpet": [
           {
            "marker": {
             "colorbar": {
              "outlinewidth": 0,
              "ticks": ""
             }
            },
            "type": "scattercarpet"
           }
          ],
          "scattergeo": [
           {
            "marker": {
             "colorbar": {
              "outlinewidth": 0,
              "ticks": ""
             }
            },
            "type": "scattergeo"
           }
          ],
          "scattergl": [
           {
            "marker": {
             "colorbar": {
              "outlinewidth": 0,
              "ticks": ""
             }
            },
            "type": "scattergl"
           }
          ],
          "scattermapbox": [
           {
            "marker": {
             "colorbar": {
              "outlinewidth": 0,
              "ticks": ""
             }
            },
            "type": "scattermapbox"
           }
          ],
          "scatterpolar": [
           {
            "marker": {
             "colorbar": {
              "outlinewidth": 0,
              "ticks": ""
             }
            },
            "type": "scatterpolar"
           }
          ],
          "scatterpolargl": [
           {
            "marker": {
             "colorbar": {
              "outlinewidth": 0,
              "ticks": ""
             }
            },
            "type": "scatterpolargl"
           }
          ],
          "scatterternary": [
           {
            "marker": {
             "colorbar": {
              "outlinewidth": 0,
              "ticks": ""
             }
            },
            "type": "scatterternary"
           }
          ],
          "surface": [
           {
            "colorbar": {
             "outlinewidth": 0,
             "ticks": ""
            },
            "colorscale": [
             [
              0,
              "#0d0887"
             ],
             [
              0.1111111111111111,
              "#46039f"
             ],
             [
              0.2222222222222222,
              "#7201a8"
             ],
             [
              0.3333333333333333,
              "#9c179e"
             ],
             [
              0.4444444444444444,
              "#bd3786"
             ],
             [
              0.5555555555555556,
              "#d8576b"
             ],
             [
              0.6666666666666666,
              "#ed7953"
             ],
             [
              0.7777777777777778,
              "#fb9f3a"
             ],
             [
              0.8888888888888888,
              "#fdca26"
             ],
             [
              1,
              "#f0f921"
             ]
            ],
            "type": "surface"
           }
          ],
          "table": [
           {
            "cells": {
             "fill": {
              "color": "#EBF0F8"
             },
             "line": {
              "color": "white"
             }
            },
            "header": {
             "fill": {
              "color": "#C8D4E3"
             },
             "line": {
              "color": "white"
             }
            },
            "type": "table"
           }
          ]
         },
         "layout": {
          "annotationdefaults": {
           "arrowcolor": "#2a3f5f",
           "arrowhead": 0,
           "arrowwidth": 1
          },
          "autotypenumbers": "strict",
          "coloraxis": {
           "colorbar": {
            "outlinewidth": 0,
            "ticks": ""
           }
          },
          "colorscale": {
           "diverging": [
            [
             0,
             "#8e0152"
            ],
            [
             0.1,
             "#c51b7d"
            ],
            [
             0.2,
             "#de77ae"
            ],
            [
             0.3,
             "#f1b6da"
            ],
            [
             0.4,
             "#fde0ef"
            ],
            [
             0.5,
             "#f7f7f7"
            ],
            [
             0.6,
             "#e6f5d0"
            ],
            [
             0.7,
             "#b8e186"
            ],
            [
             0.8,
             "#7fbc41"
            ],
            [
             0.9,
             "#4d9221"
            ],
            [
             1,
             "#276419"
            ]
           ],
           "sequential": [
            [
             0,
             "#0d0887"
            ],
            [
             0.1111111111111111,
             "#46039f"
            ],
            [
             0.2222222222222222,
             "#7201a8"
            ],
            [
             0.3333333333333333,
             "#9c179e"
            ],
            [
             0.4444444444444444,
             "#bd3786"
            ],
            [
             0.5555555555555556,
             "#d8576b"
            ],
            [
             0.6666666666666666,
             "#ed7953"
            ],
            [
             0.7777777777777778,
             "#fb9f3a"
            ],
            [
             0.8888888888888888,
             "#fdca26"
            ],
            [
             1,
             "#f0f921"
            ]
           ],
           "sequentialminus": [
            [
             0,
             "#0d0887"
            ],
            [
             0.1111111111111111,
             "#46039f"
            ],
            [
             0.2222222222222222,
             "#7201a8"
            ],
            [
             0.3333333333333333,
             "#9c179e"
            ],
            [
             0.4444444444444444,
             "#bd3786"
            ],
            [
             0.5555555555555556,
             "#d8576b"
            ],
            [
             0.6666666666666666,
             "#ed7953"
            ],
            [
             0.7777777777777778,
             "#fb9f3a"
            ],
            [
             0.8888888888888888,
             "#fdca26"
            ],
            [
             1,
             "#f0f921"
            ]
           ]
          },
          "colorway": [
           "#636efa",
           "#EF553B",
           "#00cc96",
           "#ab63fa",
           "#FFA15A",
           "#19d3f3",
           "#FF6692",
           "#B6E880",
           "#FF97FF",
           "#FECB52"
          ],
          "font": {
           "color": "#2a3f5f"
          },
          "geo": {
           "bgcolor": "white",
           "lakecolor": "white",
           "landcolor": "#E5ECF6",
           "showlakes": true,
           "showland": true,
           "subunitcolor": "white"
          },
          "hoverlabel": {
           "align": "left"
          },
          "hovermode": "closest",
          "mapbox": {
           "style": "light"
          },
          "paper_bgcolor": "white",
          "plot_bgcolor": "#E5ECF6",
          "polar": {
           "angularaxis": {
            "gridcolor": "white",
            "linecolor": "white",
            "ticks": ""
           },
           "bgcolor": "#E5ECF6",
           "radialaxis": {
            "gridcolor": "white",
            "linecolor": "white",
            "ticks": ""
           }
          },
          "scene": {
           "xaxis": {
            "backgroundcolor": "#E5ECF6",
            "gridcolor": "white",
            "gridwidth": 2,
            "linecolor": "white",
            "showbackground": true,
            "ticks": "",
            "zerolinecolor": "white"
           },
           "yaxis": {
            "backgroundcolor": "#E5ECF6",
            "gridcolor": "white",
            "gridwidth": 2,
            "linecolor": "white",
            "showbackground": true,
            "ticks": "",
            "zerolinecolor": "white"
           },
           "zaxis": {
            "backgroundcolor": "#E5ECF6",
            "gridcolor": "white",
            "gridwidth": 2,
            "linecolor": "white",
            "showbackground": true,
            "ticks": "",
            "zerolinecolor": "white"
           }
          },
          "shapedefaults": {
           "line": {
            "color": "#2a3f5f"
           }
          },
          "ternary": {
           "aaxis": {
            "gridcolor": "white",
            "linecolor": "white",
            "ticks": ""
           },
           "baxis": {
            "gridcolor": "white",
            "linecolor": "white",
            "ticks": ""
           },
           "bgcolor": "#E5ECF6",
           "caxis": {
            "gridcolor": "white",
            "linecolor": "white",
            "ticks": ""
           }
          },
          "title": {
           "x": 0.05
          },
          "xaxis": {
           "automargin": true,
           "gridcolor": "white",
           "linecolor": "white",
           "ticks": "",
           "title": {
            "standoff": 15
           },
           "zerolinecolor": "white",
           "zerolinewidth": 2
          },
          "yaxis": {
           "automargin": true,
           "gridcolor": "white",
           "linecolor": "white",
           "ticks": "",
           "title": {
            "standoff": 15
           },
           "zerolinecolor": "white",
           "zerolinewidth": 2
          }
         }
        },
        "title": {
         "text": "Variance Distribution by SKU"
        },
        "xaxis": {
         "anchor": "y",
         "domain": [
          0,
          1
         ],
         "tickangle": -45,
         "title": {
          "text": "SKU"
         }
        },
        "yaxis": {
         "anchor": "x",
         "domain": [
          0,
          1
         ],
         "title": {
          "text": "Variance"
         }
        }
       }
      }
     },
     "metadata": {},
     "output_type": "display_data"
    }
   ],
   "source": [
    "plotly_boxplot_variance(sku_variance, 'SKU', 'SKU_Variance', 'Variance Distribution by SKU', 'SKU')"
   ]
  },
  {
   "cell_type": "code",
   "execution_count": 118,
   "metadata": {},
   "outputs": [
    {
     "data": {
      "application/vnd.plotly.v1+json": {
       "config": {
        "plotlyServerURL": "https://plot.ly"
       },
       "data": [
        {
         "alignmentgroup": "True",
         "hovertemplate": "CATEGORY=%{x}<br>Category_Variance=%{y}<extra></extra>",
         "legendgroup": "",
         "marker": {
          "color": "#636efa"
         },
         "name": "",
         "notched": false,
         "offsetgroup": "",
         "orientation": "v",
         "showlegend": false,
         "type": "box",
         "x": [
          "Category1",
          "Category10",
          "Category11",
          "Category112",
          "Category115",
          "Category12",
          "Category120",
          "Category14",
          "Category15",
          "Category16",
          "Category18",
          "Category19",
          "Category2",
          "Category20",
          "Category21",
          "Category22",
          "Category23",
          "Category24",
          "Category27",
          "Category28",
          "Category3",
          "Category30",
          "Category31",
          "Category33",
          "Category34",
          "Category35",
          "Category39",
          "Category4",
          "Category42",
          "Category45",
          "Category5",
          "Category51",
          "Category55",
          "Category58",
          "Category6",
          "Category67",
          "Category69",
          "Category70",
          "Category89",
          "Category9",
          "Category90",
          "Category94",
          "Category99"
         ],
         "x0": " ",
         "xaxis": "x",
         "y": [
          0.03943191522945076,
          0.6649507279336613,
          0.2475033689341031,
          3.685414745773727,
          0.07885511461971842,
          0.1870143350359084,
          0.24953004531714826,
          0.16984433295342352,
          0.6274872001345914,
          0.08781438306542749,
          0.22580540040071226,
          0.43602297701669895,
          0.7460178915125814,
          0.066058829337723,
          0.033480329152025805,
          0.5564228927501946,
          0.7710855767857977,
          1.5246872192501146,
          0.1316907814539574,
          0.22805192518264644,
          1.3295210519812921,
          0.07896548914487567,
          0.4858247258308733,
          0.028387852773486686,
          0.8532602201996273,
          0.00036699807935972354,
          0.07336256656649205,
          0.16500471153974883,
          0.07254171736859169,
          0.005786267091387882,
          1.4879103239806313,
          0.04494915040859322,
          0.4773619347830549,
          0.7396972659379676,
          0.0026006512847314184,
          0.4843501099333757,
          0.2308990077457344,
          0.3233038151092979,
          0.47996042902467323,
          0.20681205717545995,
          0.42066202433638966,
          0.576175317169612,
          1.6412742898339787
         ],
         "y0": " ",
         "yaxis": "y"
        }
       ],
       "layout": {
        "boxmode": "group",
        "legend": {
         "tracegroupgap": 0
        },
        "template": {
         "data": {
          "bar": [
           {
            "error_x": {
             "color": "#2a3f5f"
            },
            "error_y": {
             "color": "#2a3f5f"
            },
            "marker": {
             "line": {
              "color": "#E5ECF6",
              "width": 0.5
             },
             "pattern": {
              "fillmode": "overlay",
              "size": 10,
              "solidity": 0.2
             }
            },
            "type": "bar"
           }
          ],
          "barpolar": [
           {
            "marker": {
             "line": {
              "color": "#E5ECF6",
              "width": 0.5
             },
             "pattern": {
              "fillmode": "overlay",
              "size": 10,
              "solidity": 0.2
             }
            },
            "type": "barpolar"
           }
          ],
          "carpet": [
           {
            "aaxis": {
             "endlinecolor": "#2a3f5f",
             "gridcolor": "white",
             "linecolor": "white",
             "minorgridcolor": "white",
             "startlinecolor": "#2a3f5f"
            },
            "baxis": {
             "endlinecolor": "#2a3f5f",
             "gridcolor": "white",
             "linecolor": "white",
             "minorgridcolor": "white",
             "startlinecolor": "#2a3f5f"
            },
            "type": "carpet"
           }
          ],
          "choropleth": [
           {
            "colorbar": {
             "outlinewidth": 0,
             "ticks": ""
            },
            "type": "choropleth"
           }
          ],
          "contour": [
           {
            "colorbar": {
             "outlinewidth": 0,
             "ticks": ""
            },
            "colorscale": [
             [
              0,
              "#0d0887"
             ],
             [
              0.1111111111111111,
              "#46039f"
             ],
             [
              0.2222222222222222,
              "#7201a8"
             ],
             [
              0.3333333333333333,
              "#9c179e"
             ],
             [
              0.4444444444444444,
              "#bd3786"
             ],
             [
              0.5555555555555556,
              "#d8576b"
             ],
             [
              0.6666666666666666,
              "#ed7953"
             ],
             [
              0.7777777777777778,
              "#fb9f3a"
             ],
             [
              0.8888888888888888,
              "#fdca26"
             ],
             [
              1,
              "#f0f921"
             ]
            ],
            "type": "contour"
           }
          ],
          "contourcarpet": [
           {
            "colorbar": {
             "outlinewidth": 0,
             "ticks": ""
            },
            "type": "contourcarpet"
           }
          ],
          "heatmap": [
           {
            "colorbar": {
             "outlinewidth": 0,
             "ticks": ""
            },
            "colorscale": [
             [
              0,
              "#0d0887"
             ],
             [
              0.1111111111111111,
              "#46039f"
             ],
             [
              0.2222222222222222,
              "#7201a8"
             ],
             [
              0.3333333333333333,
              "#9c179e"
             ],
             [
              0.4444444444444444,
              "#bd3786"
             ],
             [
              0.5555555555555556,
              "#d8576b"
             ],
             [
              0.6666666666666666,
              "#ed7953"
             ],
             [
              0.7777777777777778,
              "#fb9f3a"
             ],
             [
              0.8888888888888888,
              "#fdca26"
             ],
             [
              1,
              "#f0f921"
             ]
            ],
            "type": "heatmap"
           }
          ],
          "heatmapgl": [
           {
            "colorbar": {
             "outlinewidth": 0,
             "ticks": ""
            },
            "colorscale": [
             [
              0,
              "#0d0887"
             ],
             [
              0.1111111111111111,
              "#46039f"
             ],
             [
              0.2222222222222222,
              "#7201a8"
             ],
             [
              0.3333333333333333,
              "#9c179e"
             ],
             [
              0.4444444444444444,
              "#bd3786"
             ],
             [
              0.5555555555555556,
              "#d8576b"
             ],
             [
              0.6666666666666666,
              "#ed7953"
             ],
             [
              0.7777777777777778,
              "#fb9f3a"
             ],
             [
              0.8888888888888888,
              "#fdca26"
             ],
             [
              1,
              "#f0f921"
             ]
            ],
            "type": "heatmapgl"
           }
          ],
          "histogram": [
           {
            "marker": {
             "pattern": {
              "fillmode": "overlay",
              "size": 10,
              "solidity": 0.2
             }
            },
            "type": "histogram"
           }
          ],
          "histogram2d": [
           {
            "colorbar": {
             "outlinewidth": 0,
             "ticks": ""
            },
            "colorscale": [
             [
              0,
              "#0d0887"
             ],
             [
              0.1111111111111111,
              "#46039f"
             ],
             [
              0.2222222222222222,
              "#7201a8"
             ],
             [
              0.3333333333333333,
              "#9c179e"
             ],
             [
              0.4444444444444444,
              "#bd3786"
             ],
             [
              0.5555555555555556,
              "#d8576b"
             ],
             [
              0.6666666666666666,
              "#ed7953"
             ],
             [
              0.7777777777777778,
              "#fb9f3a"
             ],
             [
              0.8888888888888888,
              "#fdca26"
             ],
             [
              1,
              "#f0f921"
             ]
            ],
            "type": "histogram2d"
           }
          ],
          "histogram2dcontour": [
           {
            "colorbar": {
             "outlinewidth": 0,
             "ticks": ""
            },
            "colorscale": [
             [
              0,
              "#0d0887"
             ],
             [
              0.1111111111111111,
              "#46039f"
             ],
             [
              0.2222222222222222,
              "#7201a8"
             ],
             [
              0.3333333333333333,
              "#9c179e"
             ],
             [
              0.4444444444444444,
              "#bd3786"
             ],
             [
              0.5555555555555556,
              "#d8576b"
             ],
             [
              0.6666666666666666,
              "#ed7953"
             ],
             [
              0.7777777777777778,
              "#fb9f3a"
             ],
             [
              0.8888888888888888,
              "#fdca26"
             ],
             [
              1,
              "#f0f921"
             ]
            ],
            "type": "histogram2dcontour"
           }
          ],
          "mesh3d": [
           {
            "colorbar": {
             "outlinewidth": 0,
             "ticks": ""
            },
            "type": "mesh3d"
           }
          ],
          "parcoords": [
           {
            "line": {
             "colorbar": {
              "outlinewidth": 0,
              "ticks": ""
             }
            },
            "type": "parcoords"
           }
          ],
          "pie": [
           {
            "automargin": true,
            "type": "pie"
           }
          ],
          "scatter": [
           {
            "fillpattern": {
             "fillmode": "overlay",
             "size": 10,
             "solidity": 0.2
            },
            "type": "scatter"
           }
          ],
          "scatter3d": [
           {
            "line": {
             "colorbar": {
              "outlinewidth": 0,
              "ticks": ""
             }
            },
            "marker": {
             "colorbar": {
              "outlinewidth": 0,
              "ticks": ""
             }
            },
            "type": "scatter3d"
           }
          ],
          "scattercarpet": [
           {
            "marker": {
             "colorbar": {
              "outlinewidth": 0,
              "ticks": ""
             }
            },
            "type": "scattercarpet"
           }
          ],
          "scattergeo": [
           {
            "marker": {
             "colorbar": {
              "outlinewidth": 0,
              "ticks": ""
             }
            },
            "type": "scattergeo"
           }
          ],
          "scattergl": [
           {
            "marker": {
             "colorbar": {
              "outlinewidth": 0,
              "ticks": ""
             }
            },
            "type": "scattergl"
           }
          ],
          "scattermapbox": [
           {
            "marker": {
             "colorbar": {
              "outlinewidth": 0,
              "ticks": ""
             }
            },
            "type": "scattermapbox"
           }
          ],
          "scatterpolar": [
           {
            "marker": {
             "colorbar": {
              "outlinewidth": 0,
              "ticks": ""
             }
            },
            "type": "scatterpolar"
           }
          ],
          "scatterpolargl": [
           {
            "marker": {
             "colorbar": {
              "outlinewidth": 0,
              "ticks": ""
             }
            },
            "type": "scatterpolargl"
           }
          ],
          "scatterternary": [
           {
            "marker": {
             "colorbar": {
              "outlinewidth": 0,
              "ticks": ""
             }
            },
            "type": "scatterternary"
           }
          ],
          "surface": [
           {
            "colorbar": {
             "outlinewidth": 0,
             "ticks": ""
            },
            "colorscale": [
             [
              0,
              "#0d0887"
             ],
             [
              0.1111111111111111,
              "#46039f"
             ],
             [
              0.2222222222222222,
              "#7201a8"
             ],
             [
              0.3333333333333333,
              "#9c179e"
             ],
             [
              0.4444444444444444,
              "#bd3786"
             ],
             [
              0.5555555555555556,
              "#d8576b"
             ],
             [
              0.6666666666666666,
              "#ed7953"
             ],
             [
              0.7777777777777778,
              "#fb9f3a"
             ],
             [
              0.8888888888888888,
              "#fdca26"
             ],
             [
              1,
              "#f0f921"
             ]
            ],
            "type": "surface"
           }
          ],
          "table": [
           {
            "cells": {
             "fill": {
              "color": "#EBF0F8"
             },
             "line": {
              "color": "white"
             }
            },
            "header": {
             "fill": {
              "color": "#C8D4E3"
             },
             "line": {
              "color": "white"
             }
            },
            "type": "table"
           }
          ]
         },
         "layout": {
          "annotationdefaults": {
           "arrowcolor": "#2a3f5f",
           "arrowhead": 0,
           "arrowwidth": 1
          },
          "autotypenumbers": "strict",
          "coloraxis": {
           "colorbar": {
            "outlinewidth": 0,
            "ticks": ""
           }
          },
          "colorscale": {
           "diverging": [
            [
             0,
             "#8e0152"
            ],
            [
             0.1,
             "#c51b7d"
            ],
            [
             0.2,
             "#de77ae"
            ],
            [
             0.3,
             "#f1b6da"
            ],
            [
             0.4,
             "#fde0ef"
            ],
            [
             0.5,
             "#f7f7f7"
            ],
            [
             0.6,
             "#e6f5d0"
            ],
            [
             0.7,
             "#b8e186"
            ],
            [
             0.8,
             "#7fbc41"
            ],
            [
             0.9,
             "#4d9221"
            ],
            [
             1,
             "#276419"
            ]
           ],
           "sequential": [
            [
             0,
             "#0d0887"
            ],
            [
             0.1111111111111111,
             "#46039f"
            ],
            [
             0.2222222222222222,
             "#7201a8"
            ],
            [
             0.3333333333333333,
             "#9c179e"
            ],
            [
             0.4444444444444444,
             "#bd3786"
            ],
            [
             0.5555555555555556,
             "#d8576b"
            ],
            [
             0.6666666666666666,
             "#ed7953"
            ],
            [
             0.7777777777777778,
             "#fb9f3a"
            ],
            [
             0.8888888888888888,
             "#fdca26"
            ],
            [
             1,
             "#f0f921"
            ]
           ],
           "sequentialminus": [
            [
             0,
             "#0d0887"
            ],
            [
             0.1111111111111111,
             "#46039f"
            ],
            [
             0.2222222222222222,
             "#7201a8"
            ],
            [
             0.3333333333333333,
             "#9c179e"
            ],
            [
             0.4444444444444444,
             "#bd3786"
            ],
            [
             0.5555555555555556,
             "#d8576b"
            ],
            [
             0.6666666666666666,
             "#ed7953"
            ],
            [
             0.7777777777777778,
             "#fb9f3a"
            ],
            [
             0.8888888888888888,
             "#fdca26"
            ],
            [
             1,
             "#f0f921"
            ]
           ]
          },
          "colorway": [
           "#636efa",
           "#EF553B",
           "#00cc96",
           "#ab63fa",
           "#FFA15A",
           "#19d3f3",
           "#FF6692",
           "#B6E880",
           "#FF97FF",
           "#FECB52"
          ],
          "font": {
           "color": "#2a3f5f"
          },
          "geo": {
           "bgcolor": "white",
           "lakecolor": "white",
           "landcolor": "#E5ECF6",
           "showlakes": true,
           "showland": true,
           "subunitcolor": "white"
          },
          "hoverlabel": {
           "align": "left"
          },
          "hovermode": "closest",
          "mapbox": {
           "style": "light"
          },
          "paper_bgcolor": "white",
          "plot_bgcolor": "#E5ECF6",
          "polar": {
           "angularaxis": {
            "gridcolor": "white",
            "linecolor": "white",
            "ticks": ""
           },
           "bgcolor": "#E5ECF6",
           "radialaxis": {
            "gridcolor": "white",
            "linecolor": "white",
            "ticks": ""
           }
          },
          "scene": {
           "xaxis": {
            "backgroundcolor": "#E5ECF6",
            "gridcolor": "white",
            "gridwidth": 2,
            "linecolor": "white",
            "showbackground": true,
            "ticks": "",
            "zerolinecolor": "white"
           },
           "yaxis": {
            "backgroundcolor": "#E5ECF6",
            "gridcolor": "white",
            "gridwidth": 2,
            "linecolor": "white",
            "showbackground": true,
            "ticks": "",
            "zerolinecolor": "white"
           },
           "zaxis": {
            "backgroundcolor": "#E5ECF6",
            "gridcolor": "white",
            "gridwidth": 2,
            "linecolor": "white",
            "showbackground": true,
            "ticks": "",
            "zerolinecolor": "white"
           }
          },
          "shapedefaults": {
           "line": {
            "color": "#2a3f5f"
           }
          },
          "ternary": {
           "aaxis": {
            "gridcolor": "white",
            "linecolor": "white",
            "ticks": ""
           },
           "baxis": {
            "gridcolor": "white",
            "linecolor": "white",
            "ticks": ""
           },
           "bgcolor": "#E5ECF6",
           "caxis": {
            "gridcolor": "white",
            "linecolor": "white",
            "ticks": ""
           }
          },
          "title": {
           "x": 0.05
          },
          "xaxis": {
           "automargin": true,
           "gridcolor": "white",
           "linecolor": "white",
           "ticks": "",
           "title": {
            "standoff": 15
           },
           "zerolinecolor": "white",
           "zerolinewidth": 2
          },
          "yaxis": {
           "automargin": true,
           "gridcolor": "white",
           "linecolor": "white",
           "ticks": "",
           "title": {
            "standoff": 15
           },
           "zerolinecolor": "white",
           "zerolinewidth": 2
          }
         }
        },
        "title": {
         "text": "Variance Distribution by Category"
        },
        "xaxis": {
         "anchor": "y",
         "domain": [
          0,
          1
         ],
         "tickangle": -45,
         "title": {
          "text": "Category"
         }
        },
        "yaxis": {
         "anchor": "x",
         "domain": [
          0,
          1
         ],
         "title": {
          "text": "Variance"
         }
        }
       }
      }
     },
     "metadata": {},
     "output_type": "display_data"
    }
   ],
   "source": [
    "# Variance at CATEGORY level\n",
    "category_variance = df.groupby('CATEGORY')['Units_Sold_Normalized'].var().reset_index().rename(columns={'Units_Sold_Normalized': 'Category_Variance'})\n",
    "plotly_boxplot_variance(category_variance, 'CATEGORY', 'Category_Variance', 'Variance Distribution by Category', 'Category')"
   ]
  },
  {
   "cell_type": "code",
   "execution_count": 121,
   "metadata": {},
   "outputs": [
    {
     "data": {
      "application/vnd.plotly.v1+json": {
       "config": {
        "plotlyServerURL": "https://plot.ly"
       },
       "data": [
        {
         "alignmentgroup": "True",
         "hovertemplate": "DEPARTMENT=%{x}<br>Department_Variance=%{y}<extra></extra>",
         "legendgroup": "",
         "marker": {
          "color": "#636efa"
         },
         "name": "",
         "notched": false,
         "offsetgroup": "",
         "orientation": "v",
         "showlegend": false,
         "type": "box",
         "x": [
          "Dept1",
          "Dept10",
          "Dept11",
          "Dept12",
          "Dept13",
          "Dept14",
          "Dept15",
          "Dept16",
          "Dept17",
          "Dept18",
          "Dept19",
          "Dept2",
          "Dept20",
          "Dept21",
          "Dept23",
          "Dept24",
          "Dept25",
          "Dept26",
          "Dept27",
          "Dept28",
          "Dept29",
          "Dept3",
          "Dept30",
          "Dept31",
          "Dept32",
          "Dept33",
          "Dept34",
          "Dept35",
          "Dept36",
          "Dept37",
          "Dept38",
          "Dept39",
          "Dept4",
          "Dept40",
          "Dept41",
          "Dept42",
          "Dept43",
          "Dept44",
          "Dept45",
          "Dept5",
          "Dept6",
          "Dept7",
          "Dept8",
          "Dept9"
         ],
         "x0": " ",
         "xaxis": "x",
         "y": [
          0.8348469293695774,
          0.4487051753156311,
          0.6129581202641622,
          0.0980648962776904,
          0.9178648376336193,
          0.007606396769329487,
          0.4843501099333757,
          0.43927090083532844,
          0.3274069596045663,
          0.1371198604536249,
          0.42543908271237224,
          0.0002063869152769195,
          0.5792129421114371,
          1.6206218871177405,
          0.010859324554920476,
          0.9884297172884258,
          0.49016775207866886,
          0.23231878104389733,
          0.022261961249843483,
          0.003072667429267291,
          0.22437928631795123,
          1.1782306318410332,
          0.0850288618921585,
          0.4423040427927713,
          0.02454152060739897,
          0.38369361326941104,
          1.3125255488122378,
          3.230369869612425,
          0.30971168829364953,
          0.09551957962355496,
          0.26588585109812046,
          0.2065497841824562,
          1.2629470141573824,
          0.0029282668925735534,
          0.1402548139414393,
          0.3542421286045131,
          0.21212603136062905,
          0.5470115623047164,
          0.3831657496301404,
          1.9775114854200362,
          0.24605059863849732,
          0.001174586415801286,
          0.7356770103737625,
          0.05947642205873383
         ],
         "y0": " ",
         "yaxis": "y"
        }
       ],
       "layout": {
        "boxmode": "group",
        "legend": {
         "tracegroupgap": 0
        },
        "template": {
         "data": {
          "bar": [
           {
            "error_x": {
             "color": "#2a3f5f"
            },
            "error_y": {
             "color": "#2a3f5f"
            },
            "marker": {
             "line": {
              "color": "#E5ECF6",
              "width": 0.5
             },
             "pattern": {
              "fillmode": "overlay",
              "size": 10,
              "solidity": 0.2
             }
            },
            "type": "bar"
           }
          ],
          "barpolar": [
           {
            "marker": {
             "line": {
              "color": "#E5ECF6",
              "width": 0.5
             },
             "pattern": {
              "fillmode": "overlay",
              "size": 10,
              "solidity": 0.2
             }
            },
            "type": "barpolar"
           }
          ],
          "carpet": [
           {
            "aaxis": {
             "endlinecolor": "#2a3f5f",
             "gridcolor": "white",
             "linecolor": "white",
             "minorgridcolor": "white",
             "startlinecolor": "#2a3f5f"
            },
            "baxis": {
             "endlinecolor": "#2a3f5f",
             "gridcolor": "white",
             "linecolor": "white",
             "minorgridcolor": "white",
             "startlinecolor": "#2a3f5f"
            },
            "type": "carpet"
           }
          ],
          "choropleth": [
           {
            "colorbar": {
             "outlinewidth": 0,
             "ticks": ""
            },
            "type": "choropleth"
           }
          ],
          "contour": [
           {
            "colorbar": {
             "outlinewidth": 0,
             "ticks": ""
            },
            "colorscale": [
             [
              0,
              "#0d0887"
             ],
             [
              0.1111111111111111,
              "#46039f"
             ],
             [
              0.2222222222222222,
              "#7201a8"
             ],
             [
              0.3333333333333333,
              "#9c179e"
             ],
             [
              0.4444444444444444,
              "#bd3786"
             ],
             [
              0.5555555555555556,
              "#d8576b"
             ],
             [
              0.6666666666666666,
              "#ed7953"
             ],
             [
              0.7777777777777778,
              "#fb9f3a"
             ],
             [
              0.8888888888888888,
              "#fdca26"
             ],
             [
              1,
              "#f0f921"
             ]
            ],
            "type": "contour"
           }
          ],
          "contourcarpet": [
           {
            "colorbar": {
             "outlinewidth": 0,
             "ticks": ""
            },
            "type": "contourcarpet"
           }
          ],
          "heatmap": [
           {
            "colorbar": {
             "outlinewidth": 0,
             "ticks": ""
            },
            "colorscale": [
             [
              0,
              "#0d0887"
             ],
             [
              0.1111111111111111,
              "#46039f"
             ],
             [
              0.2222222222222222,
              "#7201a8"
             ],
             [
              0.3333333333333333,
              "#9c179e"
             ],
             [
              0.4444444444444444,
              "#bd3786"
             ],
             [
              0.5555555555555556,
              "#d8576b"
             ],
             [
              0.6666666666666666,
              "#ed7953"
             ],
             [
              0.7777777777777778,
              "#fb9f3a"
             ],
             [
              0.8888888888888888,
              "#fdca26"
             ],
             [
              1,
              "#f0f921"
             ]
            ],
            "type": "heatmap"
           }
          ],
          "heatmapgl": [
           {
            "colorbar": {
             "outlinewidth": 0,
             "ticks": ""
            },
            "colorscale": [
             [
              0,
              "#0d0887"
             ],
             [
              0.1111111111111111,
              "#46039f"
             ],
             [
              0.2222222222222222,
              "#7201a8"
             ],
             [
              0.3333333333333333,
              "#9c179e"
             ],
             [
              0.4444444444444444,
              "#bd3786"
             ],
             [
              0.5555555555555556,
              "#d8576b"
             ],
             [
              0.6666666666666666,
              "#ed7953"
             ],
             [
              0.7777777777777778,
              "#fb9f3a"
             ],
             [
              0.8888888888888888,
              "#fdca26"
             ],
             [
              1,
              "#f0f921"
             ]
            ],
            "type": "heatmapgl"
           }
          ],
          "histogram": [
           {
            "marker": {
             "pattern": {
              "fillmode": "overlay",
              "size": 10,
              "solidity": 0.2
             }
            },
            "type": "histogram"
           }
          ],
          "histogram2d": [
           {
            "colorbar": {
             "outlinewidth": 0,
             "ticks": ""
            },
            "colorscale": [
             [
              0,
              "#0d0887"
             ],
             [
              0.1111111111111111,
              "#46039f"
             ],
             [
              0.2222222222222222,
              "#7201a8"
             ],
             [
              0.3333333333333333,
              "#9c179e"
             ],
             [
              0.4444444444444444,
              "#bd3786"
             ],
             [
              0.5555555555555556,
              "#d8576b"
             ],
             [
              0.6666666666666666,
              "#ed7953"
             ],
             [
              0.7777777777777778,
              "#fb9f3a"
             ],
             [
              0.8888888888888888,
              "#fdca26"
             ],
             [
              1,
              "#f0f921"
             ]
            ],
            "type": "histogram2d"
           }
          ],
          "histogram2dcontour": [
           {
            "colorbar": {
             "outlinewidth": 0,
             "ticks": ""
            },
            "colorscale": [
             [
              0,
              "#0d0887"
             ],
             [
              0.1111111111111111,
              "#46039f"
             ],
             [
              0.2222222222222222,
              "#7201a8"
             ],
             [
              0.3333333333333333,
              "#9c179e"
             ],
             [
              0.4444444444444444,
              "#bd3786"
             ],
             [
              0.5555555555555556,
              "#d8576b"
             ],
             [
              0.6666666666666666,
              "#ed7953"
             ],
             [
              0.7777777777777778,
              "#fb9f3a"
             ],
             [
              0.8888888888888888,
              "#fdca26"
             ],
             [
              1,
              "#f0f921"
             ]
            ],
            "type": "histogram2dcontour"
           }
          ],
          "mesh3d": [
           {
            "colorbar": {
             "outlinewidth": 0,
             "ticks": ""
            },
            "type": "mesh3d"
           }
          ],
          "parcoords": [
           {
            "line": {
             "colorbar": {
              "outlinewidth": 0,
              "ticks": ""
             }
            },
            "type": "parcoords"
           }
          ],
          "pie": [
           {
            "automargin": true,
            "type": "pie"
           }
          ],
          "scatter": [
           {
            "fillpattern": {
             "fillmode": "overlay",
             "size": 10,
             "solidity": 0.2
            },
            "type": "scatter"
           }
          ],
          "scatter3d": [
           {
            "line": {
             "colorbar": {
              "outlinewidth": 0,
              "ticks": ""
             }
            },
            "marker": {
             "colorbar": {
              "outlinewidth": 0,
              "ticks": ""
             }
            },
            "type": "scatter3d"
           }
          ],
          "scattercarpet": [
           {
            "marker": {
             "colorbar": {
              "outlinewidth": 0,
              "ticks": ""
             }
            },
            "type": "scattercarpet"
           }
          ],
          "scattergeo": [
           {
            "marker": {
             "colorbar": {
              "outlinewidth": 0,
              "ticks": ""
             }
            },
            "type": "scattergeo"
           }
          ],
          "scattergl": [
           {
            "marker": {
             "colorbar": {
              "outlinewidth": 0,
              "ticks": ""
             }
            },
            "type": "scattergl"
           }
          ],
          "scattermapbox": [
           {
            "marker": {
             "colorbar": {
              "outlinewidth": 0,
              "ticks": ""
             }
            },
            "type": "scattermapbox"
           }
          ],
          "scatterpolar": [
           {
            "marker": {
             "colorbar": {
              "outlinewidth": 0,
              "ticks": ""
             }
            },
            "type": "scatterpolar"
           }
          ],
          "scatterpolargl": [
           {
            "marker": {
             "colorbar": {
              "outlinewidth": 0,
              "ticks": ""
             }
            },
            "type": "scatterpolargl"
           }
          ],
          "scatterternary": [
           {
            "marker": {
             "colorbar": {
              "outlinewidth": 0,
              "ticks": ""
             }
            },
            "type": "scatterternary"
           }
          ],
          "surface": [
           {
            "colorbar": {
             "outlinewidth": 0,
             "ticks": ""
            },
            "colorscale": [
             [
              0,
              "#0d0887"
             ],
             [
              0.1111111111111111,
              "#46039f"
             ],
             [
              0.2222222222222222,
              "#7201a8"
             ],
             [
              0.3333333333333333,
              "#9c179e"
             ],
             [
              0.4444444444444444,
              "#bd3786"
             ],
             [
              0.5555555555555556,
              "#d8576b"
             ],
             [
              0.6666666666666666,
              "#ed7953"
             ],
             [
              0.7777777777777778,
              "#fb9f3a"
             ],
             [
              0.8888888888888888,
              "#fdca26"
             ],
             [
              1,
              "#f0f921"
             ]
            ],
            "type": "surface"
           }
          ],
          "table": [
           {
            "cells": {
             "fill": {
              "color": "#EBF0F8"
             },
             "line": {
              "color": "white"
             }
            },
            "header": {
             "fill": {
              "color": "#C8D4E3"
             },
             "line": {
              "color": "white"
             }
            },
            "type": "table"
           }
          ]
         },
         "layout": {
          "annotationdefaults": {
           "arrowcolor": "#2a3f5f",
           "arrowhead": 0,
           "arrowwidth": 1
          },
          "autotypenumbers": "strict",
          "coloraxis": {
           "colorbar": {
            "outlinewidth": 0,
            "ticks": ""
           }
          },
          "colorscale": {
           "diverging": [
            [
             0,
             "#8e0152"
            ],
            [
             0.1,
             "#c51b7d"
            ],
            [
             0.2,
             "#de77ae"
            ],
            [
             0.3,
             "#f1b6da"
            ],
            [
             0.4,
             "#fde0ef"
            ],
            [
             0.5,
             "#f7f7f7"
            ],
            [
             0.6,
             "#e6f5d0"
            ],
            [
             0.7,
             "#b8e186"
            ],
            [
             0.8,
             "#7fbc41"
            ],
            [
             0.9,
             "#4d9221"
            ],
            [
             1,
             "#276419"
            ]
           ],
           "sequential": [
            [
             0,
             "#0d0887"
            ],
            [
             0.1111111111111111,
             "#46039f"
            ],
            [
             0.2222222222222222,
             "#7201a8"
            ],
            [
             0.3333333333333333,
             "#9c179e"
            ],
            [
             0.4444444444444444,
             "#bd3786"
            ],
            [
             0.5555555555555556,
             "#d8576b"
            ],
            [
             0.6666666666666666,
             "#ed7953"
            ],
            [
             0.7777777777777778,
             "#fb9f3a"
            ],
            [
             0.8888888888888888,
             "#fdca26"
            ],
            [
             1,
             "#f0f921"
            ]
           ],
           "sequentialminus": [
            [
             0,
             "#0d0887"
            ],
            [
             0.1111111111111111,
             "#46039f"
            ],
            [
             0.2222222222222222,
             "#7201a8"
            ],
            [
             0.3333333333333333,
             "#9c179e"
            ],
            [
             0.4444444444444444,
             "#bd3786"
            ],
            [
             0.5555555555555556,
             "#d8576b"
            ],
            [
             0.6666666666666666,
             "#ed7953"
            ],
            [
             0.7777777777777778,
             "#fb9f3a"
            ],
            [
             0.8888888888888888,
             "#fdca26"
            ],
            [
             1,
             "#f0f921"
            ]
           ]
          },
          "colorway": [
           "#636efa",
           "#EF553B",
           "#00cc96",
           "#ab63fa",
           "#FFA15A",
           "#19d3f3",
           "#FF6692",
           "#B6E880",
           "#FF97FF",
           "#FECB52"
          ],
          "font": {
           "color": "#2a3f5f"
          },
          "geo": {
           "bgcolor": "white",
           "lakecolor": "white",
           "landcolor": "#E5ECF6",
           "showlakes": true,
           "showland": true,
           "subunitcolor": "white"
          },
          "hoverlabel": {
           "align": "left"
          },
          "hovermode": "closest",
          "mapbox": {
           "style": "light"
          },
          "paper_bgcolor": "white",
          "plot_bgcolor": "#E5ECF6",
          "polar": {
           "angularaxis": {
            "gridcolor": "white",
            "linecolor": "white",
            "ticks": ""
           },
           "bgcolor": "#E5ECF6",
           "radialaxis": {
            "gridcolor": "white",
            "linecolor": "white",
            "ticks": ""
           }
          },
          "scene": {
           "xaxis": {
            "backgroundcolor": "#E5ECF6",
            "gridcolor": "white",
            "gridwidth": 2,
            "linecolor": "white",
            "showbackground": true,
            "ticks": "",
            "zerolinecolor": "white"
           },
           "yaxis": {
            "backgroundcolor": "#E5ECF6",
            "gridcolor": "white",
            "gridwidth": 2,
            "linecolor": "white",
            "showbackground": true,
            "ticks": "",
            "zerolinecolor": "white"
           },
           "zaxis": {
            "backgroundcolor": "#E5ECF6",
            "gridcolor": "white",
            "gridwidth": 2,
            "linecolor": "white",
            "showbackground": true,
            "ticks": "",
            "zerolinecolor": "white"
           }
          },
          "shapedefaults": {
           "line": {
            "color": "#2a3f5f"
           }
          },
          "ternary": {
           "aaxis": {
            "gridcolor": "white",
            "linecolor": "white",
            "ticks": ""
           },
           "baxis": {
            "gridcolor": "white",
            "linecolor": "white",
            "ticks": ""
           },
           "bgcolor": "#E5ECF6",
           "caxis": {
            "gridcolor": "white",
            "linecolor": "white",
            "ticks": ""
           }
          },
          "title": {
           "x": 0.05
          },
          "xaxis": {
           "automargin": true,
           "gridcolor": "white",
           "linecolor": "white",
           "ticks": "",
           "title": {
            "standoff": 15
           },
           "zerolinecolor": "white",
           "zerolinewidth": 2
          },
          "yaxis": {
           "automargin": true,
           "gridcolor": "white",
           "linecolor": "white",
           "ticks": "",
           "title": {
            "standoff": 15
           },
           "zerolinecolor": "white",
           "zerolinewidth": 2
          }
         }
        },
        "title": {
         "text": "Variance Distribution by Department"
        },
        "xaxis": {
         "anchor": "y",
         "domain": [
          0,
          1
         ],
         "tickangle": -45,
         "title": {
          "text": "Department"
         }
        },
        "yaxis": {
         "anchor": "x",
         "domain": [
          0,
          1
         ],
         "title": {
          "text": "Variance"
         }
        }
       }
      }
     },
     "metadata": {},
     "output_type": "display_data"
    }
   ],
   "source": [
    "# Variance at DEPARTMENT level\n",
    "department_variance = df.groupby('DEPARTMENT')['Units_Sold_Normalized'].var().reset_index().rename(columns={'Units_Sold_Normalized': 'Department_Variance'})\n",
    "plotly_boxplot_variance(department_variance, 'DEPARTMENT', 'Department_Variance', 'Variance Distribution by Department', 'Department')"
   ]
  },
  {
   "cell_type": "code",
   "execution_count": 122,
   "metadata": {},
   "outputs": [
    {
     "data": {
      "application/vnd.plotly.v1+json": {
       "config": {
        "plotlyServerURL": "https://plot.ly"
       },
       "data": [
        {
         "alignmentgroup": "True",
         "hovertemplate": "Store=%{x}<br>Store_Variance=%{y}<extra></extra>",
         "legendgroup": "",
         "marker": {
          "color": "#636efa"
         },
         "name": "",
         "notched": false,
         "offsetgroup": "",
         "orientation": "v",
         "showlegend": false,
         "type": "box",
         "x": [
          "Store_1",
          "Store_10",
          "Store_11",
          "Store_12",
          "Store_13",
          "Store_14",
          "Store_15",
          "Store_16",
          "Store_17",
          "Store_18",
          "Store_19",
          "Store_2",
          "Store_20",
          "Store_21",
          "Store_3",
          "Store_4",
          "Store_5",
          "Store_6",
          "Store_7",
          "Store_8",
          "Store_9"
         ],
         "x0": " ",
         "xaxis": "x",
         "y": [
          0.13860796995026126,
          0.3508907408707946,
          0.7236119919385167,
          0.059561109490977135,
          0.42947035088624913,
          0.12877556935331988,
          0.3770203121078752,
          0.32418535282888367,
          1.201162825157657,
          0.13971568733928716,
          0.344853508589112,
          1.0857116351763128,
          0.22041861484821337,
          0.5381641041227493,
          1.4119611143440958,
          0.8715397501711958,
          0.3996857253575299,
          2.8130623771887544,
          0.28451557859568694,
          0.2318302549500624,
          2.2956362728062834
         ],
         "y0": " ",
         "yaxis": "y"
        }
       ],
       "layout": {
        "boxmode": "group",
        "legend": {
         "tracegroupgap": 0
        },
        "template": {
         "data": {
          "bar": [
           {
            "error_x": {
             "color": "#2a3f5f"
            },
            "error_y": {
             "color": "#2a3f5f"
            },
            "marker": {
             "line": {
              "color": "#E5ECF6",
              "width": 0.5
             },
             "pattern": {
              "fillmode": "overlay",
              "size": 10,
              "solidity": 0.2
             }
            },
            "type": "bar"
           }
          ],
          "barpolar": [
           {
            "marker": {
             "line": {
              "color": "#E5ECF6",
              "width": 0.5
             },
             "pattern": {
              "fillmode": "overlay",
              "size": 10,
              "solidity": 0.2
             }
            },
            "type": "barpolar"
           }
          ],
          "carpet": [
           {
            "aaxis": {
             "endlinecolor": "#2a3f5f",
             "gridcolor": "white",
             "linecolor": "white",
             "minorgridcolor": "white",
             "startlinecolor": "#2a3f5f"
            },
            "baxis": {
             "endlinecolor": "#2a3f5f",
             "gridcolor": "white",
             "linecolor": "white",
             "minorgridcolor": "white",
             "startlinecolor": "#2a3f5f"
            },
            "type": "carpet"
           }
          ],
          "choropleth": [
           {
            "colorbar": {
             "outlinewidth": 0,
             "ticks": ""
            },
            "type": "choropleth"
           }
          ],
          "contour": [
           {
            "colorbar": {
             "outlinewidth": 0,
             "ticks": ""
            },
            "colorscale": [
             [
              0,
              "#0d0887"
             ],
             [
              0.1111111111111111,
              "#46039f"
             ],
             [
              0.2222222222222222,
              "#7201a8"
             ],
             [
              0.3333333333333333,
              "#9c179e"
             ],
             [
              0.4444444444444444,
              "#bd3786"
             ],
             [
              0.5555555555555556,
              "#d8576b"
             ],
             [
              0.6666666666666666,
              "#ed7953"
             ],
             [
              0.7777777777777778,
              "#fb9f3a"
             ],
             [
              0.8888888888888888,
              "#fdca26"
             ],
             [
              1,
              "#f0f921"
             ]
            ],
            "type": "contour"
           }
          ],
          "contourcarpet": [
           {
            "colorbar": {
             "outlinewidth": 0,
             "ticks": ""
            },
            "type": "contourcarpet"
           }
          ],
          "heatmap": [
           {
            "colorbar": {
             "outlinewidth": 0,
             "ticks": ""
            },
            "colorscale": [
             [
              0,
              "#0d0887"
             ],
             [
              0.1111111111111111,
              "#46039f"
             ],
             [
              0.2222222222222222,
              "#7201a8"
             ],
             [
              0.3333333333333333,
              "#9c179e"
             ],
             [
              0.4444444444444444,
              "#bd3786"
             ],
             [
              0.5555555555555556,
              "#d8576b"
             ],
             [
              0.6666666666666666,
              "#ed7953"
             ],
             [
              0.7777777777777778,
              "#fb9f3a"
             ],
             [
              0.8888888888888888,
              "#fdca26"
             ],
             [
              1,
              "#f0f921"
             ]
            ],
            "type": "heatmap"
           }
          ],
          "heatmapgl": [
           {
            "colorbar": {
             "outlinewidth": 0,
             "ticks": ""
            },
            "colorscale": [
             [
              0,
              "#0d0887"
             ],
             [
              0.1111111111111111,
              "#46039f"
             ],
             [
              0.2222222222222222,
              "#7201a8"
             ],
             [
              0.3333333333333333,
              "#9c179e"
             ],
             [
              0.4444444444444444,
              "#bd3786"
             ],
             [
              0.5555555555555556,
              "#d8576b"
             ],
             [
              0.6666666666666666,
              "#ed7953"
             ],
             [
              0.7777777777777778,
              "#fb9f3a"
             ],
             [
              0.8888888888888888,
              "#fdca26"
             ],
             [
              1,
              "#f0f921"
             ]
            ],
            "type": "heatmapgl"
           }
          ],
          "histogram": [
           {
            "marker": {
             "pattern": {
              "fillmode": "overlay",
              "size": 10,
              "solidity": 0.2
             }
            },
            "type": "histogram"
           }
          ],
          "histogram2d": [
           {
            "colorbar": {
             "outlinewidth": 0,
             "ticks": ""
            },
            "colorscale": [
             [
              0,
              "#0d0887"
             ],
             [
              0.1111111111111111,
              "#46039f"
             ],
             [
              0.2222222222222222,
              "#7201a8"
             ],
             [
              0.3333333333333333,
              "#9c179e"
             ],
             [
              0.4444444444444444,
              "#bd3786"
             ],
             [
              0.5555555555555556,
              "#d8576b"
             ],
             [
              0.6666666666666666,
              "#ed7953"
             ],
             [
              0.7777777777777778,
              "#fb9f3a"
             ],
             [
              0.8888888888888888,
              "#fdca26"
             ],
             [
              1,
              "#f0f921"
             ]
            ],
            "type": "histogram2d"
           }
          ],
          "histogram2dcontour": [
           {
            "colorbar": {
             "outlinewidth": 0,
             "ticks": ""
            },
            "colorscale": [
             [
              0,
              "#0d0887"
             ],
             [
              0.1111111111111111,
              "#46039f"
             ],
             [
              0.2222222222222222,
              "#7201a8"
             ],
             [
              0.3333333333333333,
              "#9c179e"
             ],
             [
              0.4444444444444444,
              "#bd3786"
             ],
             [
              0.5555555555555556,
              "#d8576b"
             ],
             [
              0.6666666666666666,
              "#ed7953"
             ],
             [
              0.7777777777777778,
              "#fb9f3a"
             ],
             [
              0.8888888888888888,
              "#fdca26"
             ],
             [
              1,
              "#f0f921"
             ]
            ],
            "type": "histogram2dcontour"
           }
          ],
          "mesh3d": [
           {
            "colorbar": {
             "outlinewidth": 0,
             "ticks": ""
            },
            "type": "mesh3d"
           }
          ],
          "parcoords": [
           {
            "line": {
             "colorbar": {
              "outlinewidth": 0,
              "ticks": ""
             }
            },
            "type": "parcoords"
           }
          ],
          "pie": [
           {
            "automargin": true,
            "type": "pie"
           }
          ],
          "scatter": [
           {
            "fillpattern": {
             "fillmode": "overlay",
             "size": 10,
             "solidity": 0.2
            },
            "type": "scatter"
           }
          ],
          "scatter3d": [
           {
            "line": {
             "colorbar": {
              "outlinewidth": 0,
              "ticks": ""
             }
            },
            "marker": {
             "colorbar": {
              "outlinewidth": 0,
              "ticks": ""
             }
            },
            "type": "scatter3d"
           }
          ],
          "scattercarpet": [
           {
            "marker": {
             "colorbar": {
              "outlinewidth": 0,
              "ticks": ""
             }
            },
            "type": "scattercarpet"
           }
          ],
          "scattergeo": [
           {
            "marker": {
             "colorbar": {
              "outlinewidth": 0,
              "ticks": ""
             }
            },
            "type": "scattergeo"
           }
          ],
          "scattergl": [
           {
            "marker": {
             "colorbar": {
              "outlinewidth": 0,
              "ticks": ""
             }
            },
            "type": "scattergl"
           }
          ],
          "scattermapbox": [
           {
            "marker": {
             "colorbar": {
              "outlinewidth": 0,
              "ticks": ""
             }
            },
            "type": "scattermapbox"
           }
          ],
          "scatterpolar": [
           {
            "marker": {
             "colorbar": {
              "outlinewidth": 0,
              "ticks": ""
             }
            },
            "type": "scatterpolar"
           }
          ],
          "scatterpolargl": [
           {
            "marker": {
             "colorbar": {
              "outlinewidth": 0,
              "ticks": ""
             }
            },
            "type": "scatterpolargl"
           }
          ],
          "scatterternary": [
           {
            "marker": {
             "colorbar": {
              "outlinewidth": 0,
              "ticks": ""
             }
            },
            "type": "scatterternary"
           }
          ],
          "surface": [
           {
            "colorbar": {
             "outlinewidth": 0,
             "ticks": ""
            },
            "colorscale": [
             [
              0,
              "#0d0887"
             ],
             [
              0.1111111111111111,
              "#46039f"
             ],
             [
              0.2222222222222222,
              "#7201a8"
             ],
             [
              0.3333333333333333,
              "#9c179e"
             ],
             [
              0.4444444444444444,
              "#bd3786"
             ],
             [
              0.5555555555555556,
              "#d8576b"
             ],
             [
              0.6666666666666666,
              "#ed7953"
             ],
             [
              0.7777777777777778,
              "#fb9f3a"
             ],
             [
              0.8888888888888888,
              "#fdca26"
             ],
             [
              1,
              "#f0f921"
             ]
            ],
            "type": "surface"
           }
          ],
          "table": [
           {
            "cells": {
             "fill": {
              "color": "#EBF0F8"
             },
             "line": {
              "color": "white"
             }
            },
            "header": {
             "fill": {
              "color": "#C8D4E3"
             },
             "line": {
              "color": "white"
             }
            },
            "type": "table"
           }
          ]
         },
         "layout": {
          "annotationdefaults": {
           "arrowcolor": "#2a3f5f",
           "arrowhead": 0,
           "arrowwidth": 1
          },
          "autotypenumbers": "strict",
          "coloraxis": {
           "colorbar": {
            "outlinewidth": 0,
            "ticks": ""
           }
          },
          "colorscale": {
           "diverging": [
            [
             0,
             "#8e0152"
            ],
            [
             0.1,
             "#c51b7d"
            ],
            [
             0.2,
             "#de77ae"
            ],
            [
             0.3,
             "#f1b6da"
            ],
            [
             0.4,
             "#fde0ef"
            ],
            [
             0.5,
             "#f7f7f7"
            ],
            [
             0.6,
             "#e6f5d0"
            ],
            [
             0.7,
             "#b8e186"
            ],
            [
             0.8,
             "#7fbc41"
            ],
            [
             0.9,
             "#4d9221"
            ],
            [
             1,
             "#276419"
            ]
           ],
           "sequential": [
            [
             0,
             "#0d0887"
            ],
            [
             0.1111111111111111,
             "#46039f"
            ],
            [
             0.2222222222222222,
             "#7201a8"
            ],
            [
             0.3333333333333333,
             "#9c179e"
            ],
            [
             0.4444444444444444,
             "#bd3786"
            ],
            [
             0.5555555555555556,
             "#d8576b"
            ],
            [
             0.6666666666666666,
             "#ed7953"
            ],
            [
             0.7777777777777778,
             "#fb9f3a"
            ],
            [
             0.8888888888888888,
             "#fdca26"
            ],
            [
             1,
             "#f0f921"
            ]
           ],
           "sequentialminus": [
            [
             0,
             "#0d0887"
            ],
            [
             0.1111111111111111,
             "#46039f"
            ],
            [
             0.2222222222222222,
             "#7201a8"
            ],
            [
             0.3333333333333333,
             "#9c179e"
            ],
            [
             0.4444444444444444,
             "#bd3786"
            ],
            [
             0.5555555555555556,
             "#d8576b"
            ],
            [
             0.6666666666666666,
             "#ed7953"
            ],
            [
             0.7777777777777778,
             "#fb9f3a"
            ],
            [
             0.8888888888888888,
             "#fdca26"
            ],
            [
             1,
             "#f0f921"
            ]
           ]
          },
          "colorway": [
           "#636efa",
           "#EF553B",
           "#00cc96",
           "#ab63fa",
           "#FFA15A",
           "#19d3f3",
           "#FF6692",
           "#B6E880",
           "#FF97FF",
           "#FECB52"
          ],
          "font": {
           "color": "#2a3f5f"
          },
          "geo": {
           "bgcolor": "white",
           "lakecolor": "white",
           "landcolor": "#E5ECF6",
           "showlakes": true,
           "showland": true,
           "subunitcolor": "white"
          },
          "hoverlabel": {
           "align": "left"
          },
          "hovermode": "closest",
          "mapbox": {
           "style": "light"
          },
          "paper_bgcolor": "white",
          "plot_bgcolor": "#E5ECF6",
          "polar": {
           "angularaxis": {
            "gridcolor": "white",
            "linecolor": "white",
            "ticks": ""
           },
           "bgcolor": "#E5ECF6",
           "radialaxis": {
            "gridcolor": "white",
            "linecolor": "white",
            "ticks": ""
           }
          },
          "scene": {
           "xaxis": {
            "backgroundcolor": "#E5ECF6",
            "gridcolor": "white",
            "gridwidth": 2,
            "linecolor": "white",
            "showbackground": true,
            "ticks": "",
            "zerolinecolor": "white"
           },
           "yaxis": {
            "backgroundcolor": "#E5ECF6",
            "gridcolor": "white",
            "gridwidth": 2,
            "linecolor": "white",
            "showbackground": true,
            "ticks": "",
            "zerolinecolor": "white"
           },
           "zaxis": {
            "backgroundcolor": "#E5ECF6",
            "gridcolor": "white",
            "gridwidth": 2,
            "linecolor": "white",
            "showbackground": true,
            "ticks": "",
            "zerolinecolor": "white"
           }
          },
          "shapedefaults": {
           "line": {
            "color": "#2a3f5f"
           }
          },
          "ternary": {
           "aaxis": {
            "gridcolor": "white",
            "linecolor": "white",
            "ticks": ""
           },
           "baxis": {
            "gridcolor": "white",
            "linecolor": "white",
            "ticks": ""
           },
           "bgcolor": "#E5ECF6",
           "caxis": {
            "gridcolor": "white",
            "linecolor": "white",
            "ticks": ""
           }
          },
          "title": {
           "x": 0.05
          },
          "xaxis": {
           "automargin": true,
           "gridcolor": "white",
           "linecolor": "white",
           "ticks": "",
           "title": {
            "standoff": 15
           },
           "zerolinecolor": "white",
           "zerolinewidth": 2
          },
          "yaxis": {
           "automargin": true,
           "gridcolor": "white",
           "linecolor": "white",
           "ticks": "",
           "title": {
            "standoff": 15
           },
           "zerolinecolor": "white",
           "zerolinewidth": 2
          }
         }
        },
        "title": {
         "text": "Variance Distribution by Store"
        },
        "xaxis": {
         "anchor": "y",
         "domain": [
          0,
          1
         ],
         "tickangle": -45,
         "title": {
          "text": "Store"
         }
        },
        "yaxis": {
         "anchor": "x",
         "domain": [
          0,
          1
         ],
         "title": {
          "text": "Variance"
         }
        }
       }
      }
     },
     "metadata": {},
     "output_type": "display_data"
    }
   ],
   "source": [
    "# Variance at STORE level\n",
    "store_variance = df.groupby('Store')['Units_Sold_Normalized'].var().reset_index().rename(columns={'Units_Sold_Normalized': 'Store_Variance'})\n",
    "plotly_boxplot_variance(store_variance, 'Store', 'Store_Variance', 'Variance Distribution by Store', 'Store')"
   ]
  }
 ],
 "metadata": {
  "kernelspec": {
   "display_name": ".venv",
   "language": "python",
   "name": "python3"
  },
  "language_info": {
   "codemirror_mode": {
    "name": "ipython",
    "version": 3
   },
   "file_extension": ".py",
   "mimetype": "text/x-python",
   "name": "python",
   "nbconvert_exporter": "python",
   "pygments_lexer": "ipython3",
   "version": "3.12.5"
  }
 },
 "nbformat": 4,
 "nbformat_minor": 2
}
